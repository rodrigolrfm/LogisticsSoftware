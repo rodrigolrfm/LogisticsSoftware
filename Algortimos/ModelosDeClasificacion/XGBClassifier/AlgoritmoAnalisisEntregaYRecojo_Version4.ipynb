{
  "cells": [
    {
      "cell_type": "code",
      "execution_count": null,
      "metadata": {
        "id": "I8QDxfqkxQWK"
      },
      "outputs": [],
      "source": [
        "import pandas as pd\n",
        "import numpy as np\n",
        "import matplotlib.pyplot as plt\n",
        "import seaborn as sns\n",
        "import statsmodels.api as sm\n",
        "import pickle\n",
        "\n",
        "#Librería de geolocalizacion\n",
        "from geopy.geocoders import Nominatim\n",
        "\n",
        "import csv\n",
        "import io\n",
        "import json\n",
        "\n",
        "#Librería de clima\n",
        "import requests\n",
        "from pprint import pprint\n",
        "\n",
        "# Librerías para convertir en unix time\n",
        "import datetime\n",
        "from datetime import timezone\n",
        "import dateutil.parser"
      ]
    },
    {
      "cell_type": "code",
      "source": [
        "!pip install geopy\n",
        "!pip install requests\n",
        "!pip install xgboost==1.2.0"
      ],
      "metadata": {
        "colab": {
          "base_uri": "https://localhost:8080/"
        },
        "id": "OLcuv25I8925",
        "outputId": "77b00ed4-77ea-410b-93f8-1058da3a5fa1"
      },
      "execution_count": null,
      "outputs": [
        {
          "output_type": "stream",
          "name": "stdout",
          "text": [
            "Looking in indexes: https://pypi.org/simple, https://us-python.pkg.dev/colab-wheels/public/simple/\n",
            "Requirement already satisfied: geopy in /usr/local/lib/python3.7/dist-packages (1.17.0)\n",
            "Requirement already satisfied: geographiclib<2,>=1.49 in /usr/local/lib/python3.7/dist-packages (from geopy) (1.52)\n",
            "Looking in indexes: https://pypi.org/simple, https://us-python.pkg.dev/colab-wheels/public/simple/\n",
            "Requirement already satisfied: requests in /usr/local/lib/python3.7/dist-packages (2.23.0)\n",
            "Requirement already satisfied: urllib3!=1.25.0,!=1.25.1,<1.26,>=1.21.1 in /usr/local/lib/python3.7/dist-packages (from requests) (1.24.3)\n",
            "Requirement already satisfied: certifi>=2017.4.17 in /usr/local/lib/python3.7/dist-packages (from requests) (2022.9.24)\n",
            "Requirement already satisfied: idna<3,>=2.5 in /usr/local/lib/python3.7/dist-packages (from requests) (2.10)\n",
            "Requirement already satisfied: chardet<4,>=3.0.2 in /usr/local/lib/python3.7/dist-packages (from requests) (3.0.4)\n",
            "Looking in indexes: https://pypi.org/simple, https://us-python.pkg.dev/colab-wheels/public/simple/\n",
            "Requirement already satisfied: xgboost==1.2.0 in /usr/local/lib/python3.7/dist-packages (1.2.0)\n",
            "Requirement already satisfied: numpy in /usr/local/lib/python3.7/dist-packages (from xgboost==1.2.0) (1.21.6)\n",
            "Requirement already satisfied: scipy in /usr/local/lib/python3.7/dist-packages (from xgboost==1.2.0) (1.7.3)\n"
          ]
        }
      ]
    },
    {
      "cell_type": "code",
      "source": [
        "!pip freeze"
      ],
      "metadata": {
        "colab": {
          "base_uri": "https://localhost:8080/"
        },
        "id": "_CgCzOKgR-Pf",
        "outputId": "c813779c-6e95-487f-8265-c4b5b50e088c"
      },
      "execution_count": null,
      "outputs": [
        {
          "output_type": "stream",
          "name": "stdout",
          "text": [
            "absl-py==1.3.0\n",
            "aeppl==0.0.33\n",
            "aesara==2.7.9\n",
            "aiohttp==3.8.3\n",
            "aiosignal==1.2.0\n",
            "alabaster==0.7.12\n",
            "albumentations==1.2.1\n",
            "altair==4.2.0\n",
            "appdirs==1.4.4\n",
            "arviz==0.12.1\n",
            "astor==0.8.1\n",
            "astropy==4.3.1\n",
            "astunparse==1.6.3\n",
            "async-timeout==4.0.2\n",
            "asynctest==0.13.0\n",
            "atari-py==0.2.9\n",
            "atomicwrites==1.4.1\n",
            "attrs==22.1.0\n",
            "audioread==3.0.0\n",
            "autograd==1.5\n",
            "Babel==2.10.3\n",
            "backcall==0.2.0\n",
            "beautifulsoup4==4.6.3\n",
            "bleach==5.0.1\n",
            "blis==0.7.9\n",
            "bokeh==2.3.3\n",
            "branca==0.5.0\n",
            "bs4==0.0.1\n",
            "CacheControl==0.12.11\n",
            "cached-property==1.5.2\n",
            "cachetools==4.2.4\n",
            "catalogue==2.0.8\n",
            "certifi==2022.9.24\n",
            "cffi==1.15.1\n",
            "cftime==1.6.2\n",
            "chardet==3.0.4\n",
            "charset-normalizer==2.1.1\n",
            "click==7.1.2\n",
            "clikit==0.6.2\n",
            "cloudpickle==1.5.0\n",
            "cmake==3.22.6\n",
            "cmdstanpy==1.0.7\n",
            "colorcet==3.0.1\n",
            "colorlover==0.3.0\n",
            "community==1.0.0b1\n",
            "confection==0.0.3\n",
            "cons==0.4.5\n",
            "contextlib2==0.5.5\n",
            "convertdate==2.4.0\n",
            "crashtest==0.3.1\n",
            "crcmod==1.7\n",
            "cufflinks==0.17.3\n",
            "cvxopt==1.3.0\n",
            "cvxpy==1.2.1\n",
            "cycler==0.11.0\n",
            "cymem==2.0.7\n",
            "Cython==0.29.32\n",
            "daft==0.0.4\n",
            "dask==2022.2.0\n",
            "datascience==0.17.5\n",
            "debugpy==1.0.0\n",
            "decorator==4.4.2\n",
            "defusedxml==0.7.1\n",
            "descartes==1.1.0\n",
            "dill==0.3.5.1\n",
            "distributed==2022.2.0\n",
            "dlib==19.24.0\n",
            "dm-tree==0.1.7\n",
            "dnspython==2.2.1\n",
            "docutils==0.17.1\n",
            "dopamine-rl==1.0.5\n",
            "earthengine-api==0.1.328\n",
            "easydict==1.10\n",
            "ecos==2.0.10\n",
            "editdistance==0.5.3\n",
            "en-core-web-sm @ https://github.com/explosion/spacy-models/releases/download/en_core_web_sm-3.4.1/en_core_web_sm-3.4.1-py3-none-any.whl\n",
            "entrypoints==0.4\n",
            "ephem==4.1.3\n",
            "et-xmlfile==1.1.0\n",
            "etils==0.8.0\n",
            "etuples==0.3.8\n",
            "fa2==0.3.5\n",
            "fastai==2.7.9\n",
            "fastcore==1.5.27\n",
            "fastdownload==0.0.7\n",
            "fastdtw==0.3.4\n",
            "fastjsonschema==2.16.2\n",
            "fastprogress==1.0.3\n",
            "fastrlock==0.8\n",
            "feather-format==0.4.1\n",
            "filelock==3.8.0\n",
            "firebase-admin==4.4.0\n",
            "fix-yahoo-finance==0.0.22\n",
            "Flask==1.1.4\n",
            "flatbuffers==1.12\n",
            "folium==0.12.1.post1\n",
            "frozenlist==1.3.1\n",
            "fsspec==2022.10.0\n",
            "future==0.16.0\n",
            "gast==0.4.0\n",
            "GDAL==2.2.2\n",
            "gdown==4.4.0\n",
            "gensim==3.6.0\n",
            "geographiclib==1.52\n",
            "geopy==1.17.0\n",
            "gin-config==0.5.0\n",
            "glob2==0.7\n",
            "google==2.0.3\n",
            "google-api-core==1.31.6\n",
            "google-api-python-client==1.12.11\n",
            "google-auth==1.35.0\n",
            "google-auth-httplib2==0.0.4\n",
            "google-auth-oauthlib==0.4.6\n",
            "google-cloud-bigquery==1.21.0\n",
            "google-cloud-bigquery-storage==1.1.2\n",
            "google-cloud-core==1.0.3\n",
            "google-cloud-datastore==1.8.0\n",
            "google-cloud-firestore==1.7.0\n",
            "google-cloud-language==1.2.0\n",
            "google-cloud-storage==1.18.1\n",
            "google-cloud-translate==1.5.0\n",
            "google-colab @ file:///colabtools/dist/google-colab-1.0.0.tar.gz\n",
            "google-pasta==0.2.0\n",
            "google-resumable-media==0.4.1\n",
            "googleapis-common-protos==1.56.4\n",
            "googledrivedownloader==0.4\n",
            "graphviz==0.10.1\n",
            "greenlet==1.1.3.post0\n",
            "grpcio==1.50.0\n",
            "gspread==3.4.2\n",
            "gspread-dataframe==3.0.8\n",
            "gym==0.25.2\n",
            "gym-notices==0.0.8\n",
            "h5py==3.1.0\n",
            "HeapDict==1.0.1\n",
            "hijri-converter==2.2.4\n",
            "holidays==0.16\n",
            "holoviews==1.14.9\n",
            "html5lib==1.0.1\n",
            "httpimport==0.5.18\n",
            "httplib2==0.17.4\n",
            "httplib2shim==0.0.3\n",
            "httpstan==4.6.1\n",
            "humanize==0.5.1\n",
            "hyperopt==0.1.2\n",
            "idna==2.10\n",
            "imageio==2.9.0\n",
            "imagesize==1.4.1\n",
            "imbalanced-learn==0.8.1\n",
            "imblearn==0.0\n",
            "imgaug==0.4.0\n",
            "importlib-metadata==4.13.0\n",
            "importlib-resources==5.10.0\n",
            "imutils==0.5.4\n",
            "inflect==2.1.0\n",
            "intel-openmp==2022.2.0\n",
            "intervaltree==2.1.0\n",
            "ipykernel==5.3.4\n",
            "ipython==7.9.0\n",
            "ipython-genutils==0.2.0\n",
            "ipython-sql==0.3.9\n",
            "ipywidgets==7.7.1\n",
            "itsdangerous==1.1.0\n",
            "jax==0.3.23\n",
            "jaxlib @ https://storage.googleapis.com/jax-releases/cuda11/jaxlib-0.3.22+cuda11.cudnn805-cp37-cp37m-manylinux2014_x86_64.whl\n",
            "jieba==0.42.1\n",
            "Jinja2==2.11.3\n",
            "joblib==1.2.0\n",
            "jpeg4py==0.1.4\n",
            "jsonschema==4.3.3\n",
            "jupyter-client==6.1.12\n",
            "jupyter-console==6.1.0\n",
            "jupyter-core==4.11.2\n",
            "jupyterlab-widgets==3.0.3\n",
            "kaggle==1.5.12\n",
            "kapre==0.3.7\n",
            "keras==2.9.0\n",
            "Keras-Preprocessing==1.1.2\n",
            "keras-vis==0.4.1\n",
            "kiwisolver==1.4.4\n",
            "korean-lunar-calendar==0.3.1\n",
            "langcodes==3.3.0\n",
            "libclang==14.0.6\n",
            "librosa==0.8.1\n",
            "lightgbm==2.2.3\n",
            "llvmlite==0.39.1\n",
            "lmdb==0.99\n",
            "locket==1.0.0\n",
            "logical-unification==0.4.5\n",
            "LunarCalendar==0.0.9\n",
            "lxml==4.9.1\n",
            "Markdown==3.4.1\n",
            "MarkupSafe==2.0.1\n",
            "marshmallow==3.18.0\n",
            "matplotlib==3.2.2\n",
            "matplotlib-venn==0.11.7\n",
            "miniKanren==1.0.3\n",
            "missingno==0.5.1\n",
            "mistune==0.8.4\n",
            "mizani==0.7.3\n",
            "mkl==2019.0\n",
            "mlxtend==0.14.0\n",
            "more-itertools==9.0.0\n",
            "moviepy==0.2.3.5\n",
            "mpmath==1.2.1\n",
            "msgpack==1.0.4\n",
            "multidict==6.0.2\n",
            "multipledispatch==0.6.0\n",
            "multitasking==0.0.11\n",
            "murmurhash==1.0.9\n",
            "music21==5.5.0\n",
            "natsort==5.5.0\n",
            "nbconvert==5.6.1\n",
            "nbformat==5.7.0\n",
            "netCDF4==1.6.1\n",
            "networkx==2.6.3\n",
            "nibabel==3.0.2\n",
            "nltk==3.7\n",
            "notebook==5.5.0\n",
            "numba==0.56.3\n",
            "numexpr==2.8.3\n",
            "numpy==1.21.6\n",
            "oauth2client==4.1.3\n",
            "oauthlib==3.2.2\n",
            "okgrade==0.4.3\n",
            "opencv-contrib-python==4.6.0.66\n",
            "opencv-python==4.6.0.66\n",
            "opencv-python-headless==4.6.0.66\n",
            "openpyxl==3.0.10\n",
            "opt-einsum==3.3.0\n",
            "osqp==0.6.2.post0\n",
            "packaging==21.3\n",
            "palettable==3.3.0\n",
            "pandas==1.3.5\n",
            "pandas-datareader==0.9.0\n",
            "pandas-gbq==0.13.3\n",
            "pandas-profiling==1.4.1\n",
            "pandocfilters==1.5.0\n",
            "panel==0.12.1\n",
            "param==1.12.2\n",
            "parso==0.8.3\n",
            "partd==1.3.0\n",
            "pastel==0.2.1\n",
            "pathlib==1.0.1\n",
            "pathy==0.6.2\n",
            "patsy==0.5.3\n",
            "pep517==0.13.0\n",
            "pexpect==4.8.0\n",
            "pickleshare==0.7.5\n",
            "Pillow==7.1.2\n",
            "pip-tools==6.2.0\n",
            "plotly==5.5.0\n",
            "plotnine==0.8.0\n",
            "pluggy==0.7.1\n",
            "pooch==1.6.0\n",
            "portpicker==1.3.9\n",
            "prefetch-generator==1.0.1\n",
            "preshed==3.0.8\n",
            "prettytable==3.4.1\n",
            "progressbar2==3.38.0\n",
            "promise==2.3\n",
            "prompt-toolkit==2.0.10\n",
            "prophet==1.1.1\n",
            "protobuf==3.17.3\n",
            "psutil==5.4.8\n",
            "psycopg2==2.9.4\n",
            "ptyprocess==0.7.0\n",
            "py==1.11.0\n",
            "pyarrow==6.0.1\n",
            "pyasn1==0.4.8\n",
            "pyasn1-modules==0.2.8\n",
            "pycocotools==2.0.5\n",
            "pycparser==2.21\n",
            "pyct==0.4.8\n",
            "pydantic==1.10.2\n",
            "pydata-google-auth==1.4.0\n",
            "pydot==1.3.0\n",
            "pydot-ng==2.0.0\n",
            "pydotplus==2.0.2\n",
            "PyDrive==1.3.1\n",
            "pyemd==0.5.1\n",
            "pyerfa==2.0.0.1\n",
            "Pygments==2.6.1\n",
            "pygobject==3.26.1\n",
            "pylev==1.4.0\n",
            "pymc==4.1.4\n",
            "PyMeeus==0.5.11\n",
            "pymongo==4.3.2\n",
            "pymystem3==0.2.0\n",
            "PyOpenGL==3.1.6\n",
            "pyparsing==3.0.9\n",
            "pyrsistent==0.18.1\n",
            "pysimdjson==3.2.0\n",
            "pysndfile==1.3.8\n",
            "PySocks==1.7.1\n",
            "pystan==3.3.0\n",
            "pytest==3.6.4\n",
            "python-apt==0.0.0\n",
            "python-dateutil==2.8.2\n",
            "python-louvain==0.16\n",
            "python-slugify==6.1.2\n",
            "python-utils==3.3.3\n",
            "pytz==2022.5\n",
            "pyviz-comms==2.2.1\n",
            "PyWavelets==1.3.0\n",
            "PyYAML==6.0\n",
            "pyzmq==23.2.1\n",
            "qdldl==0.1.5.post2\n",
            "qudida==0.0.4\n",
            "regex==2022.6.2\n",
            "requests==2.23.0\n",
            "requests-oauthlib==1.3.1\n",
            "resampy==0.4.2\n",
            "rpy2==3.4.5\n",
            "rsa==4.9\n",
            "scikit-image==0.18.3\n",
            "scikit-learn==1.0.2\n",
            "scipy==1.7.3\n",
            "screen-resolution-extra==0.0.0\n",
            "scs==3.2.0\n",
            "seaborn==0.11.2\n",
            "Send2Trash==1.8.0\n",
            "setuptools-git==1.2\n",
            "Shapely==1.8.5.post1\n",
            "six==1.15.0\n",
            "sklearn-pandas==1.8.0\n",
            "smart-open==5.2.1\n",
            "snowballstemmer==2.2.0\n",
            "sortedcontainers==2.4.0\n",
            "soundfile==0.11.0\n",
            "spacy==3.4.2\n",
            "spacy-legacy==3.0.10\n",
            "spacy-loggers==1.0.3\n",
            "Sphinx==1.8.6\n",
            "sphinxcontrib-serializinghtml==1.1.5\n",
            "sphinxcontrib-websupport==1.2.4\n",
            "SQLAlchemy==1.4.42\n",
            "sqlparse==0.4.3\n",
            "srsly==2.4.5\n",
            "statsmodels==0.12.2\n",
            "sympy==1.7.1\n",
            "tables==3.7.0\n",
            "tabulate==0.8.10\n",
            "tblib==1.7.0\n",
            "tenacity==8.1.0\n",
            "tensorboard==2.9.1\n",
            "tensorboard-data-server==0.6.1\n",
            "tensorboard-plugin-wit==1.8.1\n",
            "tensorflow==2.9.2\n",
            "tensorflow-datasets==4.6.0\n",
            "tensorflow-estimator==2.9.0\n",
            "tensorflow-gcs-config==2.9.1\n",
            "tensorflow-hub==0.12.0\n",
            "tensorflow-io-gcs-filesystem==0.27.0\n",
            "tensorflow-metadata==1.10.0\n",
            "tensorflow-probability==0.16.0\n",
            "termcolor==2.0.1\n",
            "terminado==0.13.3\n",
            "testpath==0.6.0\n",
            "text-unidecode==1.3\n",
            "textblob==0.15.3\n",
            "thinc==8.1.5\n",
            "threadpoolctl==3.1.0\n",
            "tifffile==2021.11.2\n",
            "toml==0.10.2\n",
            "tomli==2.0.1\n",
            "toolz==0.12.0\n",
            "torch @ https://download.pytorch.org/whl/cu113/torch-1.12.1%2Bcu113-cp37-cp37m-linux_x86_64.whl\n",
            "torchaudio @ https://download.pytorch.org/whl/cu113/torchaudio-0.12.1%2Bcu113-cp37-cp37m-linux_x86_64.whl\n",
            "torchsummary==1.5.1\n",
            "torchtext==0.13.1\n",
            "torchvision @ https://download.pytorch.org/whl/cu113/torchvision-0.13.1%2Bcu113-cp37-cp37m-linux_x86_64.whl\n",
            "tornado==5.1.1\n",
            "tqdm==4.64.1\n",
            "traitlets==5.1.1\n",
            "tweepy==3.10.0\n",
            "typeguard==2.7.1\n",
            "typer==0.4.2\n",
            "typing-extensions==4.1.1\n",
            "tzlocal==1.5.1\n",
            "ujson==5.5.0\n",
            "uritemplate==3.0.1\n",
            "urllib3==1.24.3\n",
            "vega-datasets==0.9.0\n",
            "wasabi==0.10.1\n",
            "wcwidth==0.2.5\n",
            "webargs==8.2.0\n",
            "webencodings==0.5.1\n",
            "Werkzeug==1.0.1\n",
            "widgetsnbextension==3.6.1\n",
            "wordcloud==1.8.2.2\n",
            "wrapt==1.14.1\n",
            "xarray==0.20.2\n",
            "xarray-einstats==0.2.2\n",
            "xgboost==1.2.0\n",
            "xkit==0.0.0\n",
            "xlrd==1.1.0\n",
            "xlwt==1.3.0\n",
            "yarl==1.8.1\n",
            "yellowbrick==1.5\n",
            "zict==2.2.0\n",
            "zipp==3.9.0\n"
          ]
        }
      ]
    },
    {
      "cell_type": "code",
      "execution_count": null,
      "metadata": {
        "id": "4rjEv1-37geb",
        "colab": {
          "base_uri": "https://localhost:8080/"
        },
        "outputId": "e3b76db3-3302-495c-a65b-0cb9d940bff1"
      },
      "outputs": [
        {
          "output_type": "stream",
          "name": "stdout",
          "text": [
            "Drive already mounted at /content/drive; to attempt to forcibly remount, call drive.mount(\"/content/drive\", force_remount=True).\n"
          ]
        }
      ],
      "source": [
        "from google.colab import drive\n",
        "drive.mount('/content/drive')"
      ]
    },
    {
      "cell_type": "code",
      "execution_count": null,
      "metadata": {
        "id": "pqqML7fjqb0F",
        "colab": {
          "base_uri": "https://localhost:8080/"
        },
        "outputId": "d38cdf63-db2b-4c6c-8d87-2459886cd2e8"
      },
      "outputs": [
        {
          "output_type": "stream",
          "name": "stderr",
          "text": [
            "/usr/local/lib/python3.7/dist-packages/IPython/core/interactiveshell.py:3326: DtypeWarning: Columns (39) have mixed types.Specify dtype option on import or set low_memory=False.\n",
            "  exec(code_obj, self.user_global_ns, self.user_ns)\n"
          ]
        }
      ],
      "source": [
        "dataset = pd.read_csv('/content/drive/MyDrive/ML2022/TESIS/Version2/AEPICKUPDELIVERY3.csv',sep=';')"
      ]
    },
    {
      "cell_type": "code",
      "execution_count": null,
      "metadata": {
        "id": "qxvRjGp_rN90",
        "colab": {
          "base_uri": "https://localhost:8080/",
          "height": 542
        },
        "outputId": "2be70424-42ae-4024-ddec-e55dd9df92b4"
      },
      "outputs": [
        {
          "output_type": "execute_result",
          "data": {
            "text/plain": [
              "                                      CLIENTE      GUIA  FECHA_GUIA  \\\n",
              "0  SWISSJUST LATINOAMERICA S.A. SUCURSAL PERU  SW093885  07/04/2022   \n",
              "1                                  DINET S.A.  BT144308  05/04/2022   \n",
              "2                          HINODE PERU S.A.C.  H0216383  06/04/2022   \n",
              "3                          HINODE PERU S.A.C.  H0216680  09/04/2022   \n",
              "4                      NATURA COSMETICOS S.A.  36961085  02/04/2022   \n",
              "\n",
              "  ESTADO_GUIA FECHA_ENTREGA               SERVICIO ORIGEN           DESTINO  \\\n",
              "0   Entregada    21/04/2022              PROVINCIA   LIMA              JAEN   \n",
              "1   Entregada    07/04/2022  BIG- TICKET PROVINCIA   LIMA          TRUJILLO   \n",
              "2   Entregada    07/04/2022                 PEDIDO   LIMA          HUANCAYO   \n",
              "3   Entregada    12/04/2022              MAYORISTA   LIMA          PUCALLPA   \n",
              "4   Entregada    09/04/2022                 PEDIDO  LURIN  CAS SANCRISTOBAL   \n",
              "\n",
              "  ORIGEN_BASE DESTINO_BASE  ... FECHA MANIFIESTO_INFORMADO  \\\n",
              "0        LIMA         JAEN  ...                 08/04/2022   \n",
              "1        LIMA     TRUJILLO  ...                 05/04/2022   \n",
              "2        LIMA     HUANCAYO  ...                 06/04/2022   \n",
              "3        LIMA     PUCALLPA  ...                 09/04/2022   \n",
              "4        LIMA  TINGO MARIA  ...                 02/04/2022   \n",
              "\n",
              "  FECHA MANIFIESTO_RECOGIDO  FECHA MANIFIESTO_VERIFICADO RESP_REPARTO  \\\n",
              "0                11/04/2022                   11/04/2022       DBERRU   \n",
              "1                06/04/2022                   06/04/2022     LENRIQUE   \n",
              "2                07/04/2022                   07/04/2022    MEMENDOZA   \n",
              "3                11/04/2022                   11/04/2022      CPINEDO   \n",
              "4                06/04/2022                   06/04/2022    GTRUJILLO   \n",
              "\n",
              "  FECHA REPARTO  NUMERO REPARTO TIPO_INCIDENCIA_REPARTO  \\\n",
              "0    18/04/2022        169693.0    DIRECCION INCOMPLETA   \n",
              "1    07/04/2022        167278.0          REPROGRAMACION   \n",
              "2    07/04/2022        167312.0                 AUSENTE   \n",
              "3    11/04/2022        168387.0              COORDINADO   \n",
              "4    08/04/2022        167523.0    REEMBARQUE COLECTIVO   \n",
              "\n",
              "  FECHA_INCIDENCIA_REPARTO FECHA_COMPROMISO  \\\n",
              "0               21/04/2022       20/04/2022   \n",
              "1               06/04/2022       07/04/2022   \n",
              "2               07/04/2022       07/04/2022   \n",
              "3               11/04/2022       12/04/2022   \n",
              "4               07/04/2022       09/04/2022   \n",
              "\n",
              "                                         SUGERENCIAS  \n",
              "0    REGISTRAR CORRECTAMENTE LA DIRECCION DE DESTINO  \n",
              "1                                               #N/D  \n",
              "2  COORDINAR PREEVIAMENTE CON EL DESTINATARIO LA ...  \n",
              "3                                               #N/D  \n",
              "4  ENTREGAR NUMERO DE REFERENCIA DE LOS INTERMEDI...  \n",
              "\n",
              "[5 rows x 42 columns]"
            ],
            "text/html": [
              "\n",
              "  <div id=\"df-dd4eca48-defa-4cbf-b296-d102c6f888eb\">\n",
              "    <div class=\"colab-df-container\">\n",
              "      <div>\n",
              "<style scoped>\n",
              "    .dataframe tbody tr th:only-of-type {\n",
              "        vertical-align: middle;\n",
              "    }\n",
              "\n",
              "    .dataframe tbody tr th {\n",
              "        vertical-align: top;\n",
              "    }\n",
              "\n",
              "    .dataframe thead th {\n",
              "        text-align: right;\n",
              "    }\n",
              "</style>\n",
              "<table border=\"1\" class=\"dataframe\">\n",
              "  <thead>\n",
              "    <tr style=\"text-align: right;\">\n",
              "      <th></th>\n",
              "      <th>CLIENTE</th>\n",
              "      <th>GUIA</th>\n",
              "      <th>FECHA_GUIA</th>\n",
              "      <th>ESTADO_GUIA</th>\n",
              "      <th>FECHA_ENTREGA</th>\n",
              "      <th>SERVICIO</th>\n",
              "      <th>ORIGEN</th>\n",
              "      <th>DESTINO</th>\n",
              "      <th>ORIGEN_BASE</th>\n",
              "      <th>DESTINO_BASE</th>\n",
              "      <th>...</th>\n",
              "      <th>FECHA MANIFIESTO_INFORMADO</th>\n",
              "      <th>FECHA MANIFIESTO_RECOGIDO</th>\n",
              "      <th>FECHA MANIFIESTO_VERIFICADO</th>\n",
              "      <th>RESP_REPARTO</th>\n",
              "      <th>FECHA REPARTO</th>\n",
              "      <th>NUMERO REPARTO</th>\n",
              "      <th>TIPO_INCIDENCIA_REPARTO</th>\n",
              "      <th>FECHA_INCIDENCIA_REPARTO</th>\n",
              "      <th>FECHA_COMPROMISO</th>\n",
              "      <th>SUGERENCIAS</th>\n",
              "    </tr>\n",
              "  </thead>\n",
              "  <tbody>\n",
              "    <tr>\n",
              "      <th>0</th>\n",
              "      <td>SWISSJUST LATINOAMERICA S.A. SUCURSAL PERU</td>\n",
              "      <td>SW093885</td>\n",
              "      <td>07/04/2022</td>\n",
              "      <td>Entregada</td>\n",
              "      <td>21/04/2022</td>\n",
              "      <td>PROVINCIA</td>\n",
              "      <td>LIMA</td>\n",
              "      <td>JAEN</td>\n",
              "      <td>LIMA</td>\n",
              "      <td>JAEN</td>\n",
              "      <td>...</td>\n",
              "      <td>08/04/2022</td>\n",
              "      <td>11/04/2022</td>\n",
              "      <td>11/04/2022</td>\n",
              "      <td>DBERRU</td>\n",
              "      <td>18/04/2022</td>\n",
              "      <td>169693.0</td>\n",
              "      <td>DIRECCION INCOMPLETA</td>\n",
              "      <td>21/04/2022</td>\n",
              "      <td>20/04/2022</td>\n",
              "      <td>REGISTRAR CORRECTAMENTE LA DIRECCION DE DESTINO</td>\n",
              "    </tr>\n",
              "    <tr>\n",
              "      <th>1</th>\n",
              "      <td>DINET S.A.</td>\n",
              "      <td>BT144308</td>\n",
              "      <td>05/04/2022</td>\n",
              "      <td>Entregada</td>\n",
              "      <td>07/04/2022</td>\n",
              "      <td>BIG- TICKET PROVINCIA</td>\n",
              "      <td>LIMA</td>\n",
              "      <td>TRUJILLO</td>\n",
              "      <td>LIMA</td>\n",
              "      <td>TRUJILLO</td>\n",
              "      <td>...</td>\n",
              "      <td>05/04/2022</td>\n",
              "      <td>06/04/2022</td>\n",
              "      <td>06/04/2022</td>\n",
              "      <td>LENRIQUE</td>\n",
              "      <td>07/04/2022</td>\n",
              "      <td>167278.0</td>\n",
              "      <td>REPROGRAMACION</td>\n",
              "      <td>06/04/2022</td>\n",
              "      <td>07/04/2022</td>\n",
              "      <td>#N/D</td>\n",
              "    </tr>\n",
              "    <tr>\n",
              "      <th>2</th>\n",
              "      <td>HINODE PERU S.A.C.</td>\n",
              "      <td>H0216383</td>\n",
              "      <td>06/04/2022</td>\n",
              "      <td>Entregada</td>\n",
              "      <td>07/04/2022</td>\n",
              "      <td>PEDIDO</td>\n",
              "      <td>LIMA</td>\n",
              "      <td>HUANCAYO</td>\n",
              "      <td>LIMA</td>\n",
              "      <td>HUANCAYO</td>\n",
              "      <td>...</td>\n",
              "      <td>06/04/2022</td>\n",
              "      <td>07/04/2022</td>\n",
              "      <td>07/04/2022</td>\n",
              "      <td>MEMENDOZA</td>\n",
              "      <td>07/04/2022</td>\n",
              "      <td>167312.0</td>\n",
              "      <td>AUSENTE</td>\n",
              "      <td>07/04/2022</td>\n",
              "      <td>07/04/2022</td>\n",
              "      <td>COORDINAR PREEVIAMENTE CON EL DESTINATARIO LA ...</td>\n",
              "    </tr>\n",
              "    <tr>\n",
              "      <th>3</th>\n",
              "      <td>HINODE PERU S.A.C.</td>\n",
              "      <td>H0216680</td>\n",
              "      <td>09/04/2022</td>\n",
              "      <td>Entregada</td>\n",
              "      <td>12/04/2022</td>\n",
              "      <td>MAYORISTA</td>\n",
              "      <td>LIMA</td>\n",
              "      <td>PUCALLPA</td>\n",
              "      <td>LIMA</td>\n",
              "      <td>PUCALLPA</td>\n",
              "      <td>...</td>\n",
              "      <td>09/04/2022</td>\n",
              "      <td>11/04/2022</td>\n",
              "      <td>11/04/2022</td>\n",
              "      <td>CPINEDO</td>\n",
              "      <td>11/04/2022</td>\n",
              "      <td>168387.0</td>\n",
              "      <td>COORDINADO</td>\n",
              "      <td>11/04/2022</td>\n",
              "      <td>12/04/2022</td>\n",
              "      <td>#N/D</td>\n",
              "    </tr>\n",
              "    <tr>\n",
              "      <th>4</th>\n",
              "      <td>NATURA COSMETICOS S.A.</td>\n",
              "      <td>36961085</td>\n",
              "      <td>02/04/2022</td>\n",
              "      <td>Entregada</td>\n",
              "      <td>09/04/2022</td>\n",
              "      <td>PEDIDO</td>\n",
              "      <td>LURIN</td>\n",
              "      <td>CAS SANCRISTOBAL</td>\n",
              "      <td>LIMA</td>\n",
              "      <td>TINGO MARIA</td>\n",
              "      <td>...</td>\n",
              "      <td>02/04/2022</td>\n",
              "      <td>06/04/2022</td>\n",
              "      <td>06/04/2022</td>\n",
              "      <td>GTRUJILLO</td>\n",
              "      <td>08/04/2022</td>\n",
              "      <td>167523.0</td>\n",
              "      <td>REEMBARQUE COLECTIVO</td>\n",
              "      <td>07/04/2022</td>\n",
              "      <td>09/04/2022</td>\n",
              "      <td>ENTREGAR NUMERO DE REFERENCIA DE LOS INTERMEDI...</td>\n",
              "    </tr>\n",
              "  </tbody>\n",
              "</table>\n",
              "<p>5 rows × 42 columns</p>\n",
              "</div>\n",
              "      <button class=\"colab-df-convert\" onclick=\"convertToInteractive('df-dd4eca48-defa-4cbf-b296-d102c6f888eb')\"\n",
              "              title=\"Convert this dataframe to an interactive table.\"\n",
              "              style=\"display:none;\">\n",
              "        \n",
              "  <svg xmlns=\"http://www.w3.org/2000/svg\" height=\"24px\"viewBox=\"0 0 24 24\"\n",
              "       width=\"24px\">\n",
              "    <path d=\"M0 0h24v24H0V0z\" fill=\"none\"/>\n",
              "    <path d=\"M18.56 5.44l.94 2.06.94-2.06 2.06-.94-2.06-.94-.94-2.06-.94 2.06-2.06.94zm-11 1L8.5 8.5l.94-2.06 2.06-.94-2.06-.94L8.5 2.5l-.94 2.06-2.06.94zm10 10l.94 2.06.94-2.06 2.06-.94-2.06-.94-.94-2.06-.94 2.06-2.06.94z\"/><path d=\"M17.41 7.96l-1.37-1.37c-.4-.4-.92-.59-1.43-.59-.52 0-1.04.2-1.43.59L10.3 9.45l-7.72 7.72c-.78.78-.78 2.05 0 2.83L4 21.41c.39.39.9.59 1.41.59.51 0 1.02-.2 1.41-.59l7.78-7.78 2.81-2.81c.8-.78.8-2.07 0-2.86zM5.41 20L4 18.59l7.72-7.72 1.47 1.35L5.41 20z\"/>\n",
              "  </svg>\n",
              "      </button>\n",
              "      \n",
              "  <style>\n",
              "    .colab-df-container {\n",
              "      display:flex;\n",
              "      flex-wrap:wrap;\n",
              "      gap: 12px;\n",
              "    }\n",
              "\n",
              "    .colab-df-convert {\n",
              "      background-color: #E8F0FE;\n",
              "      border: none;\n",
              "      border-radius: 50%;\n",
              "      cursor: pointer;\n",
              "      display: none;\n",
              "      fill: #1967D2;\n",
              "      height: 32px;\n",
              "      padding: 0 0 0 0;\n",
              "      width: 32px;\n",
              "    }\n",
              "\n",
              "    .colab-df-convert:hover {\n",
              "      background-color: #E2EBFA;\n",
              "      box-shadow: 0px 1px 2px rgba(60, 64, 67, 0.3), 0px 1px 3px 1px rgba(60, 64, 67, 0.15);\n",
              "      fill: #174EA6;\n",
              "    }\n",
              "\n",
              "    [theme=dark] .colab-df-convert {\n",
              "      background-color: #3B4455;\n",
              "      fill: #D2E3FC;\n",
              "    }\n",
              "\n",
              "    [theme=dark] .colab-df-convert:hover {\n",
              "      background-color: #434B5C;\n",
              "      box-shadow: 0px 1px 3px 1px rgba(0, 0, 0, 0.15);\n",
              "      filter: drop-shadow(0px 1px 2px rgba(0, 0, 0, 0.3));\n",
              "      fill: #FFFFFF;\n",
              "    }\n",
              "  </style>\n",
              "\n",
              "      <script>\n",
              "        const buttonEl =\n",
              "          document.querySelector('#df-dd4eca48-defa-4cbf-b296-d102c6f888eb button.colab-df-convert');\n",
              "        buttonEl.style.display =\n",
              "          google.colab.kernel.accessAllowed ? 'block' : 'none';\n",
              "\n",
              "        async function convertToInteractive(key) {\n",
              "          const element = document.querySelector('#df-dd4eca48-defa-4cbf-b296-d102c6f888eb');\n",
              "          const dataTable =\n",
              "            await google.colab.kernel.invokeFunction('convertToInteractive',\n",
              "                                                     [key], {});\n",
              "          if (!dataTable) return;\n",
              "\n",
              "          const docLinkHtml = 'Like what you see? Visit the ' +\n",
              "            '<a target=\"_blank\" href=https://colab.research.google.com/notebooks/data_table.ipynb>data table notebook</a>'\n",
              "            + ' to learn more about interactive tables.';\n",
              "          element.innerHTML = '';\n",
              "          dataTable['output_type'] = 'display_data';\n",
              "          await google.colab.output.renderOutput(dataTable, element);\n",
              "          const docLink = document.createElement('div');\n",
              "          docLink.innerHTML = docLinkHtml;\n",
              "          element.appendChild(docLink);\n",
              "        }\n",
              "      </script>\n",
              "    </div>\n",
              "  </div>\n",
              "  "
            ]
          },
          "metadata": {},
          "execution_count": 164
        }
      ],
      "source": [
        "dataset.head()"
      ]
    },
    {
      "cell_type": "markdown",
      "source": [
        "# Procesamiento de los datos del clima"
      ],
      "metadata": {
        "id": "ywDRZUUPeWoG"
      }
    },
    {
      "cell_type": "code",
      "source": [
        "dataset = dataset.drop(dataset[dataset[\"FECHA REPARTO\"].isna() == True].index)"
      ],
      "metadata": {
        "id": "rThG3MiDNieV"
      },
      "execution_count": null,
      "outputs": []
    },
    {
      "cell_type": "code",
      "source": [
        "# Se crea un nuevo dataset\n",
        "subDataset = dataset.groupby(by=[\"DEPARTAMENTO\",\"FECHA REPARTO\"]).size().reset_index().rename(columns={0:\"count\"})"
      ],
      "metadata": {
        "id": "V2K6R-qPVk_0"
      },
      "execution_count": null,
      "outputs": []
    },
    {
      "cell_type": "code",
      "source": [
        "# Se crean agregan los parámetros de la longitud y longitud de los departamentos\n",
        "subDataset[\"Latitud\"]=0\n",
        "subDataset[\"Longitud\"]=0"
      ],
      "metadata": {
        "id": "ZwAPLjiv9o3i"
      },
      "execution_count": null,
      "outputs": []
    },
    {
      "cell_type": "markdown",
      "source": [
        "## Geolocalizamos los departamentos**"
      ],
      "metadata": {
        "id": "GWqm8wvNEeVg"
      }
    },
    {
      "cell_type": "code",
      "source": [
        "for i in range(len(subDataset)):\n",
        "  loc = Nominatim(user_agent=\"GetLoc\") \n",
        "  departamento = subDataset.loc[i,\"DEPARTAMENTO\"]\n",
        "  getLoc = loc.geocode(departamento) \n",
        "  longitud =  getLoc.longitude\n",
        "  latitud = getLoc.latitude\n",
        "  subDataset.loc[i,\"Latitud\"] = latitud\n",
        "  subDataset.loc[i,\"Longitud\"] = longitud"
      ],
      "metadata": {
        "id": "1_eQRTLT9XaI"
      },
      "execution_count": null,
      "outputs": []
    },
    {
      "cell_type": "markdown",
      "source": [
        "## **Llamamos al api del clima**"
      ],
      "metadata": {
        "id": "dcKAe2VNe9R8"
      }
    },
    {
      "cell_type": "code",
      "source": [
        "#url = \"http://history.openweathermap.org/data/2.5/history/city?lat={}&lon={}&type=hour&start={}&end={}&appid=&units=metric\".format()\n",
        "subDataset[\"TEMPERATURA\"]=0\n",
        "subDataset[\"HUMEDAD\"]=0\n",
        "subDataset[\"CLIMA\"]= \"\""
      ],
      "metadata": {
        "id": "koNA99eufPou"
      },
      "execution_count": null,
      "outputs": []
    },
    {
      "cell_type": "code",
      "source": [
        "for i in range(len(subDataset)):\n",
        "  fechaReparto = subDataset.loc[i,\"FECHA REPARTO\"]\n",
        "  my_ts = fechaReparto.split(\"/\")\n",
        "  dt = datetime.datetime(int(my_ts[2]), int(my_ts[1]), int(my_ts[0]))\n",
        "  timestamp = dt.replace(tzinfo=timezone.utc).timestamp()\n",
        "  dateInit = str(timestamp+64800)\n",
        "  dateInitUnix = dateInit[0:len(dateInit)-2]\n",
        "  url = \"http://history.openweathermap.org/data/2.5/history/city?lat={}&lon={}&type=hour&start={}&end={}&appid=b9c3fde5b6c1179bccc0b366a4d04fd0&units=metric\".format(str(subDataset.loc[i,\"Latitud\"]),str(subDataset.loc[i,\"Longitud\"]),dateInitUnix,dateInitUnix)\n",
        "  res = requests.get(url)\n",
        "  data = res.json()\n",
        "  temperatura = data[\"list\"][0][\"main\"][\"temp\"]\n",
        "  humedad = data[\"list\"][0][\"main\"][\"humidity\"]\n",
        "  clima = data[\"list\"][0][\"weather\"][0][\"main\"]\n",
        "  subDataset.loc[i,\"TEMPERATURA\"] = temperatura\n",
        "  subDataset.loc[i,\"HUMEDAD\"] = humedad\n",
        "  subDataset.loc[i,\"CLIMA\"] = clima"
      ],
      "metadata": {
        "id": "mYhY4UWUObWW"
      },
      "execution_count": null,
      "outputs": []
    },
    {
      "cell_type": "code",
      "source": [
        "subDataset.drop(subDataset.loc[subDataset[\"DEPARTAMENTO\"]==\"ANDAHUAYLAS\"].index, inplace=True)"
      ],
      "metadata": {
        "id": "VOtDRrPIZsPl"
      },
      "execution_count": null,
      "outputs": []
    },
    {
      "cell_type": "code",
      "source": [
        "len(subDataset[\"DEPARTAMENTO\"].unique())"
      ],
      "metadata": {
        "colab": {
          "base_uri": "https://localhost:8080/"
        },
        "id": "gek7xB1RTh4a",
        "outputId": "c519019c-c836-4d4f-ec02-35310183bdd9"
      },
      "execution_count": null,
      "outputs": [
        {
          "output_type": "execute_result",
          "data": {
            "text/plain": [
              "25"
            ]
          },
          "metadata": {},
          "execution_count": 172
        }
      ]
    },
    {
      "cell_type": "code",
      "source": [
        "subDataset"
      ],
      "metadata": {
        "colab": {
          "base_uri": "https://localhost:8080/",
          "height": 424
        },
        "id": "vgImeosDczDk",
        "outputId": "de715583-6ca0-4f65-ab67-c3cee1b2ee97"
      },
      "execution_count": null,
      "outputs": [
        {
          "output_type": "execute_result",
          "data": {
            "text/plain": [
              "    DEPARTAMENTO FECHA REPARTO  count   Latitud  Longitud  TEMPERATURA  \\\n",
              "0       AMAZONAS    04/04/2022      2 -4.479925 -63.51854        27.35   \n",
              "1       AMAZONAS    05/04/2022    107 -4.479925 -63.51854        29.42   \n",
              "2       AMAZONAS    06/04/2022      4 -4.479925 -63.51854        30.36   \n",
              "3       AMAZONAS    07/04/2022     31 -4.479925 -63.51854        32.22   \n",
              "4       AMAZONAS    08/04/2022     58 -4.479925 -63.51854        32.15   \n",
              "..           ...           ...    ...       ...       ...          ...   \n",
              "326      UCAYALI    10/04/2022    222 -9.000000 -73.50000        30.66   \n",
              "327      UCAYALI    11/04/2022    242 -9.000000 -73.50000        31.29   \n",
              "328      UCAYALI    12/04/2022    135 -9.000000 -73.50000        30.79   \n",
              "329      UCAYALI    13/04/2022      3 -9.000000 -73.50000        28.25   \n",
              "330      UCAYALI    14/04/2022      2 -9.000000 -73.50000        24.02   \n",
              "\n",
              "     HUMEDAD   CLIMA  \n",
              "0         71    Rain  \n",
              "1         69  Clouds  \n",
              "2         62  Clouds  \n",
              "3         52  Clouds  \n",
              "4         53    Rain  \n",
              "..       ...     ...  \n",
              "326       54  Clouds  \n",
              "327       57  Clouds  \n",
              "328       58  Clouds  \n",
              "329       83  Clouds  \n",
              "330       92  Clouds  \n",
              "\n",
              "[330 rows x 8 columns]"
            ],
            "text/html": [
              "\n",
              "  <div id=\"df-7646b870-ad35-4490-a412-6751fc4a6bae\">\n",
              "    <div class=\"colab-df-container\">\n",
              "      <div>\n",
              "<style scoped>\n",
              "    .dataframe tbody tr th:only-of-type {\n",
              "        vertical-align: middle;\n",
              "    }\n",
              "\n",
              "    .dataframe tbody tr th {\n",
              "        vertical-align: top;\n",
              "    }\n",
              "\n",
              "    .dataframe thead th {\n",
              "        text-align: right;\n",
              "    }\n",
              "</style>\n",
              "<table border=\"1\" class=\"dataframe\">\n",
              "  <thead>\n",
              "    <tr style=\"text-align: right;\">\n",
              "      <th></th>\n",
              "      <th>DEPARTAMENTO</th>\n",
              "      <th>FECHA REPARTO</th>\n",
              "      <th>count</th>\n",
              "      <th>Latitud</th>\n",
              "      <th>Longitud</th>\n",
              "      <th>TEMPERATURA</th>\n",
              "      <th>HUMEDAD</th>\n",
              "      <th>CLIMA</th>\n",
              "    </tr>\n",
              "  </thead>\n",
              "  <tbody>\n",
              "    <tr>\n",
              "      <th>0</th>\n",
              "      <td>AMAZONAS</td>\n",
              "      <td>04/04/2022</td>\n",
              "      <td>2</td>\n",
              "      <td>-4.479925</td>\n",
              "      <td>-63.51854</td>\n",
              "      <td>27.35</td>\n",
              "      <td>71</td>\n",
              "      <td>Rain</td>\n",
              "    </tr>\n",
              "    <tr>\n",
              "      <th>1</th>\n",
              "      <td>AMAZONAS</td>\n",
              "      <td>05/04/2022</td>\n",
              "      <td>107</td>\n",
              "      <td>-4.479925</td>\n",
              "      <td>-63.51854</td>\n",
              "      <td>29.42</td>\n",
              "      <td>69</td>\n",
              "      <td>Clouds</td>\n",
              "    </tr>\n",
              "    <tr>\n",
              "      <th>2</th>\n",
              "      <td>AMAZONAS</td>\n",
              "      <td>06/04/2022</td>\n",
              "      <td>4</td>\n",
              "      <td>-4.479925</td>\n",
              "      <td>-63.51854</td>\n",
              "      <td>30.36</td>\n",
              "      <td>62</td>\n",
              "      <td>Clouds</td>\n",
              "    </tr>\n",
              "    <tr>\n",
              "      <th>3</th>\n",
              "      <td>AMAZONAS</td>\n",
              "      <td>07/04/2022</td>\n",
              "      <td>31</td>\n",
              "      <td>-4.479925</td>\n",
              "      <td>-63.51854</td>\n",
              "      <td>32.22</td>\n",
              "      <td>52</td>\n",
              "      <td>Clouds</td>\n",
              "    </tr>\n",
              "    <tr>\n",
              "      <th>4</th>\n",
              "      <td>AMAZONAS</td>\n",
              "      <td>08/04/2022</td>\n",
              "      <td>58</td>\n",
              "      <td>-4.479925</td>\n",
              "      <td>-63.51854</td>\n",
              "      <td>32.15</td>\n",
              "      <td>53</td>\n",
              "      <td>Rain</td>\n",
              "    </tr>\n",
              "    <tr>\n",
              "      <th>...</th>\n",
              "      <td>...</td>\n",
              "      <td>...</td>\n",
              "      <td>...</td>\n",
              "      <td>...</td>\n",
              "      <td>...</td>\n",
              "      <td>...</td>\n",
              "      <td>...</td>\n",
              "      <td>...</td>\n",
              "    </tr>\n",
              "    <tr>\n",
              "      <th>326</th>\n",
              "      <td>UCAYALI</td>\n",
              "      <td>10/04/2022</td>\n",
              "      <td>222</td>\n",
              "      <td>-9.000000</td>\n",
              "      <td>-73.50000</td>\n",
              "      <td>30.66</td>\n",
              "      <td>54</td>\n",
              "      <td>Clouds</td>\n",
              "    </tr>\n",
              "    <tr>\n",
              "      <th>327</th>\n",
              "      <td>UCAYALI</td>\n",
              "      <td>11/04/2022</td>\n",
              "      <td>242</td>\n",
              "      <td>-9.000000</td>\n",
              "      <td>-73.50000</td>\n",
              "      <td>31.29</td>\n",
              "      <td>57</td>\n",
              "      <td>Clouds</td>\n",
              "    </tr>\n",
              "    <tr>\n",
              "      <th>328</th>\n",
              "      <td>UCAYALI</td>\n",
              "      <td>12/04/2022</td>\n",
              "      <td>135</td>\n",
              "      <td>-9.000000</td>\n",
              "      <td>-73.50000</td>\n",
              "      <td>30.79</td>\n",
              "      <td>58</td>\n",
              "      <td>Clouds</td>\n",
              "    </tr>\n",
              "    <tr>\n",
              "      <th>329</th>\n",
              "      <td>UCAYALI</td>\n",
              "      <td>13/04/2022</td>\n",
              "      <td>3</td>\n",
              "      <td>-9.000000</td>\n",
              "      <td>-73.50000</td>\n",
              "      <td>28.25</td>\n",
              "      <td>83</td>\n",
              "      <td>Clouds</td>\n",
              "    </tr>\n",
              "    <tr>\n",
              "      <th>330</th>\n",
              "      <td>UCAYALI</td>\n",
              "      <td>14/04/2022</td>\n",
              "      <td>2</td>\n",
              "      <td>-9.000000</td>\n",
              "      <td>-73.50000</td>\n",
              "      <td>24.02</td>\n",
              "      <td>92</td>\n",
              "      <td>Clouds</td>\n",
              "    </tr>\n",
              "  </tbody>\n",
              "</table>\n",
              "<p>330 rows × 8 columns</p>\n",
              "</div>\n",
              "      <button class=\"colab-df-convert\" onclick=\"convertToInteractive('df-7646b870-ad35-4490-a412-6751fc4a6bae')\"\n",
              "              title=\"Convert this dataframe to an interactive table.\"\n",
              "              style=\"display:none;\">\n",
              "        \n",
              "  <svg xmlns=\"http://www.w3.org/2000/svg\" height=\"24px\"viewBox=\"0 0 24 24\"\n",
              "       width=\"24px\">\n",
              "    <path d=\"M0 0h24v24H0V0z\" fill=\"none\"/>\n",
              "    <path d=\"M18.56 5.44l.94 2.06.94-2.06 2.06-.94-2.06-.94-.94-2.06-.94 2.06-2.06.94zm-11 1L8.5 8.5l.94-2.06 2.06-.94-2.06-.94L8.5 2.5l-.94 2.06-2.06.94zm10 10l.94 2.06.94-2.06 2.06-.94-2.06-.94-.94-2.06-.94 2.06-2.06.94z\"/><path d=\"M17.41 7.96l-1.37-1.37c-.4-.4-.92-.59-1.43-.59-.52 0-1.04.2-1.43.59L10.3 9.45l-7.72 7.72c-.78.78-.78 2.05 0 2.83L4 21.41c.39.39.9.59 1.41.59.51 0 1.02-.2 1.41-.59l7.78-7.78 2.81-2.81c.8-.78.8-2.07 0-2.86zM5.41 20L4 18.59l7.72-7.72 1.47 1.35L5.41 20z\"/>\n",
              "  </svg>\n",
              "      </button>\n",
              "      \n",
              "  <style>\n",
              "    .colab-df-container {\n",
              "      display:flex;\n",
              "      flex-wrap:wrap;\n",
              "      gap: 12px;\n",
              "    }\n",
              "\n",
              "    .colab-df-convert {\n",
              "      background-color: #E8F0FE;\n",
              "      border: none;\n",
              "      border-radius: 50%;\n",
              "      cursor: pointer;\n",
              "      display: none;\n",
              "      fill: #1967D2;\n",
              "      height: 32px;\n",
              "      padding: 0 0 0 0;\n",
              "      width: 32px;\n",
              "    }\n",
              "\n",
              "    .colab-df-convert:hover {\n",
              "      background-color: #E2EBFA;\n",
              "      box-shadow: 0px 1px 2px rgba(60, 64, 67, 0.3), 0px 1px 3px 1px rgba(60, 64, 67, 0.15);\n",
              "      fill: #174EA6;\n",
              "    }\n",
              "\n",
              "    [theme=dark] .colab-df-convert {\n",
              "      background-color: #3B4455;\n",
              "      fill: #D2E3FC;\n",
              "    }\n",
              "\n",
              "    [theme=dark] .colab-df-convert:hover {\n",
              "      background-color: #434B5C;\n",
              "      box-shadow: 0px 1px 3px 1px rgba(0, 0, 0, 0.15);\n",
              "      filter: drop-shadow(0px 1px 2px rgba(0, 0, 0, 0.3));\n",
              "      fill: #FFFFFF;\n",
              "    }\n",
              "  </style>\n",
              "\n",
              "      <script>\n",
              "        const buttonEl =\n",
              "          document.querySelector('#df-7646b870-ad35-4490-a412-6751fc4a6bae button.colab-df-convert');\n",
              "        buttonEl.style.display =\n",
              "          google.colab.kernel.accessAllowed ? 'block' : 'none';\n",
              "\n",
              "        async function convertToInteractive(key) {\n",
              "          const element = document.querySelector('#df-7646b870-ad35-4490-a412-6751fc4a6bae');\n",
              "          const dataTable =\n",
              "            await google.colab.kernel.invokeFunction('convertToInteractive',\n",
              "                                                     [key], {});\n",
              "          if (!dataTable) return;\n",
              "\n",
              "          const docLinkHtml = 'Like what you see? Visit the ' +\n",
              "            '<a target=\"_blank\" href=https://colab.research.google.com/notebooks/data_table.ipynb>data table notebook</a>'\n",
              "            + ' to learn more about interactive tables.';\n",
              "          element.innerHTML = '';\n",
              "          dataTable['output_type'] = 'display_data';\n",
              "          await google.colab.output.renderOutput(dataTable, element);\n",
              "          const docLink = document.createElement('div');\n",
              "          docLink.innerHTML = docLinkHtml;\n",
              "          element.appendChild(docLink);\n",
              "        }\n",
              "      </script>\n",
              "    </div>\n",
              "  </div>\n",
              "  "
            ]
          },
          "metadata": {},
          "execution_count": 173
        }
      ]
    },
    {
      "cell_type": "markdown",
      "source": [
        "# Índices de delitos"
      ],
      "metadata": {
        "id": "jznjMSwog1iH"
      }
    },
    {
      "cell_type": "code",
      "source": [
        "response = requests.get('http://datacrim.inei.gob.pe/csv_controller/index?desde=tematico&id=40001')"
      ],
      "metadata": {
        "id": "od-jMcJxNfTf"
      },
      "execution_count": null,
      "outputs": []
    },
    {
      "cell_type": "code",
      "source": [
        "df = pd.read_csv(io.StringIO(response.text), sep=',', header=None, quoting=csv.QUOTE_ALL)\n",
        "df[0] = df[0].astype('string')\n",
        "df[1] = df[1].astype('string')\n",
        "df[2] = df[2].astype('string')"
      ],
      "metadata": {
        "id": "U-aAsg2IN-kO"
      },
      "execution_count": null,
      "outputs": []
    },
    {
      "cell_type": "code",
      "source": [
        "dataCrime = df.loc[(df[0]==\"2021\") & (df[1]!=\"NACIONAL\")]"
      ],
      "metadata": {
        "id": "WS5ih4TsN-3W"
      },
      "execution_count": null,
      "outputs": []
    },
    {
      "cell_type": "code",
      "source": [
        "val = list(dataCrime.loc[dataCrime[1]==\"DEPARTAMENTO DE LIMA 2/\"][2])[0]"
      ],
      "metadata": {
        "id": "GoJZDy9TN-6k"
      },
      "execution_count": null,
      "outputs": []
    },
    {
      "cell_type": "code",
      "source": [
        "dataCrime.drop(dataCrime.loc[dataCrime[1]==\"DEPARTAMENTO DE LIMA 2/\"].index, inplace=True)\n",
        "dataCrime[2] = dataCrime[2].astype('float')\n",
        "indiceLima = int(dataCrime.loc[dataCrime[1]==\"LIMA METROPOLITANA 1/\"].index[0])\n",
        "indiceCallao = int(dataCrime.loc[dataCrime[1]==\"PROVINCIA CONSTITUCIONAL DEL CALLAO\"].index[0])\n",
        "dataCrime.loc[indiceCallao,1] = \"CALLAO\"\n",
        "dataCrime.loc[indiceLima,1] = \"LIMA\""
      ],
      "metadata": {
        "colab": {
          "base_uri": "https://localhost:8080/"
        },
        "id": "qGUpDAIeN_B1",
        "outputId": "5037dc3e-426e-42b1-9730-fa52e8dd2ca1"
      },
      "execution_count": null,
      "outputs": [
        {
          "output_type": "stream",
          "name": "stderr",
          "text": [
            "/usr/local/lib/python3.7/dist-packages/pandas/core/frame.py:4913: SettingWithCopyWarning: \n",
            "A value is trying to be set on a copy of a slice from a DataFrame\n",
            "\n",
            "See the caveats in the documentation: https://pandas.pydata.org/pandas-docs/stable/user_guide/indexing.html#returning-a-view-versus-a-copy\n",
            "  errors=errors,\n",
            "/usr/local/lib/python3.7/dist-packages/ipykernel_launcher.py:2: SettingWithCopyWarning: \n",
            "A value is trying to be set on a copy of a slice from a DataFrame.\n",
            "Try using .loc[row_indexer,col_indexer] = value instead\n",
            "\n",
            "See the caveats in the documentation: https://pandas.pydata.org/pandas-docs/stable/user_guide/indexing.html#returning-a-view-versus-a-copy\n",
            "  \n",
            "/usr/local/lib/python3.7/dist-packages/pandas/core/indexing.py:1817: SettingWithCopyWarning: \n",
            "A value is trying to be set on a copy of a slice from a DataFrame.\n",
            "Try using .loc[row_indexer,col_indexer] = value instead\n",
            "\n",
            "See the caveats in the documentation: https://pandas.pydata.org/pandas-docs/stable/user_guide/indexing.html#returning-a-view-versus-a-copy\n",
            "  self._setitem_single_column(loc, value, pi)\n"
          ]
        }
      ]
    },
    {
      "cell_type": "markdown",
      "source": [
        "## Indices de problemas naturales"
      ],
      "metadata": {
        "id": "mpVcL59x2Z67"
      }
    },
    {
      "cell_type": "code",
      "source": [
        "url = 'https://systems.inei.gob.pe/SIRTOD/app/consulta/getTableDataYear?indicador_listado=262432%2C262433%2C262429%2C420794%2C262428%2C420795&tipo_ubigeo=1&desde_anio=2020&hasta_anio=2020&ubigeo_listado=&idioma=ES'\n",
        "dataProblemaGeografico = list()\n",
        "dataProblemaGeograficoRequest = requests.get(url)"
      ],
      "metadata": {
        "id": "jbzlCd2gOQpd"
      },
      "execution_count": null,
      "outputs": []
    },
    {
      "cell_type": "code",
      "source": [
        "dataProblemaGeografico = dataProblemaGeograficoRequest.json()"
      ],
      "metadata": {
        "id": "FWMFE2vzOQsG"
      },
      "execution_count": null,
      "outputs": []
    },
    {
      "cell_type": "markdown",
      "source": [
        "## Poblacion econmicamente activa"
      ],
      "metadata": {
        "id": "esVVrwbZ2fTt"
      }
    },
    {
      "cell_type": "code",
      "source": [
        "url2 = \"https://systems.inei.gob.pe/SIRTOD/app/consulta/getTableDataYear?indicador_listado=389219&tipo_ubigeo=1&desde_anio=2020&hasta_anio=2020&ubigeo_listado=&idioma=ES\"\n",
        "dataPEA = list()\n",
        "dataPEA = requests.get(url2)"
      ],
      "metadata": {
        "id": "zDaK7UnJOQu4"
      },
      "execution_count": null,
      "outputs": []
    },
    {
      "cell_type": "code",
      "source": [
        "dataProblemaPEA = dataPEA.json()"
      ],
      "metadata": {
        "id": "hkKPPyKtOWgF"
      },
      "execution_count": null,
      "outputs": []
    },
    {
      "cell_type": "markdown",
      "source": [
        "## Indices de accidentes de tránsito"
      ],
      "metadata": {
        "id": "U1RD_zDM2kRt"
      }
    },
    {
      "cell_type": "code",
      "source": [
        "#https://systems.inei.gob.pe/SIRTOD/app/consulta/getTableDataYear?indicador_listado=394842&tipo_ubigeo=1&desde_anio=2021&hasta_anio=2021&ubigeo_listado=&idioma=ES\n",
        "url3 = \"https://systems.inei.gob.pe/SIRTOD/app/consulta/getTableDataYear?indicador_listado=394842&tipo_ubigeo=1&desde_anio=2021&hasta_anio=2021&ubigeo_listado=&idioma=ES\"\n",
        "dataAccidentesTransito = list()\n",
        "dataAccidentesTransitoRequest = requests.get(url3)"
      ],
      "metadata": {
        "id": "oAMhBEidOYEV"
      },
      "execution_count": null,
      "outputs": []
    },
    {
      "cell_type": "code",
      "source": [
        "dataAccidentesTransito = dataAccidentesTransitoRequest.json()"
      ],
      "metadata": {
        "id": "QS7G-nvFOYG9"
      },
      "execution_count": null,
      "outputs": []
    },
    {
      "cell_type": "markdown",
      "source": [
        "## Preprocesamiento de los datos obtenidos"
      ],
      "metadata": {
        "id": "fR1_7jrR2pe0"
      }
    },
    {
      "cell_type": "code",
      "source": [
        "listaDepartamentos = list()\n",
        "for i in dataProblemaGeografico:\n",
        "  if (i[\"departamento\"] not in listaDepartamentos):\n",
        "    listaDepartamentos.append(i[\"departamento\"])"
      ],
      "metadata": {
        "id": "mt-Suw2WObIt"
      },
      "execution_count": null,
      "outputs": []
    },
    {
      "cell_type": "code",
      "source": [
        "# Calculo de datos de problemas naturales\n",
        "listaProblemasGeograficoDatos = [0]*25\n",
        "for i in dataProblemaGeografico:\n",
        "  if (i[\"departamento\"] in listaDepartamentos):\n",
        "    index = listaDepartamentos.index(i[\"departamento\"])\n",
        "    listaProblemasGeograficoDatos[index] = int(listaProblemasGeograficoDatos[index]) + int(i[\"dato\"].replace(\" \",\"\"))"
      ],
      "metadata": {
        "id": "v8v46aR1ObLl"
      },
      "execution_count": null,
      "outputs": []
    },
    {
      "cell_type": "code",
      "source": [
        "# Calculo de datos de adultos mayores\n",
        "listaDatosPEA = [0]*25\n",
        "for i in dataProblemaPEA:\n",
        "  if (i[\"departamento\"] in listaDepartamentos):\n",
        "    index = listaDepartamentos.index(i[\"departamento\"])\n",
        "    variable = i[\"dato\"].replace(\" \",\"\")\n",
        "    variableaux = variable.replace(\",\",\".\")\n",
        "    listaDatosPEA[index] = float(listaDatosPEA[index]) + float(variableaux.replace(\" \",\"\"))"
      ],
      "metadata": {
        "id": "nZnoQSkTOfNl"
      },
      "execution_count": null,
      "outputs": []
    },
    {
      "cell_type": "code",
      "source": [
        "# Calculo de datos de accidentes de transito\n",
        "listaDatosAccTransito = [0]*25\n",
        "for i in dataAccidentesTransito:\n",
        "  if (i[\"departamento\"] in listaDepartamentos):\n",
        "    index = listaDepartamentos.index(i[\"departamento\"])\n",
        "    listaDatosAccTransito[index] = int(listaDatosAccTransito[index]) + int(i[\"dato\"].replace(\" \",\"\"))"
      ],
      "metadata": {
        "id": "MQYRjqCfOfQc"
      },
      "execution_count": null,
      "outputs": []
    },
    {
      "cell_type": "code",
      "source": [
        "def normalize(s):\n",
        "    replacements = (\n",
        "        (\"á\", \"a\"),\n",
        "        (\"é\", \"e\"),\n",
        "        (\"í\", \"i\"),\n",
        "        (\"ó\", \"o\"),\n",
        "        (\"ú\", \"u\"),\n",
        "    )\n",
        "    for a, b in replacements:\n",
        "        s = s.replace(a, b).replace(a.upper(), b.upper())\n",
        "    return s"
      ],
      "metadata": {
        "id": "7eJq5WpjOfUZ"
      },
      "execution_count": null,
      "outputs": []
    },
    {
      "cell_type": "code",
      "source": [
        "listaDepartamentos = list(map(lambda x : normalize(x), listaDepartamentos))"
      ],
      "metadata": {
        "id": "V1xx-p9-QQwL"
      },
      "execution_count": null,
      "outputs": []
    },
    {
      "cell_type": "code",
      "source": [
        "dataCrime.rename(columns = {0:'AÑO', 1:'DEPARTAMENTO',2:'INDICE_DELITOS'}, inplace = True)"
      ],
      "metadata": {
        "colab": {
          "base_uri": "https://localhost:8080/"
        },
        "id": "rpN889CuQQzL",
        "outputId": "c465ca0c-4b2a-4b72-e0d6-8aa6483c76cb"
      },
      "execution_count": null,
      "outputs": [
        {
          "output_type": "stream",
          "name": "stderr",
          "text": [
            "/usr/local/lib/python3.7/dist-packages/pandas/core/frame.py:5047: SettingWithCopyWarning: \n",
            "A value is trying to be set on a copy of a slice from a DataFrame\n",
            "\n",
            "See the caveats in the documentation: https://pandas.pydata.org/pandas-docs/stable/user_guide/indexing.html#returning-a-view-versus-a-copy\n",
            "  errors=errors,\n"
          ]
        }
      ]
    },
    {
      "cell_type": "code",
      "source": [
        "dataCrime[\"CANT_FENO_NAT\"]=0\n",
        "dataCrime[\"CANT_PEA\"]=0\n",
        "dataCrime[\"CANT_ACC_TRANSITO\"]=0"
      ],
      "metadata": {
        "colab": {
          "base_uri": "https://localhost:8080/"
        },
        "id": "qcP9hftFQQ26",
        "outputId": "69c73c26-f8eb-4c1c-e499-e83e1ac84f51"
      },
      "execution_count": null,
      "outputs": [
        {
          "output_type": "stream",
          "name": "stderr",
          "text": [
            "/usr/local/lib/python3.7/dist-packages/ipykernel_launcher.py:1: SettingWithCopyWarning: \n",
            "A value is trying to be set on a copy of a slice from a DataFrame.\n",
            "Try using .loc[row_indexer,col_indexer] = value instead\n",
            "\n",
            "See the caveats in the documentation: https://pandas.pydata.org/pandas-docs/stable/user_guide/indexing.html#returning-a-view-versus-a-copy\n",
            "  \"\"\"Entry point for launching an IPython kernel.\n",
            "/usr/local/lib/python3.7/dist-packages/ipykernel_launcher.py:2: SettingWithCopyWarning: \n",
            "A value is trying to be set on a copy of a slice from a DataFrame.\n",
            "Try using .loc[row_indexer,col_indexer] = value instead\n",
            "\n",
            "See the caveats in the documentation: https://pandas.pydata.org/pandas-docs/stable/user_guide/indexing.html#returning-a-view-versus-a-copy\n",
            "  \n",
            "/usr/local/lib/python3.7/dist-packages/ipykernel_launcher.py:3: SettingWithCopyWarning: \n",
            "A value is trying to be set on a copy of a slice from a DataFrame.\n",
            "Try using .loc[row_indexer,col_indexer] = value instead\n",
            "\n",
            "See the caveats in the documentation: https://pandas.pydata.org/pandas-docs/stable/user_guide/indexing.html#returning-a-view-versus-a-copy\n",
            "  This is separate from the ipykernel package so we can avoid doing imports until\n"
          ]
        }
      ]
    },
    {
      "cell_type": "code",
      "source": [
        "for i in dataCrime.index:\n",
        "  departamento = str(dataCrime.loc[i,\"DEPARTAMENTO\"])\n",
        "  if (departamento in listaDepartamentos):\n",
        "    index_departamento = listaDepartamentos.index(departamento)\n",
        "    val_prob_geo = listaProblemasGeograficoDatos[index_departamento]\n",
        "    val_cant_pea = listaDatosPEA[index_departamento]\n",
        "    val_cant_acc_transito = listaDatosAccTransito[index_departamento]\n",
        "    dataCrime.loc[i,\"CANT_FENO_NAT\"] = val_prob_geo\n",
        "    dataCrime.loc[i,\"CANT_PEA\"] = val_cant_pea\n",
        "    dataCrime.loc[i,\"CANT_ACC_TRANSITO\"] = val_cant_acc_transito"
      ],
      "metadata": {
        "id": "xutEiKQbQQ5r",
        "colab": {
          "base_uri": "https://localhost:8080/"
        },
        "outputId": "f837c5f7-e826-47c0-ba1c-1d652dee9f17"
      },
      "execution_count": null,
      "outputs": [
        {
          "output_type": "stream",
          "name": "stderr",
          "text": [
            "/usr/local/lib/python3.7/dist-packages/pandas/core/indexing.py:1817: SettingWithCopyWarning: \n",
            "A value is trying to be set on a copy of a slice from a DataFrame.\n",
            "Try using .loc[row_indexer,col_indexer] = value instead\n",
            "\n",
            "See the caveats in the documentation: https://pandas.pydata.org/pandas-docs/stable/user_guide/indexing.html#returning-a-view-versus-a-copy\n",
            "  self._setitem_single_column(loc, value, pi)\n"
          ]
        }
      ]
    },
    {
      "cell_type": "markdown",
      "source": [
        "## Uniendo submatrices de datos"
      ],
      "metadata": {
        "id": "CsVL7TKpaEsN"
      }
    },
    {
      "cell_type": "code",
      "source": [
        "newDataSet = pd.merge(subDataset, dataCrime, how='inner', on = 'DEPARTAMENTO')"
      ],
      "metadata": {
        "id": "OjWqJs77aDh9"
      },
      "execution_count": null,
      "outputs": []
    },
    {
      "cell_type": "code",
      "source": [
        "newDataSet[\"DEPARTAMENTO\"].unique()"
      ],
      "metadata": {
        "colab": {
          "base_uri": "https://localhost:8080/"
        },
        "id": "HAJbrq2FI6AJ",
        "outputId": "c966fc3b-6078-453d-aaa8-00394fddf2f7"
      },
      "execution_count": null,
      "outputs": [
        {
          "output_type": "execute_result",
          "data": {
            "text/plain": [
              "array(['AMAZONAS', 'ANCASH', 'APURIMAC', 'AREQUIPA', 'AYACUCHO',\n",
              "       'CAJAMARCA', 'CALLAO', 'CUSCO', 'HUANCAVELICA', 'HUANUCO', 'ICA',\n",
              "       'JUNIN', 'LA LIBERTAD', 'LAMBAYEQUE', 'LIMA', 'LORETO',\n",
              "       'MADRE DE DIOS', 'MOQUEGUA', 'PASCO', 'PIURA', 'PUNO',\n",
              "       'SAN MARTIN', 'TACNA', 'TUMBES', 'UCAYALI'], dtype=object)"
            ]
          },
          "metadata": {},
          "execution_count": 205
        }
      ]
    },
    {
      "cell_type": "code",
      "source": [
        "newDataSet"
      ],
      "metadata": {
        "colab": {
          "base_uri": "https://localhost:8080/",
          "height": 424
        },
        "id": "NnQ9-71Kci0k",
        "outputId": "8b037d4f-c153-49ed-8475-18532c031b9f"
      },
      "execution_count": null,
      "outputs": [
        {
          "output_type": "execute_result",
          "data": {
            "text/plain": [
              "    DEPARTAMENTO FECHA REPARTO  count   Latitud  Longitud  TEMPERATURA  \\\n",
              "0       AMAZONAS    04/04/2022      2 -4.479925 -63.51854        27.35   \n",
              "1       AMAZONAS    05/04/2022    107 -4.479925 -63.51854        29.42   \n",
              "2       AMAZONAS    06/04/2022      4 -4.479925 -63.51854        30.36   \n",
              "3       AMAZONAS    07/04/2022     31 -4.479925 -63.51854        32.22   \n",
              "4       AMAZONAS    08/04/2022     58 -4.479925 -63.51854        32.15   \n",
              "..           ...           ...    ...       ...       ...          ...   \n",
              "325      UCAYALI    10/04/2022    222 -9.000000 -73.50000        30.66   \n",
              "326      UCAYALI    11/04/2022    242 -9.000000 -73.50000        31.29   \n",
              "327      UCAYALI    12/04/2022    135 -9.000000 -73.50000        30.79   \n",
              "328      UCAYALI    13/04/2022      3 -9.000000 -73.50000        28.25   \n",
              "329      UCAYALI    14/04/2022      2 -9.000000 -73.50000        24.02   \n",
              "\n",
              "     HUMEDAD   CLIMA   AÑO  INDICE_DELITOS  CANT_FENO_NAT  CANT_PEA  \\\n",
              "0         71    Rain  2021      101.840789            368     243.1   \n",
              "1         69  Clouds  2021      101.840789            368     243.1   \n",
              "2         62  Clouds  2021      101.840789            368     243.1   \n",
              "3         52  Clouds  2021      101.840789            368     243.1   \n",
              "4         53    Rain  2021      101.840789            368     243.1   \n",
              "..       ...     ...   ...             ...            ...       ...   \n",
              "325       54  Clouds  2021      111.005976            349     276.2   \n",
              "326       57  Clouds  2021      111.005976            349     276.2   \n",
              "327       58  Clouds  2021      111.005976            349     276.2   \n",
              "328       83  Clouds  2021      111.005976            349     276.2   \n",
              "329       92  Clouds  2021      111.005976            349     276.2   \n",
              "\n",
              "     CANT_ACC_TRANSITO  \n",
              "0                  473  \n",
              "1                  473  \n",
              "2                  473  \n",
              "3                  473  \n",
              "4                  473  \n",
              "..                 ...  \n",
              "325                504  \n",
              "326                504  \n",
              "327                504  \n",
              "328                504  \n",
              "329                504  \n",
              "\n",
              "[330 rows x 13 columns]"
            ],
            "text/html": [
              "\n",
              "  <div id=\"df-d180ac54-2b69-47c1-96a1-d3b98e4a2aca\">\n",
              "    <div class=\"colab-df-container\">\n",
              "      <div>\n",
              "<style scoped>\n",
              "    .dataframe tbody tr th:only-of-type {\n",
              "        vertical-align: middle;\n",
              "    }\n",
              "\n",
              "    .dataframe tbody tr th {\n",
              "        vertical-align: top;\n",
              "    }\n",
              "\n",
              "    .dataframe thead th {\n",
              "        text-align: right;\n",
              "    }\n",
              "</style>\n",
              "<table border=\"1\" class=\"dataframe\">\n",
              "  <thead>\n",
              "    <tr style=\"text-align: right;\">\n",
              "      <th></th>\n",
              "      <th>DEPARTAMENTO</th>\n",
              "      <th>FECHA REPARTO</th>\n",
              "      <th>count</th>\n",
              "      <th>Latitud</th>\n",
              "      <th>Longitud</th>\n",
              "      <th>TEMPERATURA</th>\n",
              "      <th>HUMEDAD</th>\n",
              "      <th>CLIMA</th>\n",
              "      <th>AÑO</th>\n",
              "      <th>INDICE_DELITOS</th>\n",
              "      <th>CANT_FENO_NAT</th>\n",
              "      <th>CANT_PEA</th>\n",
              "      <th>CANT_ACC_TRANSITO</th>\n",
              "    </tr>\n",
              "  </thead>\n",
              "  <tbody>\n",
              "    <tr>\n",
              "      <th>0</th>\n",
              "      <td>AMAZONAS</td>\n",
              "      <td>04/04/2022</td>\n",
              "      <td>2</td>\n",
              "      <td>-4.479925</td>\n",
              "      <td>-63.51854</td>\n",
              "      <td>27.35</td>\n",
              "      <td>71</td>\n",
              "      <td>Rain</td>\n",
              "      <td>2021</td>\n",
              "      <td>101.840789</td>\n",
              "      <td>368</td>\n",
              "      <td>243.1</td>\n",
              "      <td>473</td>\n",
              "    </tr>\n",
              "    <tr>\n",
              "      <th>1</th>\n",
              "      <td>AMAZONAS</td>\n",
              "      <td>05/04/2022</td>\n",
              "      <td>107</td>\n",
              "      <td>-4.479925</td>\n",
              "      <td>-63.51854</td>\n",
              "      <td>29.42</td>\n",
              "      <td>69</td>\n",
              "      <td>Clouds</td>\n",
              "      <td>2021</td>\n",
              "      <td>101.840789</td>\n",
              "      <td>368</td>\n",
              "      <td>243.1</td>\n",
              "      <td>473</td>\n",
              "    </tr>\n",
              "    <tr>\n",
              "      <th>2</th>\n",
              "      <td>AMAZONAS</td>\n",
              "      <td>06/04/2022</td>\n",
              "      <td>4</td>\n",
              "      <td>-4.479925</td>\n",
              "      <td>-63.51854</td>\n",
              "      <td>30.36</td>\n",
              "      <td>62</td>\n",
              "      <td>Clouds</td>\n",
              "      <td>2021</td>\n",
              "      <td>101.840789</td>\n",
              "      <td>368</td>\n",
              "      <td>243.1</td>\n",
              "      <td>473</td>\n",
              "    </tr>\n",
              "    <tr>\n",
              "      <th>3</th>\n",
              "      <td>AMAZONAS</td>\n",
              "      <td>07/04/2022</td>\n",
              "      <td>31</td>\n",
              "      <td>-4.479925</td>\n",
              "      <td>-63.51854</td>\n",
              "      <td>32.22</td>\n",
              "      <td>52</td>\n",
              "      <td>Clouds</td>\n",
              "      <td>2021</td>\n",
              "      <td>101.840789</td>\n",
              "      <td>368</td>\n",
              "      <td>243.1</td>\n",
              "      <td>473</td>\n",
              "    </tr>\n",
              "    <tr>\n",
              "      <th>4</th>\n",
              "      <td>AMAZONAS</td>\n",
              "      <td>08/04/2022</td>\n",
              "      <td>58</td>\n",
              "      <td>-4.479925</td>\n",
              "      <td>-63.51854</td>\n",
              "      <td>32.15</td>\n",
              "      <td>53</td>\n",
              "      <td>Rain</td>\n",
              "      <td>2021</td>\n",
              "      <td>101.840789</td>\n",
              "      <td>368</td>\n",
              "      <td>243.1</td>\n",
              "      <td>473</td>\n",
              "    </tr>\n",
              "    <tr>\n",
              "      <th>...</th>\n",
              "      <td>...</td>\n",
              "      <td>...</td>\n",
              "      <td>...</td>\n",
              "      <td>...</td>\n",
              "      <td>...</td>\n",
              "      <td>...</td>\n",
              "      <td>...</td>\n",
              "      <td>...</td>\n",
              "      <td>...</td>\n",
              "      <td>...</td>\n",
              "      <td>...</td>\n",
              "      <td>...</td>\n",
              "      <td>...</td>\n",
              "    </tr>\n",
              "    <tr>\n",
              "      <th>325</th>\n",
              "      <td>UCAYALI</td>\n",
              "      <td>10/04/2022</td>\n",
              "      <td>222</td>\n",
              "      <td>-9.000000</td>\n",
              "      <td>-73.50000</td>\n",
              "      <td>30.66</td>\n",
              "      <td>54</td>\n",
              "      <td>Clouds</td>\n",
              "      <td>2021</td>\n",
              "      <td>111.005976</td>\n",
              "      <td>349</td>\n",
              "      <td>276.2</td>\n",
              "      <td>504</td>\n",
              "    </tr>\n",
              "    <tr>\n",
              "      <th>326</th>\n",
              "      <td>UCAYALI</td>\n",
              "      <td>11/04/2022</td>\n",
              "      <td>242</td>\n",
              "      <td>-9.000000</td>\n",
              "      <td>-73.50000</td>\n",
              "      <td>31.29</td>\n",
              "      <td>57</td>\n",
              "      <td>Clouds</td>\n",
              "      <td>2021</td>\n",
              "      <td>111.005976</td>\n",
              "      <td>349</td>\n",
              "      <td>276.2</td>\n",
              "      <td>504</td>\n",
              "    </tr>\n",
              "    <tr>\n",
              "      <th>327</th>\n",
              "      <td>UCAYALI</td>\n",
              "      <td>12/04/2022</td>\n",
              "      <td>135</td>\n",
              "      <td>-9.000000</td>\n",
              "      <td>-73.50000</td>\n",
              "      <td>30.79</td>\n",
              "      <td>58</td>\n",
              "      <td>Clouds</td>\n",
              "      <td>2021</td>\n",
              "      <td>111.005976</td>\n",
              "      <td>349</td>\n",
              "      <td>276.2</td>\n",
              "      <td>504</td>\n",
              "    </tr>\n",
              "    <tr>\n",
              "      <th>328</th>\n",
              "      <td>UCAYALI</td>\n",
              "      <td>13/04/2022</td>\n",
              "      <td>3</td>\n",
              "      <td>-9.000000</td>\n",
              "      <td>-73.50000</td>\n",
              "      <td>28.25</td>\n",
              "      <td>83</td>\n",
              "      <td>Clouds</td>\n",
              "      <td>2021</td>\n",
              "      <td>111.005976</td>\n",
              "      <td>349</td>\n",
              "      <td>276.2</td>\n",
              "      <td>504</td>\n",
              "    </tr>\n",
              "    <tr>\n",
              "      <th>329</th>\n",
              "      <td>UCAYALI</td>\n",
              "      <td>14/04/2022</td>\n",
              "      <td>2</td>\n",
              "      <td>-9.000000</td>\n",
              "      <td>-73.50000</td>\n",
              "      <td>24.02</td>\n",
              "      <td>92</td>\n",
              "      <td>Clouds</td>\n",
              "      <td>2021</td>\n",
              "      <td>111.005976</td>\n",
              "      <td>349</td>\n",
              "      <td>276.2</td>\n",
              "      <td>504</td>\n",
              "    </tr>\n",
              "  </tbody>\n",
              "</table>\n",
              "<p>330 rows × 13 columns</p>\n",
              "</div>\n",
              "      <button class=\"colab-df-convert\" onclick=\"convertToInteractive('df-d180ac54-2b69-47c1-96a1-d3b98e4a2aca')\"\n",
              "              title=\"Convert this dataframe to an interactive table.\"\n",
              "              style=\"display:none;\">\n",
              "        \n",
              "  <svg xmlns=\"http://www.w3.org/2000/svg\" height=\"24px\"viewBox=\"0 0 24 24\"\n",
              "       width=\"24px\">\n",
              "    <path d=\"M0 0h24v24H0V0z\" fill=\"none\"/>\n",
              "    <path d=\"M18.56 5.44l.94 2.06.94-2.06 2.06-.94-2.06-.94-.94-2.06-.94 2.06-2.06.94zm-11 1L8.5 8.5l.94-2.06 2.06-.94-2.06-.94L8.5 2.5l-.94 2.06-2.06.94zm10 10l.94 2.06.94-2.06 2.06-.94-2.06-.94-.94-2.06-.94 2.06-2.06.94z\"/><path d=\"M17.41 7.96l-1.37-1.37c-.4-.4-.92-.59-1.43-.59-.52 0-1.04.2-1.43.59L10.3 9.45l-7.72 7.72c-.78.78-.78 2.05 0 2.83L4 21.41c.39.39.9.59 1.41.59.51 0 1.02-.2 1.41-.59l7.78-7.78 2.81-2.81c.8-.78.8-2.07 0-2.86zM5.41 20L4 18.59l7.72-7.72 1.47 1.35L5.41 20z\"/>\n",
              "  </svg>\n",
              "      </button>\n",
              "      \n",
              "  <style>\n",
              "    .colab-df-container {\n",
              "      display:flex;\n",
              "      flex-wrap:wrap;\n",
              "      gap: 12px;\n",
              "    }\n",
              "\n",
              "    .colab-df-convert {\n",
              "      background-color: #E8F0FE;\n",
              "      border: none;\n",
              "      border-radius: 50%;\n",
              "      cursor: pointer;\n",
              "      display: none;\n",
              "      fill: #1967D2;\n",
              "      height: 32px;\n",
              "      padding: 0 0 0 0;\n",
              "      width: 32px;\n",
              "    }\n",
              "\n",
              "    .colab-df-convert:hover {\n",
              "      background-color: #E2EBFA;\n",
              "      box-shadow: 0px 1px 2px rgba(60, 64, 67, 0.3), 0px 1px 3px 1px rgba(60, 64, 67, 0.15);\n",
              "      fill: #174EA6;\n",
              "    }\n",
              "\n",
              "    [theme=dark] .colab-df-convert {\n",
              "      background-color: #3B4455;\n",
              "      fill: #D2E3FC;\n",
              "    }\n",
              "\n",
              "    [theme=dark] .colab-df-convert:hover {\n",
              "      background-color: #434B5C;\n",
              "      box-shadow: 0px 1px 3px 1px rgba(0, 0, 0, 0.15);\n",
              "      filter: drop-shadow(0px 1px 2px rgba(0, 0, 0, 0.3));\n",
              "      fill: #FFFFFF;\n",
              "    }\n",
              "  </style>\n",
              "\n",
              "      <script>\n",
              "        const buttonEl =\n",
              "          document.querySelector('#df-d180ac54-2b69-47c1-96a1-d3b98e4a2aca button.colab-df-convert');\n",
              "        buttonEl.style.display =\n",
              "          google.colab.kernel.accessAllowed ? 'block' : 'none';\n",
              "\n",
              "        async function convertToInteractive(key) {\n",
              "          const element = document.querySelector('#df-d180ac54-2b69-47c1-96a1-d3b98e4a2aca');\n",
              "          const dataTable =\n",
              "            await google.colab.kernel.invokeFunction('convertToInteractive',\n",
              "                                                     [key], {});\n",
              "          if (!dataTable) return;\n",
              "\n",
              "          const docLinkHtml = 'Like what you see? Visit the ' +\n",
              "            '<a target=\"_blank\" href=https://colab.research.google.com/notebooks/data_table.ipynb>data table notebook</a>'\n",
              "            + ' to learn more about interactive tables.';\n",
              "          element.innerHTML = '';\n",
              "          dataTable['output_type'] = 'display_data';\n",
              "          await google.colab.output.renderOutput(dataTable, element);\n",
              "          const docLink = document.createElement('div');\n",
              "          docLink.innerHTML = docLinkHtml;\n",
              "          element.appendChild(docLink);\n",
              "        }\n",
              "      </script>\n",
              "    </div>\n",
              "  </div>\n",
              "  "
            ]
          },
          "metadata": {},
          "execution_count": 206
        }
      ]
    },
    {
      "cell_type": "markdown",
      "source": [
        "# Se verifica el tipo de dirección"
      ],
      "metadata": {
        "id": "kl8PstJgi-pC"
      }
    },
    {
      "cell_type": "code",
      "source": [
        "dataset[\"DIRECCION1\"] = dataset[\"DIRECCION1\"].str.upper()"
      ],
      "metadata": {
        "id": "324T5wv4YwXB"
      },
      "execution_count": null,
      "outputs": []
    },
    {
      "cell_type": "code",
      "source": [
        "dataset[\"TIENE_AV\"] = dataset.DIRECCION1.str.contains(\"AV|AVENIDA\",regex=True,case=False)"
      ],
      "metadata": {
        "id": "BUrOT3nKbBYn"
      },
      "execution_count": null,
      "outputs": []
    },
    {
      "cell_type": "code",
      "source": [
        "dataset[\"TIENE_JR\"] = dataset.DIRECCION1.str.contains(\"JR|JIRON\",regex=True,case=False)"
      ],
      "metadata": {
        "id": "hMvw8zOlggVq"
      },
      "execution_count": null,
      "outputs": []
    },
    {
      "cell_type": "code",
      "source": [
        "dataset[\"TIENE_CALLE\"] = dataset.DIRECCION1.str.contains(\"CALLE\",regex=True,case=False)"
      ],
      "metadata": {
        "id": "cPg6e9nfgmWd"
      },
      "execution_count": null,
      "outputs": []
    },
    {
      "cell_type": "markdown",
      "source": [
        "# Valores de respuestas"
      ],
      "metadata": {
        "id": "C86j1fNrI9xa"
      }
    },
    {
      "cell_type": "code",
      "source": [
        "dataset[\"TIPO_INCIDENCIA_REPARTO\"].value_counts()"
      ],
      "metadata": {
        "colab": {
          "base_uri": "https://localhost:8080/"
        },
        "id": "yIoM_ofPJH1f",
        "outputId": "ec00155b-1db0-4754-a154-df129b664742"
      },
      "execution_count": null,
      "outputs": [
        {
          "output_type": "execute_result",
          "data": {
            "text/plain": [
              "AUSENTE                          1480\n",
              "ES OTRA ZONA                     1020\n",
              "REEMBARQUE COLECTIVO              852\n",
              "SOCIAL                            827\n",
              "CLIMATICO                         484\n",
              "COORDINADO                        468\n",
              "DIRECCION INCOMPLETA              258\n",
              "REPROGRAMACION                    239\n",
              "REEMBARQUE ENTREGA EN AGENCIA     186\n",
              "DESCONOCIDO/NO DA RAZÓN           129\n",
              "DE VIAJE                           65\n",
              "DIRECCION ERRADA                   64\n",
              "FALLAS MECANICAS EN REPARTO        53\n",
              "RECOJO EN OFICINA                  27\n",
              "RECHAZADO                          27\n",
              "DESPACHO ERRADO                    22\n",
              "SE MUDO                            15\n",
              "DIRECCIÓN NO ACCESIBLE              9\n",
              "ZONA PELIGROSA                      8\n",
              "MERCADERIA SINIESTRADA (ROBO)       2\n",
              "NUEVA ZONA                          2\n",
              "DIRECCION INEXACTA                  1\n",
              "ZONA NO ACCESIBLE EN REPARTO        1\n",
              "Name: TIPO_INCIDENCIA_REPARTO, dtype: int64"
            ]
          },
          "metadata": {},
          "execution_count": 211
        }
      ]
    },
    {
      "cell_type": "markdown",
      "source": [
        "**Se elimina incidentes que no se pueden analizar por factores externos**\n",
        "\n"
      ],
      "metadata": {
        "id": "0bMsClNkRKVh"
      }
    },
    {
      "cell_type": "code",
      "source": [
        "dataset.shape"
      ],
      "metadata": {
        "colab": {
          "base_uri": "https://localhost:8080/"
        },
        "id": "edcI2PzDT9G8",
        "outputId": "12e8b6ef-47e9-4cd9-9b27-3eb176ba69af"
      },
      "execution_count": null,
      "outputs": [
        {
          "output_type": "execute_result",
          "data": {
            "text/plain": [
              "(37896, 45)"
            ]
          },
          "metadata": {},
          "execution_count": 212
        }
      ]
    },
    {
      "cell_type": "code",
      "source": [
        "newDataSet.to_csv('/content/drive/MyDrive/ML2022/TESIS/Version2/dataframe_apis.csv', # Indicar el nombre del archivo\n",
        "                            index = True,              # Indicar si incluir o no la columna indice. En este caso, como es el DNI, ponemos que sí\n",
        "                            sep = ';'                  # Indicamos el caracter a usarse como separador\n",
        "                          )"
      ],
      "metadata": {
        "id": "z_y7yAElF9x3"
      },
      "execution_count": null,
      "outputs": []
    },
    {
      "cell_type": "code",
      "source": [
        "dataset.to_csv('/content/drive/MyDrive/ML2022/TESIS/Version2/dataframe_process.csv', # Indicar el nombre del archivo\n",
        "                            index = True,              # Indicar si incluir o no la columna indice. En este caso, como es el DNI, ponemos que sí\n",
        "                            sep = ';'                  # Indicamos el caracter a usarse como separador\n",
        "                          )"
      ],
      "metadata": {
        "id": "dMDsQEmNF9-F"
      },
      "execution_count": null,
      "outputs": []
    },
    {
      "cell_type": "code",
      "source": [
        "# Tipos de incidencia que no se tomarán en cuenta\n",
        "dataset = dataset.drop(dataset[dataset.TIPO_INCIDENCIA_REPARTO == \"COORDINADO\"].index)\n",
        "dataset = dataset.drop(dataset[dataset.TIPO_INCIDENCIA_REPARTO == \"REPROGRAMACION\"].index)\n",
        "dataset = dataset.drop(dataset[dataset.TIPO_INCIDENCIA_REPARTO == \"REEMBARQUE ENTREGA EN AGENCIA\"].index)\n",
        "dataset = dataset.drop(dataset[dataset.TIPO_INCIDENCIA_REPARTO == \"DESCONOCIDO/NO DA RAZÓN\"].index)\n",
        "dataset = dataset.drop(dataset[dataset.TIPO_INCIDENCIA_REPARTO == \"RECOJO EN OFICINA\"].index)\n",
        "dataset = dataset.drop(dataset[dataset.TIPO_INCIDENCIA_REPARTO == \"RECHAZADO\"].index)\n",
        "dataset = dataset.drop(dataset[dataset.TIPO_INCIDENCIA_REPARTO == \"DESPACHO ERRADO\"].index)"
      ],
      "metadata": {
        "id": "4mv2b0sNRJfy"
      },
      "execution_count": null,
      "outputs": []
    },
    {
      "cell_type": "markdown",
      "source": [
        "**Se les asigna una etiqueta a los campos vacios de los atributos \"TIPO_INCIDENCIA_REPARTO\" y \"SUGERENCIAS\"**"
      ],
      "metadata": {
        "id": "cxkNPv7uvEcB"
      }
    },
    {
      "cell_type": "code",
      "source": [
        "dataset['SUGERENCIAS'] = np.where(dataset[\"TIPO_INCIDENCIA_REPARTO\"].isna(), 'OK', dataset['SUGERENCIAS'])"
      ],
      "metadata": {
        "id": "15F-c3b-sl4A"
      },
      "execution_count": null,
      "outputs": []
    },
    {
      "cell_type": "code",
      "source": [
        "dataset[\"TIPO_INCIDENCIA_REPARTO\"] = np.where(dataset[\"TIPO_INCIDENCIA_REPARTO\"].isna(), 'OK', dataset[\"TIPO_INCIDENCIA_REPARTO\"])"
      ],
      "metadata": {
        "id": "1dEprc7ruzPR"
      },
      "execution_count": null,
      "outputs": []
    },
    {
      "cell_type": "code",
      "source": [
        "dataset.loc[dataset[\"SUGERENCIAS\"]==\"#N/D\"]"
      ],
      "metadata": {
        "colab": {
          "base_uri": "https://localhost:8080/",
          "height": 160
        },
        "id": "sbQt6_HVtQsv",
        "outputId": "bdca9ec4-2eb6-46e9-d765-e924a0eefa2d"
      },
      "execution_count": null,
      "outputs": [
        {
          "output_type": "execute_result",
          "data": {
            "text/plain": [
              "Empty DataFrame\n",
              "Columns: [CLIENTE, GUIA, FECHA_GUIA, ESTADO_GUIA, FECHA_ENTREGA, SERVICIO, ORIGEN, DESTINO, ORIGEN_BASE, DESTINO_BASE, REMITENTE, CONSIGNATARIO, PAQUETES, GESTORA_SERVICIO, REPRESENTANTE, CONTADOR_VISITAS, FORMA_CONF_ENTREGA, DEPARTAMENTO, PROVINCIA, DISTRITO, DIRECCION1, DIRECCION2, FECHA_EMBARQUE, FECHA_SALIDA_PROYECT, FECHA_LLEGADA_PROYECT, FECHA_LLEGADA_REAL, PROVEEDOR DE TRANSPORTE, VIA, N_MANIFIESTO, FECHA_MANIFIESTO, ESTADO_MANIFIESTO, INCIDENCIA_MANIFIESTO, FECHA MANIFIESTO_INFORMADO, FECHA MANIFIESTO_RECOGIDO, FECHA MANIFIESTO_VERIFICADO, RESP_REPARTO, FECHA REPARTO, NUMERO REPARTO, TIPO_INCIDENCIA_REPARTO, FECHA_INCIDENCIA_REPARTO, FECHA_COMPROMISO, SUGERENCIAS, TIENE_AV, TIENE_JR, TIENE_CALLE]\n",
              "Index: []\n",
              "\n",
              "[0 rows x 45 columns]"
            ],
            "text/html": [
              "\n",
              "  <div id=\"df-d466ec8e-9187-40b5-9fce-56ab8e9641e1\">\n",
              "    <div class=\"colab-df-container\">\n",
              "      <div>\n",
              "<style scoped>\n",
              "    .dataframe tbody tr th:only-of-type {\n",
              "        vertical-align: middle;\n",
              "    }\n",
              "\n",
              "    .dataframe tbody tr th {\n",
              "        vertical-align: top;\n",
              "    }\n",
              "\n",
              "    .dataframe thead th {\n",
              "        text-align: right;\n",
              "    }\n",
              "</style>\n",
              "<table border=\"1\" class=\"dataframe\">\n",
              "  <thead>\n",
              "    <tr style=\"text-align: right;\">\n",
              "      <th></th>\n",
              "      <th>CLIENTE</th>\n",
              "      <th>GUIA</th>\n",
              "      <th>FECHA_GUIA</th>\n",
              "      <th>ESTADO_GUIA</th>\n",
              "      <th>FECHA_ENTREGA</th>\n",
              "      <th>SERVICIO</th>\n",
              "      <th>ORIGEN</th>\n",
              "      <th>DESTINO</th>\n",
              "      <th>ORIGEN_BASE</th>\n",
              "      <th>DESTINO_BASE</th>\n",
              "      <th>...</th>\n",
              "      <th>RESP_REPARTO</th>\n",
              "      <th>FECHA REPARTO</th>\n",
              "      <th>NUMERO REPARTO</th>\n",
              "      <th>TIPO_INCIDENCIA_REPARTO</th>\n",
              "      <th>FECHA_INCIDENCIA_REPARTO</th>\n",
              "      <th>FECHA_COMPROMISO</th>\n",
              "      <th>SUGERENCIAS</th>\n",
              "      <th>TIENE_AV</th>\n",
              "      <th>TIENE_JR</th>\n",
              "      <th>TIENE_CALLE</th>\n",
              "    </tr>\n",
              "  </thead>\n",
              "  <tbody>\n",
              "  </tbody>\n",
              "</table>\n",
              "<p>0 rows × 45 columns</p>\n",
              "</div>\n",
              "      <button class=\"colab-df-convert\" onclick=\"convertToInteractive('df-d466ec8e-9187-40b5-9fce-56ab8e9641e1')\"\n",
              "              title=\"Convert this dataframe to an interactive table.\"\n",
              "              style=\"display:none;\">\n",
              "        \n",
              "  <svg xmlns=\"http://www.w3.org/2000/svg\" height=\"24px\"viewBox=\"0 0 24 24\"\n",
              "       width=\"24px\">\n",
              "    <path d=\"M0 0h24v24H0V0z\" fill=\"none\"/>\n",
              "    <path d=\"M18.56 5.44l.94 2.06.94-2.06 2.06-.94-2.06-.94-.94-2.06-.94 2.06-2.06.94zm-11 1L8.5 8.5l.94-2.06 2.06-.94-2.06-.94L8.5 2.5l-.94 2.06-2.06.94zm10 10l.94 2.06.94-2.06 2.06-.94-2.06-.94-.94-2.06-.94 2.06-2.06.94z\"/><path d=\"M17.41 7.96l-1.37-1.37c-.4-.4-.92-.59-1.43-.59-.52 0-1.04.2-1.43.59L10.3 9.45l-7.72 7.72c-.78.78-.78 2.05 0 2.83L4 21.41c.39.39.9.59 1.41.59.51 0 1.02-.2 1.41-.59l7.78-7.78 2.81-2.81c.8-.78.8-2.07 0-2.86zM5.41 20L4 18.59l7.72-7.72 1.47 1.35L5.41 20z\"/>\n",
              "  </svg>\n",
              "      </button>\n",
              "      \n",
              "  <style>\n",
              "    .colab-df-container {\n",
              "      display:flex;\n",
              "      flex-wrap:wrap;\n",
              "      gap: 12px;\n",
              "    }\n",
              "\n",
              "    .colab-df-convert {\n",
              "      background-color: #E8F0FE;\n",
              "      border: none;\n",
              "      border-radius: 50%;\n",
              "      cursor: pointer;\n",
              "      display: none;\n",
              "      fill: #1967D2;\n",
              "      height: 32px;\n",
              "      padding: 0 0 0 0;\n",
              "      width: 32px;\n",
              "    }\n",
              "\n",
              "    .colab-df-convert:hover {\n",
              "      background-color: #E2EBFA;\n",
              "      box-shadow: 0px 1px 2px rgba(60, 64, 67, 0.3), 0px 1px 3px 1px rgba(60, 64, 67, 0.15);\n",
              "      fill: #174EA6;\n",
              "    }\n",
              "\n",
              "    [theme=dark] .colab-df-convert {\n",
              "      background-color: #3B4455;\n",
              "      fill: #D2E3FC;\n",
              "    }\n",
              "\n",
              "    [theme=dark] .colab-df-convert:hover {\n",
              "      background-color: #434B5C;\n",
              "      box-shadow: 0px 1px 3px 1px rgba(0, 0, 0, 0.15);\n",
              "      filter: drop-shadow(0px 1px 2px rgba(0, 0, 0, 0.3));\n",
              "      fill: #FFFFFF;\n",
              "    }\n",
              "  </style>\n",
              "\n",
              "      <script>\n",
              "        const buttonEl =\n",
              "          document.querySelector('#df-d466ec8e-9187-40b5-9fce-56ab8e9641e1 button.colab-df-convert');\n",
              "        buttonEl.style.display =\n",
              "          google.colab.kernel.accessAllowed ? 'block' : 'none';\n",
              "\n",
              "        async function convertToInteractive(key) {\n",
              "          const element = document.querySelector('#df-d466ec8e-9187-40b5-9fce-56ab8e9641e1');\n",
              "          const dataTable =\n",
              "            await google.colab.kernel.invokeFunction('convertToInteractive',\n",
              "                                                     [key], {});\n",
              "          if (!dataTable) return;\n",
              "\n",
              "          const docLinkHtml = 'Like what you see? Visit the ' +\n",
              "            '<a target=\"_blank\" href=https://colab.research.google.com/notebooks/data_table.ipynb>data table notebook</a>'\n",
              "            + ' to learn more about interactive tables.';\n",
              "          element.innerHTML = '';\n",
              "          dataTable['output_type'] = 'display_data';\n",
              "          await google.colab.output.renderOutput(dataTable, element);\n",
              "          const docLink = document.createElement('div');\n",
              "          docLink.innerHTML = docLinkHtml;\n",
              "          element.appendChild(docLink);\n",
              "        }\n",
              "      </script>\n",
              "    </div>\n",
              "  </div>\n",
              "  "
            ]
          },
          "metadata": {},
          "execution_count": 218
        }
      ]
    },
    {
      "cell_type": "code",
      "source": [
        "dataset.loc[dataset[\"TIPO_INCIDENCIA_REPARTO\"].isna()]"
      ],
      "metadata": {
        "colab": {
          "base_uri": "https://localhost:8080/",
          "height": 160
        },
        "id": "up8OyVZzs9Y5",
        "outputId": "a0cebc24-ef66-4058-f691-421c8735eac8"
      },
      "execution_count": null,
      "outputs": [
        {
          "output_type": "execute_result",
          "data": {
            "text/plain": [
              "Empty DataFrame\n",
              "Columns: [CLIENTE, GUIA, FECHA_GUIA, ESTADO_GUIA, FECHA_ENTREGA, SERVICIO, ORIGEN, DESTINO, ORIGEN_BASE, DESTINO_BASE, REMITENTE, CONSIGNATARIO, PAQUETES, GESTORA_SERVICIO, REPRESENTANTE, CONTADOR_VISITAS, FORMA_CONF_ENTREGA, DEPARTAMENTO, PROVINCIA, DISTRITO, DIRECCION1, DIRECCION2, FECHA_EMBARQUE, FECHA_SALIDA_PROYECT, FECHA_LLEGADA_PROYECT, FECHA_LLEGADA_REAL, PROVEEDOR DE TRANSPORTE, VIA, N_MANIFIESTO, FECHA_MANIFIESTO, ESTADO_MANIFIESTO, INCIDENCIA_MANIFIESTO, FECHA MANIFIESTO_INFORMADO, FECHA MANIFIESTO_RECOGIDO, FECHA MANIFIESTO_VERIFICADO, RESP_REPARTO, FECHA REPARTO, NUMERO REPARTO, TIPO_INCIDENCIA_REPARTO, FECHA_INCIDENCIA_REPARTO, FECHA_COMPROMISO, SUGERENCIAS, TIENE_AV, TIENE_JR, TIENE_CALLE]\n",
              "Index: []\n",
              "\n",
              "[0 rows x 45 columns]"
            ],
            "text/html": [
              "\n",
              "  <div id=\"df-320a035e-5a02-4c2a-adb5-22c794b367d1\">\n",
              "    <div class=\"colab-df-container\">\n",
              "      <div>\n",
              "<style scoped>\n",
              "    .dataframe tbody tr th:only-of-type {\n",
              "        vertical-align: middle;\n",
              "    }\n",
              "\n",
              "    .dataframe tbody tr th {\n",
              "        vertical-align: top;\n",
              "    }\n",
              "\n",
              "    .dataframe thead th {\n",
              "        text-align: right;\n",
              "    }\n",
              "</style>\n",
              "<table border=\"1\" class=\"dataframe\">\n",
              "  <thead>\n",
              "    <tr style=\"text-align: right;\">\n",
              "      <th></th>\n",
              "      <th>CLIENTE</th>\n",
              "      <th>GUIA</th>\n",
              "      <th>FECHA_GUIA</th>\n",
              "      <th>ESTADO_GUIA</th>\n",
              "      <th>FECHA_ENTREGA</th>\n",
              "      <th>SERVICIO</th>\n",
              "      <th>ORIGEN</th>\n",
              "      <th>DESTINO</th>\n",
              "      <th>ORIGEN_BASE</th>\n",
              "      <th>DESTINO_BASE</th>\n",
              "      <th>...</th>\n",
              "      <th>RESP_REPARTO</th>\n",
              "      <th>FECHA REPARTO</th>\n",
              "      <th>NUMERO REPARTO</th>\n",
              "      <th>TIPO_INCIDENCIA_REPARTO</th>\n",
              "      <th>FECHA_INCIDENCIA_REPARTO</th>\n",
              "      <th>FECHA_COMPROMISO</th>\n",
              "      <th>SUGERENCIAS</th>\n",
              "      <th>TIENE_AV</th>\n",
              "      <th>TIENE_JR</th>\n",
              "      <th>TIENE_CALLE</th>\n",
              "    </tr>\n",
              "  </thead>\n",
              "  <tbody>\n",
              "  </tbody>\n",
              "</table>\n",
              "<p>0 rows × 45 columns</p>\n",
              "</div>\n",
              "      <button class=\"colab-df-convert\" onclick=\"convertToInteractive('df-320a035e-5a02-4c2a-adb5-22c794b367d1')\"\n",
              "              title=\"Convert this dataframe to an interactive table.\"\n",
              "              style=\"display:none;\">\n",
              "        \n",
              "  <svg xmlns=\"http://www.w3.org/2000/svg\" height=\"24px\"viewBox=\"0 0 24 24\"\n",
              "       width=\"24px\">\n",
              "    <path d=\"M0 0h24v24H0V0z\" fill=\"none\"/>\n",
              "    <path d=\"M18.56 5.44l.94 2.06.94-2.06 2.06-.94-2.06-.94-.94-2.06-.94 2.06-2.06.94zm-11 1L8.5 8.5l.94-2.06 2.06-.94-2.06-.94L8.5 2.5l-.94 2.06-2.06.94zm10 10l.94 2.06.94-2.06 2.06-.94-2.06-.94-.94-2.06-.94 2.06-2.06.94z\"/><path d=\"M17.41 7.96l-1.37-1.37c-.4-.4-.92-.59-1.43-.59-.52 0-1.04.2-1.43.59L10.3 9.45l-7.72 7.72c-.78.78-.78 2.05 0 2.83L4 21.41c.39.39.9.59 1.41.59.51 0 1.02-.2 1.41-.59l7.78-7.78 2.81-2.81c.8-.78.8-2.07 0-2.86zM5.41 20L4 18.59l7.72-7.72 1.47 1.35L5.41 20z\"/>\n",
              "  </svg>\n",
              "      </button>\n",
              "      \n",
              "  <style>\n",
              "    .colab-df-container {\n",
              "      display:flex;\n",
              "      flex-wrap:wrap;\n",
              "      gap: 12px;\n",
              "    }\n",
              "\n",
              "    .colab-df-convert {\n",
              "      background-color: #E8F0FE;\n",
              "      border: none;\n",
              "      border-radius: 50%;\n",
              "      cursor: pointer;\n",
              "      display: none;\n",
              "      fill: #1967D2;\n",
              "      height: 32px;\n",
              "      padding: 0 0 0 0;\n",
              "      width: 32px;\n",
              "    }\n",
              "\n",
              "    .colab-df-convert:hover {\n",
              "      background-color: #E2EBFA;\n",
              "      box-shadow: 0px 1px 2px rgba(60, 64, 67, 0.3), 0px 1px 3px 1px rgba(60, 64, 67, 0.15);\n",
              "      fill: #174EA6;\n",
              "    }\n",
              "\n",
              "    [theme=dark] .colab-df-convert {\n",
              "      background-color: #3B4455;\n",
              "      fill: #D2E3FC;\n",
              "    }\n",
              "\n",
              "    [theme=dark] .colab-df-convert:hover {\n",
              "      background-color: #434B5C;\n",
              "      box-shadow: 0px 1px 3px 1px rgba(0, 0, 0, 0.15);\n",
              "      filter: drop-shadow(0px 1px 2px rgba(0, 0, 0, 0.3));\n",
              "      fill: #FFFFFF;\n",
              "    }\n",
              "  </style>\n",
              "\n",
              "      <script>\n",
              "        const buttonEl =\n",
              "          document.querySelector('#df-320a035e-5a02-4c2a-adb5-22c794b367d1 button.colab-df-convert');\n",
              "        buttonEl.style.display =\n",
              "          google.colab.kernel.accessAllowed ? 'block' : 'none';\n",
              "\n",
              "        async function convertToInteractive(key) {\n",
              "          const element = document.querySelector('#df-320a035e-5a02-4c2a-adb5-22c794b367d1');\n",
              "          const dataTable =\n",
              "            await google.colab.kernel.invokeFunction('convertToInteractive',\n",
              "                                                     [key], {});\n",
              "          if (!dataTable) return;\n",
              "\n",
              "          const docLinkHtml = 'Like what you see? Visit the ' +\n",
              "            '<a target=\"_blank\" href=https://colab.research.google.com/notebooks/data_table.ipynb>data table notebook</a>'\n",
              "            + ' to learn more about interactive tables.';\n",
              "          element.innerHTML = '';\n",
              "          dataTable['output_type'] = 'display_data';\n",
              "          await google.colab.output.renderOutput(dataTable, element);\n",
              "          const docLink = document.createElement('div');\n",
              "          docLink.innerHTML = docLinkHtml;\n",
              "          element.appendChild(docLink);\n",
              "        }\n",
              "      </script>\n",
              "    </div>\n",
              "  </div>\n",
              "  "
            ]
          },
          "metadata": {},
          "execution_count": 219
        }
      ]
    },
    {
      "cell_type": "code",
      "source": [
        "#array(['VERIFICADO', 'RECOGIDO', 'INFORMADO', 'PENDIENTE'], dtype=object)\n",
        "dataset = dataset.drop(dataset[dataset.ESTADO_MANIFIESTO == \"RECOGIDO\"].index)\n",
        "dataset = dataset.drop(dataset[dataset.ESTADO_MANIFIESTO == \"PENDIENTE\"].index)\n",
        "dataset = dataset.drop(dataset[dataset.ESTADO_MANIFIESTO == \"INFORMADO\"].index)\n",
        "dataset = dataset.drop(dataset[dataset.ESTADO_MANIFIESTO == \"DDV\"].index)"
      ],
      "metadata": {
        "id": "ByaEeSmRVbJB"
      },
      "execution_count": null,
      "outputs": []
    },
    {
      "cell_type": "code",
      "source": [
        "# Eliminamos departaentos vacios\n",
        "dataset = dataset.drop(dataset[dataset.DEPARTAMENTO.isnull()].index)"
      ],
      "metadata": {
        "id": "7GAX68pCRWQA"
      },
      "execution_count": null,
      "outputs": []
    },
    {
      "cell_type": "markdown",
      "source": [
        "# Combinar Dataset con los parámetros de entrada"
      ],
      "metadata": {
        "id": "GkQiKsymlxvS"
      }
    },
    {
      "cell_type": "code",
      "source": [
        "#datasetFinal = pd.merge(dataset, subDataset, how=\"left\")\n",
        "datasetFinal = dataset.merge(newDataSet, how = 'left', left_on = ['DEPARTAMENTO', 'FECHA REPARTO'],  right_on = ['DEPARTAMENTO', 'FECHA REPARTO'])"
      ],
      "metadata": {
        "id": "3QaWRnp1l5Mc"
      },
      "execution_count": null,
      "outputs": []
    },
    {
      "cell_type": "code",
      "source": [
        "datasetFinal.to_csv('/content/drive/MyDrive/ML2022/TESIS/Version2/dataframe_process_antes_eliminar_columns.csv', # Indicar el nombre del archivo\n",
        "                            index = True,              # Indicar si incluir o no la columna indice. En este caso, como es el DNI, ponemos que sí\n",
        "                            sep = ';'                  # Indicamos el caracter a usarse como separador\n",
        "                          )"
      ],
      "metadata": {
        "id": "GKZneqrSK7wD"
      },
      "execution_count": null,
      "outputs": []
    },
    {
      "cell_type": "code",
      "source": [
        "dataset = datasetFinal"
      ],
      "metadata": {
        "id": "sS8NP8iOMPhd"
      },
      "execution_count": null,
      "outputs": []
    },
    {
      "cell_type": "code",
      "source": [
        "dataset = pd.read_csv('/content/drive/MyDrive/ML2022/TESIS/Version2/dataframe_process_antes_eliminar_columns.csv',sep=';')"
      ],
      "metadata": {
        "id": "0IQe9Z0w-bbU",
        "colab": {
          "base_uri": "https://localhost:8080/"
        },
        "outputId": "0c986f83-2051-4d1b-8c0d-d4487456953a"
      },
      "execution_count": null,
      "outputs": [
        {
          "output_type": "stream",
          "name": "stderr",
          "text": [
            "/usr/local/lib/python3.7/dist-packages/IPython/core/interactiveshell.py:3326: DtypeWarning: Columns (40) have mixed types.Specify dtype option on import or set low_memory=False.\n",
            "  exec(code_obj, self.user_global_ns, self.user_ns)\n"
          ]
        }
      ]
    },
    {
      "cell_type": "code",
      "source": [
        "dataset.columns"
      ],
      "metadata": {
        "colab": {
          "base_uri": "https://localhost:8080/"
        },
        "id": "JIYO-BevLbm8",
        "outputId": "e32c87fb-db86-4f95-a6f8-5959ac344ffb"
      },
      "execution_count": null,
      "outputs": [
        {
          "output_type": "execute_result",
          "data": {
            "text/plain": [
              "Index(['Unnamed: 0', 'CLIENTE', 'GUIA', 'FECHA_GUIA', 'ESTADO_GUIA',\n",
              "       'FECHA_ENTREGA', 'SERVICIO', 'ORIGEN', 'DESTINO', 'ORIGEN_BASE',\n",
              "       'DESTINO_BASE', 'REMITENTE', 'CONSIGNATARIO', 'PAQUETES',\n",
              "       'GESTORA_SERVICIO', 'REPRESENTANTE', 'CONTADOR_VISITAS',\n",
              "       'FORMA_CONF_ENTREGA', 'DEPARTAMENTO', 'PROVINCIA', 'DISTRITO',\n",
              "       'DIRECCION1', 'DIRECCION2', 'FECHA_EMBARQUE', 'FECHA_SALIDA_PROYECT',\n",
              "       'FECHA_LLEGADA_PROYECT', 'FECHA_LLEGADA_REAL',\n",
              "       'PROVEEDOR DE TRANSPORTE', 'VIA', 'N_MANIFIESTO', 'FECHA_MANIFIESTO',\n",
              "       'ESTADO_MANIFIESTO', 'INCIDENCIA_MANIFIESTO',\n",
              "       'FECHA MANIFIESTO_INFORMADO', 'FECHA MANIFIESTO_RECOGIDO',\n",
              "       'FECHA MANIFIESTO_VERIFICADO', 'RESP_REPARTO', 'FECHA REPARTO',\n",
              "       'NUMERO REPARTO', 'TIPO_INCIDENCIA_REPARTO', 'FECHA_INCIDENCIA_REPARTO',\n",
              "       'FECHA_COMPROMISO', 'SUGERENCIAS', 'TIENE_AV', 'TIENE_JR',\n",
              "       'TIENE_CALLE', 'count', 'Latitud', 'Longitud', 'TEMPERATURA', 'HUMEDAD',\n",
              "       'CLIMA', 'AÑO', 'INDICE_DELITOS', 'CANT_FENO_NAT', 'CANT_PEA',\n",
              "       'CANT_ACC_TRANSITO'],\n",
              "      dtype='object')"
            ]
          },
          "metadata": {},
          "execution_count": 226
        }
      ]
    },
    {
      "cell_type": "markdown",
      "source": [
        "**Ahora eliminaremos las columnas que no guardan relación**"
      ],
      "metadata": {
        "id": "Dy5R2E4AwDKr"
      }
    },
    {
      "cell_type": "code",
      "execution_count": null,
      "metadata": {
        "id": "YruECouo8qfh"
      },
      "outputs": [],
      "source": [
        "# Ahora eliminaremos las columnas que no guardan relación\n",
        "dataset = dataset.drop(['GUIA'], axis=1)\n",
        "dataset = dataset.drop(['AÑO'], axis=1)\n",
        "dataset = dataset.drop(['DIRECCION1'], axis=1)\n",
        "dataset = dataset.drop(['N_MANIFIESTO'], axis=1)\n",
        "dataset = dataset.drop(['PROVINCIA'], axis=1)\n",
        "dataset = dataset.drop(['DISTRITO'], axis=1)\n",
        "dataset = dataset.drop(['NUMERO REPARTO'], axis=1)\n",
        "dataset = dataset.drop(['FECHA MANIFIESTO_VERIFICADO'], axis=1)\n",
        "dataset = dataset.drop(['ORIGEN_BASE'], axis=1)\n",
        "dataset = dataset.drop(['REMITENTE'], axis=1)\n",
        "dataset = dataset.drop(['FECHA_EMBARQUE'], axis=1)\n",
        "dataset = dataset.drop(['FORMA_CONF_ENTREGA'], axis=1)\n",
        "dataset = dataset.drop(['CONSIGNATARIO'], axis=1)\n",
        "dataset = dataset.drop(['DESTINO_BASE'], axis=1)\n",
        "dataset = dataset.drop(['REPRESENTANTE'], axis=1)\n",
        "dataset = dataset.drop(['DIRECCION2'], axis=1)\n",
        "dataset = dataset.drop(['FECHA_LLEGADA_PROYECT'], axis=1)\n",
        "dataset = dataset.drop(['FECHA_LLEGADA_REAL'], axis=1)\n",
        "dataset = dataset.drop(['FECHA MANIFIESTO_RECOGIDO'], axis=1)\n",
        "dataset = dataset.drop(['FECHA MANIFIESTO_INFORMADO'], axis=1)\n",
        "dataset = dataset.drop(['FECHA REPARTO'], axis=1)\n",
        "dataset = dataset.drop(['DESTINO'], axis=1)\n",
        "dataset = dataset.drop(['FECHA_COMPROMISO'], axis=1)\n",
        "dataset = dataset.drop(['FECHA_MANIFIESTO'], axis=1)\n",
        "dataset = dataset.drop(['RESP_REPARTO'], axis=1)\n",
        "dataset = dataset.drop(['FECHA_INCIDENCIA_REPARTO'], axis=1)\n",
        "dataset = dataset.drop(['FECHA_SALIDA_PROYECT'], axis=1)\n",
        "dataset = dataset.drop(['FECHA_GUIA'], axis=1)\n",
        "dataset = dataset.drop(['FECHA_ENTREGA'], axis=1)\n",
        "dataset = dataset.drop(['ORIGEN'], axis=1)\n",
        "dataset = dataset.drop(['GESTORA_SERVICIO'], axis=1)\n",
        "dataset = dataset.drop(['PROVEEDOR DE TRANSPORTE'], axis=1)\n",
        "dataset = dataset.drop(['CLIENTE'], axis=1)\n",
        "dataset = dataset.drop(['count'], axis=1)\n",
        "dataset = dataset.drop(['ESTADO_MANIFIESTO'], axis=1)\n",
        "dataset = dataset.drop(['ESTADO_GUIA'], axis=1)\n",
        "dataset = dataset.drop(['TIPO_INCIDENCIA_REPARTO'], axis=1)\n",
        "dataset = dataset.drop(['Latitud'], axis=1)\n",
        "dataset = dataset.drop(['Longitud'], axis=1)"
      ]
    },
    {
      "cell_type": "code",
      "source": [
        "dataset.columns"
      ],
      "metadata": {
        "colab": {
          "base_uri": "https://localhost:8080/"
        },
        "id": "eVrrXeKzLqIW",
        "outputId": "75c001fd-189d-45d3-e842-643fa8e6382a"
      },
      "execution_count": null,
      "outputs": [
        {
          "output_type": "execute_result",
          "data": {
            "text/plain": [
              "Index(['Unnamed: 0', 'SERVICIO', 'PAQUETES', 'CONTADOR_VISITAS',\n",
              "       'DEPARTAMENTO', 'VIA', 'INCIDENCIA_MANIFIESTO', 'SUGERENCIAS',\n",
              "       'TIENE_AV', 'TIENE_JR', 'TIENE_CALLE', 'TEMPERATURA', 'HUMEDAD',\n",
              "       'CLIMA', 'INDICE_DELITOS', 'CANT_FENO_NAT', 'CANT_PEA',\n",
              "       'CANT_ACC_TRANSITO'],\n",
              "      dtype='object')"
            ]
          },
          "metadata": {},
          "execution_count": 228
        }
      ]
    },
    {
      "cell_type": "code",
      "execution_count": null,
      "metadata": {
        "id": "1RCqM83utewg"
      },
      "outputs": [],
      "source": [
        "#Completamos los campos vaciós de las vias terrestres\n",
        "moda = dataset['VIA'].mode()[0]\n",
        "dataset['VIA'] = dataset['VIA'].fillna(moda)"
      ]
    },
    {
      "cell_type": "code",
      "execution_count": null,
      "metadata": {
        "id": "_qjtYy0gzQ4t"
      },
      "outputs": [],
      "source": [
        "moda = dataset['SERVICIO'].mode()[0]\n",
        "dataset['SERVICIO'] = dataset['SERVICIO'].fillna(moda)"
      ]
    },
    {
      "cell_type": "code",
      "source": [
        "moda = dataset['DEPARTAMENTO'].mode()[0]\n",
        "dataset['DEPARTAMENTO'] = dataset['DEPARTAMENTO'].fillna(moda)"
      ],
      "metadata": {
        "id": "9W6UZUOc5cEX"
      },
      "execution_count": null,
      "outputs": []
    },
    {
      "cell_type": "code",
      "source": [
        "dataset['TIENE_AV'] = np.where(dataset['TIENE_AV']==True, 1, dataset['TIENE_AV'])\n",
        "dataset['TIENE_AV'] = np.where(dataset['TIENE_AV']==False, 0, dataset['TIENE_AV'])\n",
        "dataset['TIENE_AV'] = np.where(dataset['TIENE_AV'].isna()==True, 0, dataset['TIENE_AV'])\n",
        "dataset['TIENE_JR'] = np.where(dataset['TIENE_JR']==True, 1, dataset['TIENE_JR'])\n",
        "dataset['TIENE_JR'] = np.where(dataset['TIENE_JR']==False, 0, dataset['TIENE_JR'])\n",
        "dataset['TIENE_JR'] = np.where(dataset['TIENE_JR'].isna()==True, 0, dataset['TIENE_JR'])\n",
        "dataset['TIENE_CALLE'] = np.where(dataset['TIENE_CALLE']==True, 1, dataset['TIENE_CALLE'])\n",
        "dataset['TIENE_CALLE'] = np.where(dataset['TIENE_CALLE']==False, 0, dataset['TIENE_CALLE'])\n",
        "dataset['TIENE_CALLE'] = np.where(dataset['TIENE_CALLE'].isna()==True, 0, dataset['TIENE_CALLE'])\n",
        "dataset['INCIDENCIA_MANIFIESTO'] = np.where(dataset['INCIDENCIA_MANIFIESTO'].isnull()==True, 'OK', dataset['INCIDENCIA_MANIFIESTO'])"
      ],
      "metadata": {
        "id": "AKOGGcHg3E_z"
      },
      "execution_count": null,
      "outputs": []
    },
    {
      "cell_type": "code",
      "source": [
        "dataset['NO_TIENE_REF'] = 0\n",
        "dataset['NO_TIENE_REF'] = np.where((dataset['TIENE_AV']==0) & (dataset['TIENE_JR']==0) & (dataset['TIENE_CALLE']==0), 1, dataset['NO_TIENE_REF'])"
      ],
      "metadata": {
        "id": "BXjFbWJrajDH"
      },
      "execution_count": null,
      "outputs": []
    },
    {
      "cell_type": "code",
      "source": [
        "dataset = dataset.drop(dataset[dataset.DEPARTAMENTO == \"ANDAHUAYLAS\"].index)"
      ],
      "metadata": {
        "id": "TFQ8etQ9NOQK"
      },
      "execution_count": null,
      "outputs": []
    },
    {
      "cell_type": "code",
      "source": [
        "dataset.count()"
      ],
      "metadata": {
        "colab": {
          "base_uri": "https://localhost:8080/"
        },
        "id": "w__t7DHASG5_",
        "outputId": "16e6c8f0-d9c7-4fe4-8c5d-569676e235c3"
      },
      "execution_count": null,
      "outputs": [
        {
          "output_type": "execute_result",
          "data": {
            "text/plain": [
              "Unnamed: 0               36017\n",
              "SERVICIO                 36017\n",
              "PAQUETES                 36017\n",
              "CONTADOR_VISITAS         36017\n",
              "DEPARTAMENTO             36017\n",
              "VIA                      36017\n",
              "INCIDENCIA_MANIFIESTO    36017\n",
              "SUGERENCIAS              36017\n",
              "TIENE_AV                 36017\n",
              "TIENE_JR                 36017\n",
              "TIENE_CALLE              36017\n",
              "TEMPERATURA              36017\n",
              "HUMEDAD                  36017\n",
              "CLIMA                    36017\n",
              "INDICE_DELITOS           36017\n",
              "CANT_FENO_NAT            36017\n",
              "CANT_PEA                 36017\n",
              "CANT_ACC_TRANSITO        36017\n",
              "NO_TIENE_REF             36017\n",
              "dtype: int64"
            ]
          },
          "metadata": {},
          "execution_count": 235
        }
      ]
    },
    {
      "cell_type": "code",
      "source": [
        "dataset.dtypes"
      ],
      "metadata": {
        "colab": {
          "base_uri": "https://localhost:8080/"
        },
        "id": "Ra5ij0C_gXnT",
        "outputId": "21882413-06d9-4b2e-d7bc-4da171636df2"
      },
      "execution_count": null,
      "outputs": [
        {
          "output_type": "execute_result",
          "data": {
            "text/plain": [
              "Unnamed: 0                 int64\n",
              "SERVICIO                  object\n",
              "PAQUETES                   int64\n",
              "CONTADOR_VISITAS           int64\n",
              "DEPARTAMENTO              object\n",
              "VIA                       object\n",
              "INCIDENCIA_MANIFIESTO     object\n",
              "SUGERENCIAS               object\n",
              "TIENE_AV                  object\n",
              "TIENE_JR                  object\n",
              "TIENE_CALLE               object\n",
              "TEMPERATURA              float64\n",
              "HUMEDAD                  float64\n",
              "CLIMA                     object\n",
              "INDICE_DELITOS           float64\n",
              "CANT_FENO_NAT            float64\n",
              "CANT_PEA                 float64\n",
              "CANT_ACC_TRANSITO        float64\n",
              "NO_TIENE_REF               int64\n",
              "dtype: object"
            ]
          },
          "metadata": {},
          "execution_count": 236
        }
      ]
    },
    {
      "cell_type": "markdown",
      "source": [
        "# Convertir datos categóricos a numéricos"
      ],
      "metadata": {
        "id": "BG1qaIDTl-SN"
      }
    },
    {
      "cell_type": "code",
      "source": [
        "dataset[\"TIENE_AV\"] = dataset[\"TIENE_AV\"].astype('int')\n",
        "dataset[\"TIENE_JR\"] =dataset[\"TIENE_JR\"].astype('int')\n",
        "dataset[\"TIENE_CALLE\"] =dataset[\"TIENE_CALLE\"].astype('int')\n",
        "dataset[\"NO_TIENE_REF\"] = dataset[\"NO_TIENE_REF\"].astype('int')"
      ],
      "metadata": {
        "id": "tTW9wDSsOCS6"
      },
      "execution_count": null,
      "outputs": []
    },
    {
      "cell_type": "code",
      "execution_count": null,
      "metadata": {
        "id": "Y2RFaP-d9pZC"
      },
      "outputs": [],
      "source": [
        "prueba_dataset = dataset.copy()\n",
        "\n",
        "#Dictionario Servicios\n",
        "listaServicios = dataset[\"SERVICIO\"].unique().tolist()\n",
        "dictionaryServicios = {servicio:listaServicios.index(servicio) for servicio in listaServicios}\n",
        "\n",
        "#Dictionario Departamentos\n",
        "listaDepartamentos = dataset[\"DEPARTAMENTO\"].unique().tolist()\n",
        "dictionaryDepartamentos = {departamento:listaDepartamentos.index(departamento) for departamento in listaDepartamentos}\n",
        "\n",
        "#Dictionario Climas\n",
        "listaClimas = dataset[\"CLIMA\"].unique().tolist()\n",
        "dictionaryClimas = {clima:listaClimas.index(clima) for clima in listaClimas}\n",
        "\n",
        "#Dictionario Tipo incidencia\n",
        "#listaTipoIncidencia = dataset[\"TIPO_INCIDENCIA_REPARTO\"].unique().tolist()\n",
        "#dictionaryTipoIncidencia = {tipoIncidenciaRep:listaTipoIncidencia.index(tipoIncidenciaRep) for tipoIncidenciaRep in listaTipoIncidencia}\n",
        "\n",
        "#Dictionario Incidencia Manifiesto\n",
        "listaIncidenciaMan = dataset[\"INCIDENCIA_MANIFIESTO\"].unique().tolist()\n",
        "dictionaryIncidenciaMan = {incidenciaMan:listaIncidenciaMan.index(incidenciaMan) for incidenciaMan in listaIncidenciaMan}\n",
        "\n",
        "#Dictionario sugerencia\n",
        "listaSugerencias = dataset[\"SUGERENCIAS\"].unique().tolist()\n",
        "dictionarySugerencias = {sugerencia:listaSugerencias.index(sugerencia) for sugerencia in listaSugerencias}\n",
        "\n",
        "#Dictionario via\n",
        "listaVias = dataset[\"VIA\"].unique().tolist()\n",
        "dictionaryVias = {via:listaVias.index(via) for via in listaVias}\n"
      ]
    },
    {
      "cell_type": "code",
      "source": [
        "dataset.loc[dataset[\"SUGERENCIAS\"]==0].count()"
      ],
      "metadata": {
        "colab": {
          "base_uri": "https://localhost:8080/"
        },
        "id": "MzOQs1jtJFDh",
        "outputId": "d30e6a7e-077e-4fac-da66-24fa768e52a4"
      },
      "execution_count": null,
      "outputs": [
        {
          "output_type": "execute_result",
          "data": {
            "text/plain": [
              "Unnamed: 0               0\n",
              "SERVICIO                 0\n",
              "PAQUETES                 0\n",
              "CONTADOR_VISITAS         0\n",
              "DEPARTAMENTO             0\n",
              "VIA                      0\n",
              "INCIDENCIA_MANIFIESTO    0\n",
              "SUGERENCIAS              0\n",
              "TIENE_AV                 0\n",
              "TIENE_JR                 0\n",
              "TIENE_CALLE              0\n",
              "TEMPERATURA              0\n",
              "HUMEDAD                  0\n",
              "CLIMA                    0\n",
              "INDICE_DELITOS           0\n",
              "CANT_FENO_NAT            0\n",
              "CANT_PEA                 0\n",
              "CANT_ACC_TRANSITO        0\n",
              "NO_TIENE_REF             0\n",
              "dtype: int64"
            ]
          },
          "metadata": {},
          "execution_count": 239
        }
      ]
    },
    {
      "cell_type": "code",
      "source": [
        "dictionarySugerencias"
      ],
      "metadata": {
        "colab": {
          "base_uri": "https://localhost:8080/"
        },
        "id": "ABEzKNhhJARD",
        "outputId": "2771061e-2382-422f-b2c1-05357d7eaad4"
      },
      "execution_count": null,
      "outputs": [
        {
          "output_type": "execute_result",
          "data": {
            "text/plain": [
              "{'REGISTRAR CORRECTAMENTE LA DIRECCION DE DESTINO': 0,\n",
              " 'ENTREGAR NUMERO DE REFERENCIA DE LOS INTERMEDIARIOS': 1,\n",
              " 'AUMENTAR LA CANTIDAD DE DIAS DE ENTREGA PARA ESTAS FECHAS': 2,\n",
              " 'COORDINAR PREEVIAMENTE CON EL DESTINATARIO LA FECHA Y HORA DE ENTREGA': 3,\n",
              " 'COORDINAR CON EL DESTINATARIO/REPORTAR AL CLIENTE': 4,\n",
              " 'COORDINAR CON EL DESTINATARIO PARA EL RECOJO EN LA AGENCIA': 5,\n",
              " 'REALIZAR MANTENIMIENTO DE TRANSPORTE O HABLAR CON PROVEEDOR': 6,\n",
              " 'OK': 7}"
            ]
          },
          "metadata": {},
          "execution_count": 240
        }
      ]
    },
    {
      "cell_type": "code",
      "execution_count": null,
      "metadata": {
        "id": "VNl2fbGb-H2q"
      },
      "outputs": [],
      "source": [
        "preprocessed_dataset = dataset.copy()\n",
        "columnas_numericas = list()\n",
        "columnas_categoricas = list()\n",
        "\n",
        "for column in preprocessed_dataset:\n",
        "  #Determinamos si la variable es numérica o no\n",
        "  if pd.api.types.is_numeric_dtype(preprocessed_dataset[column]):\n",
        "    columnas_numericas.append(column)\n",
        "  else:\n",
        "    columnas_categoricas.append(column)\n"
      ]
    },
    {
      "cell_type": "code",
      "source": [
        "columnas_categoricas"
      ],
      "metadata": {
        "colab": {
          "base_uri": "https://localhost:8080/"
        },
        "id": "3kuWOShBcdDW",
        "outputId": "623e6188-72ea-4e28-bf8d-a338b745eb2f"
      },
      "execution_count": null,
      "outputs": [
        {
          "output_type": "execute_result",
          "data": {
            "text/plain": [
              "['SERVICIO',\n",
              " 'DEPARTAMENTO',\n",
              " 'VIA',\n",
              " 'INCIDENCIA_MANIFIESTO',\n",
              " 'SUGERENCIAS',\n",
              " 'CLIMA']"
            ]
          },
          "metadata": {},
          "execution_count": 242
        }
      ]
    },
    {
      "cell_type": "code",
      "source": [
        "for i in dataset.index:\n",
        "  departamento = str(dataset.loc[i,\"DEPARTAMENTO\"])\n",
        "  servicio = str(dataset.loc[i,\"SERVICIO\"])\n",
        "  via = str(dataset.loc[i,\"VIA\"])\n",
        "  incidenciaMan = str(dataset.loc[i,\"INCIDENCIA_MANIFIESTO\"])\n",
        "  #tipoIncidencia = str(dataset.loc[i,\"TIPO_INCIDENCIA_REPARTO\"])\n",
        "  sugerencia = str(dataset.loc[i,\"SUGERENCIAS\"])\n",
        "  clima = str(dataset.loc[i,\"CLIMA\"])\n",
        "\n",
        "  val_departamento = dictionaryDepartamentos[departamento]\n",
        "  val_servicio = dictionaryServicios[servicio]\n",
        "  val_via = dictionaryVias[via]\n",
        "  val_incidenciaMan = dictionaryIncidenciaMan[incidenciaMan]\n",
        "  #val_tipoIncidencia = dictionaryTipoIncidencia[tipoIncidencia]\n",
        "  val_sugerencia = dictionarySugerencias[sugerencia]\n",
        "  val_clima = dictionaryClimas[clima]\n",
        "\n",
        "  dataset.loc[i,\"SERVICIO\"] = val_servicio\n",
        "  dataset.loc[i,\"DEPARTAMENTO\"] = val_departamento\n",
        "  dataset.loc[i,\"VIA\"] = val_via\n",
        "  dataset.loc[i,\"INCIDENCIA_MANIFIESTO\"] = val_incidenciaMan\n",
        "  #dataset.loc[i,\"TIPO_INCIDENCIA_REPARTO\"] = val_tipoIncidencia\n",
        "  dataset.loc[i,\"SUGERENCIAS\"] = val_sugerencia\n",
        "  dataset.loc[i,\"CLIMA\"] = val_clima"
      ],
      "metadata": {
        "id": "iSn1-B8_cdGc"
      },
      "execution_count": null,
      "outputs": []
    },
    {
      "cell_type": "code",
      "source": [
        "dataset[\"SERVICIO\"] = dataset[\"SERVICIO\"].astype('int')\n",
        "dataset[\"DEPARTAMENTO\"] =dataset[\"DEPARTAMENTO\"].astype('int')\n",
        "dataset[\"VIA\"] =dataset[\"VIA\"].astype('int')\n",
        "dataset[\"INCIDENCIA_MANIFIESTO\"] = dataset[\"INCIDENCIA_MANIFIESTO\"].astype('int')\n",
        "#dataset[\"TIPO_INCIDENCIA_REPARTO\"] =dataset[\"TIPO_INCIDENCIA_REPARTO\"].astype('int')\n",
        "dataset[\"SUGERENCIAS\"] =dataset[\"SUGERENCIAS\"].astype('int')\n",
        "dataset[\"CLIMA\"] = dataset[\"CLIMA\"].astype('int')"
      ],
      "metadata": {
        "id": "ogIrRfXUin3E"
      },
      "execution_count": null,
      "outputs": []
    },
    {
      "cell_type": "code",
      "source": [
        "dataset = dataset.drop(['Unnamed: 0'], axis=1)"
      ],
      "metadata": {
        "id": "fygItKo0A-71"
      },
      "execution_count": null,
      "outputs": []
    },
    {
      "cell_type": "code",
      "source": [
        "dataSetCom  = dataset.copy()"
      ],
      "metadata": {
        "id": "m-Y_a2b05YVq"
      },
      "execution_count": null,
      "outputs": []
    },
    {
      "cell_type": "code",
      "source": [
        "dataset = dataSetCom.copy()"
      ],
      "metadata": {
        "id": "ak3U_TdQ5czT"
      },
      "execution_count": null,
      "outputs": []
    },
    {
      "cell_type": "markdown",
      "source": [
        "# Entrenar y predecir modelos"
      ],
      "metadata": {
        "id": "yPVjT-EUYwG-"
      }
    },
    {
      "cell_type": "code",
      "execution_count": null,
      "metadata": {
        "id": "ss-h_6KUlGdK"
      },
      "outputs": [],
      "source": [
        "import xgboost as xgb"
      ]
    },
    {
      "cell_type": "code",
      "execution_count": null,
      "metadata": {
        "id": "NpopkrA2lms2"
      },
      "outputs": [],
      "source": [
        "from sklearn.model_selection import train_test_split\n",
        "semilla_random_state = 20\n",
        "\n",
        "X = dataset.drop(columns=['SUGERENCIAS']).copy()\n",
        "y = dataset['SUGERENCIAS']\n",
        "\n",
        "X_train, X_test, y_train, y_test = train_test_split(X, y, # Vectores X e y\n",
        "                                                    test_size = 0.2, # Fracción para prueba (en este caso, 20%)\n",
        "                                                    random_state = semilla_random_state) # Semilla aleatoria, solo con fines de reproducibilidad. Hace que siempre que se ejecute el código,\n",
        "                                                                                           # el resultado sea el mismo. Normalmente no se usaria."
      ]
    },
    {
      "cell_type": "code",
      "source": [
        "type(y_train)"
      ],
      "metadata": {
        "colab": {
          "base_uri": "https://localhost:8080/"
        },
        "id": "1pfU5UzBTBph",
        "outputId": "4c3ee1e8-a4b8-49a0-e749-32b6188bea66"
      },
      "execution_count": null,
      "outputs": [
        {
          "output_type": "execute_result",
          "data": {
            "text/plain": [
              "pandas.core.series.Series"
            ]
          },
          "metadata": {},
          "execution_count": 250
        }
      ]
    },
    {
      "cell_type": "code",
      "source": [
        "y_train.unique()"
      ],
      "metadata": {
        "colab": {
          "base_uri": "https://localhost:8080/"
        },
        "id": "0ZpN8uJHTYKQ",
        "outputId": "7d84a98f-5b1d-4519-edf0-3ec826da7ed3"
      },
      "execution_count": null,
      "outputs": [
        {
          "output_type": "execute_result",
          "data": {
            "text/plain": [
              "array([7, 0, 2, 3, 1, 4, 6, 5])"
            ]
          },
          "metadata": {},
          "execution_count": 251
        }
      ]
    },
    {
      "cell_type": "code",
      "source": [
        "print(\"Cantidad de sugerencia tipo 0: \" + str(y_train[y_train == 0].count()))\n",
        "print(\"Cantidad de sugerencia tipo 1: \" + str(y_train[y_train == 1].count()))\n",
        "print(\"Cantidad de sugerencia tipo 2: \" + str(y_train[y_train == 2].count()))\n",
        "print(\"Cantidad de sugerencia tipo 3: \" + str(y_train[y_train == 3].count()))\n",
        "print(\"Cantidad de sugerencia tipo 4: \" + str(y_train[y_train == 4].count()))\n",
        "print(\"Cantidad de sugerencia tipo 5: \" + str(y_train[y_train == 5].count()))\n",
        "print(\"Cantidad de sugerencia tipo 6: \" + str(y_train[y_train == 6].count()))\n",
        "print(\"Cantidad de sugerencia tipo 7: \" + str(y_train[y_train == 7].count()))"
      ],
      "metadata": {
        "colab": {
          "base_uri": "https://localhost:8080/"
        },
        "id": "6G1d19gFFrdK",
        "outputId": "2d2867a8-f585-48a6-ecf0-ae49461391f0"
      },
      "execution_count": null,
      "outputs": [
        {
          "output_type": "stream",
          "name": "stdout",
          "text": [
            "Cantidad de sugerencia tipo 0: 1048\n",
            "Cantidad de sugerencia tipo 1: 651\n",
            "Cantidad de sugerencia tipo 2: 1020\n",
            "Cantidad de sugerencia tipo 3: 1152\n",
            "Cantidad de sugerencia tipo 4: 59\n",
            "Cantidad de sugerencia tipo 5: 15\n",
            "Cantidad de sugerencia tipo 6: 38\n",
            "Cantidad de sugerencia tipo 7: 24830\n"
          ]
        }
      ]
    },
    {
      "cell_type": "code",
      "source": [
        "y_test.unique()"
      ],
      "metadata": {
        "colab": {
          "base_uri": "https://localhost:8080/"
        },
        "id": "x7MhOqpvTp1i",
        "outputId": "4487ab9c-a4db-4ddf-9af2-9e21f59b0ce6"
      },
      "execution_count": null,
      "outputs": [
        {
          "output_type": "execute_result",
          "data": {
            "text/plain": [
              "array([2, 7, 1, 0, 3, 4, 5, 6])"
            ]
          },
          "metadata": {},
          "execution_count": 253
        }
      ]
    },
    {
      "cell_type": "code",
      "source": [
        "print(\"Cantidad de sugerencia tipo 0: \" + str(y_test[y_test == 0].count()))\n",
        "print(\"Cantidad de sugerencia tipo 1: \" + str(y_test[y_test == 1].count()))\n",
        "print(\"Cantidad de sugerencia tipo 2: \" + str(y_test[y_test == 2].count()))\n",
        "print(\"Cantidad de sugerencia tipo 3: \" + str(y_test[y_test == 3].count()))\n",
        "print(\"Cantidad de sugerencia tipo 4: \" + str(y_test[y_test == 4].count()))\n",
        "print(\"Cantidad de sugerencia tipo 5: \" + str(y_test[y_test == 5].count()))\n",
        "print(\"Cantidad de sugerencia tipo 6: \" + str(y_test[y_test == 6].count()))\n",
        "print(\"Cantidad de sugerencia tipo 7: \" + str(y_test[y_test == 7].count()))"
      ],
      "metadata": {
        "colab": {
          "base_uri": "https://localhost:8080/"
        },
        "id": "aVazbVlfFx43",
        "outputId": "2aa0e3cd-7a01-48c0-994d-6f3c02933034"
      },
      "execution_count": null,
      "outputs": [
        {
          "output_type": "stream",
          "name": "stdout",
          "text": [
            "Cantidad de sugerencia tipo 0: 259\n",
            "Cantidad de sugerencia tipo 1: 196\n",
            "Cantidad de sugerencia tipo 2: 264\n",
            "Cantidad de sugerencia tipo 3: 285\n",
            "Cantidad de sugerencia tipo 4: 21\n",
            "Cantidad de sugerencia tipo 5: 4\n",
            "Cantidad de sugerencia tipo 6: 14\n",
            "Cantidad de sugerencia tipo 7: 6161\n"
          ]
        }
      ]
    },
    {
      "cell_type": "code",
      "execution_count": null,
      "metadata": {
        "id": "NIr4cIrB3YQd"
      },
      "outputs": [],
      "source": [
        "from xgboost import XGBClassifier"
      ]
    },
    {
      "cell_type": "markdown",
      "metadata": {
        "id": "Ux6Rt2PgQK8s"
      },
      "source": [
        "![imagen.png](data:image/png;base64,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)"
      ]
    },
    {
      "cell_type": "code",
      "source": [
        "eval_set = [(X_train, y_train), (X_test, y_test)]"
      ],
      "metadata": {
        "id": "LN0--tPECMhG"
      },
      "execution_count": null,
      "outputs": []
    },
    {
      "cell_type": "code",
      "execution_count": null,
      "metadata": {
        "colab": {
          "base_uri": "https://localhost:8080/"
        },
        "id": "9w636pHK4Hyl",
        "outputId": "f7c5fdcf-115a-4062-822d-63488ecfa013"
      },
      "outputs": [
        {
          "output_type": "stream",
          "name": "stdout",
          "text": [
            "[0]\tvalidation_0-mlogloss:1.92849\tvalidation_0-merror:0.11998\tvalidation_1-mlogloss:1.92966\tvalidation_1-merror:0.12604\n",
            "[1]\tvalidation_0-mlogloss:1.79965\tvalidation_0-merror:0.11207\tvalidation_1-mlogloss:1.80197\tvalidation_1-merror:0.11674\n",
            "[2]\tvalidation_0-mlogloss:1.69145\tvalidation_0-merror:0.11505\tvalidation_1-mlogloss:1.69494\tvalidation_1-merror:0.11910\n",
            "[3]\tvalidation_0-mlogloss:1.59617\tvalidation_0-merror:0.11186\tvalidation_1-mlogloss:1.60085\tvalidation_1-merror:0.11813\n",
            "[4]\tvalidation_0-mlogloss:1.51303\tvalidation_0-merror:0.11432\tvalidation_1-mlogloss:1.51859\tvalidation_1-merror:0.11979\n",
            "[5]\tvalidation_0-mlogloss:1.43659\tvalidation_0-merror:0.11172\tvalidation_1-mlogloss:1.44301\tvalidation_1-merror:0.11882\n",
            "[6]\tvalidation_0-mlogloss:1.36766\tvalidation_0-merror:0.11124\tvalidation_1-mlogloss:1.37483\tvalidation_1-merror:0.11896\n",
            "[7]\tvalidation_0-mlogloss:1.30485\tvalidation_0-merror:0.11040\tvalidation_1-mlogloss:1.31298\tvalidation_1-merror:0.11854\n",
            "[8]\tvalidation_0-mlogloss:1.24764\tvalidation_0-merror:0.11082\tvalidation_1-mlogloss:1.25688\tvalidation_1-merror:0.11882\n",
            "[9]\tvalidation_0-mlogloss:1.19446\tvalidation_0-merror:0.11019\tvalidation_1-mlogloss:1.20447\tvalidation_1-merror:0.11785\n",
            "[10]\tvalidation_0-mlogloss:1.14613\tvalidation_0-merror:0.10887\tvalidation_1-mlogloss:1.15668\tvalidation_1-merror:0.11632\n",
            "[11]\tvalidation_0-mlogloss:1.10158\tvalidation_0-merror:0.11040\tvalidation_1-mlogloss:1.11287\tvalidation_1-merror:0.11854\n",
            "[12]\tvalidation_0-mlogloss:1.06026\tvalidation_0-merror:0.11009\tvalidation_1-mlogloss:1.07220\tvalidation_1-merror:0.11799\n",
            "[13]\tvalidation_0-mlogloss:1.02165\tvalidation_0-merror:0.11012\tvalidation_1-mlogloss:1.03434\tvalidation_1-merror:0.11785\n",
            "[14]\tvalidation_0-mlogloss:0.98391\tvalidation_0-merror:0.10804\tvalidation_1-mlogloss:0.99755\tvalidation_1-merror:0.11577\n",
            "[15]\tvalidation_0-mlogloss:0.94962\tvalidation_0-merror:0.10742\tvalidation_1-mlogloss:0.96408\tvalidation_1-merror:0.11507\n",
            "[16]\tvalidation_0-mlogloss:0.91833\tvalidation_0-merror:0.10686\tvalidation_1-mlogloss:0.93345\tvalidation_1-merror:0.11494\n",
            "[17]\tvalidation_0-mlogloss:0.88896\tvalidation_0-merror:0.10728\tvalidation_1-mlogloss:0.90461\tvalidation_1-merror:0.11494\n",
            "[18]\tvalidation_0-mlogloss:0.86018\tvalidation_0-merror:0.10676\tvalidation_1-mlogloss:0.87660\tvalidation_1-merror:0.11507\n",
            "[19]\tvalidation_0-mlogloss:0.83387\tvalidation_0-merror:0.10624\tvalidation_1-mlogloss:0.85085\tvalidation_1-merror:0.11466\n",
            "[20]\tvalidation_0-mlogloss:0.80839\tvalidation_0-merror:0.10575\tvalidation_1-mlogloss:0.82610\tvalidation_1-merror:0.11383\n",
            "[21]\tvalidation_0-mlogloss:0.78421\tvalidation_0-merror:0.10533\tvalidation_1-mlogloss:0.80262\tvalidation_1-merror:0.11355\n",
            "[22]\tvalidation_0-mlogloss:0.76217\tvalidation_0-merror:0.10554\tvalidation_1-mlogloss:0.78108\tvalidation_1-merror:0.11383\n",
            "[23]\tvalidation_0-mlogloss:0.74063\tvalidation_0-merror:0.10516\tvalidation_1-mlogloss:0.76026\tvalidation_1-merror:0.11355\n",
            "[24]\tvalidation_0-mlogloss:0.72061\tvalidation_0-merror:0.10492\tvalidation_1-mlogloss:0.74089\tvalidation_1-merror:0.11258\n",
            "[25]\tvalidation_0-mlogloss:0.70131\tvalidation_0-merror:0.10468\tvalidation_1-mlogloss:0.72225\tvalidation_1-merror:0.11258\n",
            "[26]\tvalidation_0-mlogloss:0.68341\tvalidation_0-merror:0.10408\tvalidation_1-mlogloss:0.70495\tvalidation_1-merror:0.11258\n",
            "[27]\tvalidation_0-mlogloss:0.66708\tvalidation_0-merror:0.10433\tvalidation_1-mlogloss:0.68931\tvalidation_1-merror:0.11230\n",
            "[28]\tvalidation_0-mlogloss:0.65188\tvalidation_0-merror:0.10457\tvalidation_1-mlogloss:0.67466\tvalidation_1-merror:0.11258\n",
            "[29]\tvalidation_0-mlogloss:0.63635\tvalidation_0-merror:0.10405\tvalidation_1-mlogloss:0.65994\tvalidation_1-merror:0.11216\n",
            "[30]\tvalidation_0-mlogloss:0.62144\tvalidation_0-merror:0.10384\tvalidation_1-mlogloss:0.64580\tvalidation_1-merror:0.11216\n",
            "[31]\tvalidation_0-mlogloss:0.60762\tvalidation_0-merror:0.10370\tvalidation_1-mlogloss:0.63255\tvalidation_1-merror:0.11258\n",
            "[32]\tvalidation_0-mlogloss:0.59426\tvalidation_0-merror:0.10339\tvalidation_1-mlogloss:0.61977\tvalidation_1-merror:0.11188\n",
            "[33]\tvalidation_0-mlogloss:0.58132\tvalidation_0-merror:0.10325\tvalidation_1-mlogloss:0.60765\tvalidation_1-merror:0.11244\n",
            "[34]\tvalidation_0-mlogloss:0.56920\tvalidation_0-merror:0.10290\tvalidation_1-mlogloss:0.59619\tvalidation_1-merror:0.11202\n",
            "[35]\tvalidation_0-mlogloss:0.55781\tvalidation_0-merror:0.10245\tvalidation_1-mlogloss:0.58565\tvalidation_1-merror:0.11188\n",
            "[36]\tvalidation_0-mlogloss:0.54690\tvalidation_0-merror:0.10242\tvalidation_1-mlogloss:0.57561\tvalidation_1-merror:0.11188\n",
            "[37]\tvalidation_0-mlogloss:0.53773\tvalidation_0-merror:0.10221\tvalidation_1-mlogloss:0.56682\tvalidation_1-merror:0.11160\n",
            "[38]\tvalidation_0-mlogloss:0.52776\tvalidation_0-merror:0.10200\tvalidation_1-mlogloss:0.55772\tvalidation_1-merror:0.11174\n",
            "[39]\tvalidation_0-mlogloss:0.51797\tvalidation_0-merror:0.10138\tvalidation_1-mlogloss:0.54877\tvalidation_1-merror:0.11119\n",
            "[40]\tvalidation_0-mlogloss:0.50892\tvalidation_0-merror:0.10131\tvalidation_1-mlogloss:0.54034\tvalidation_1-merror:0.11119\n",
            "[41]\tvalidation_0-mlogloss:0.50080\tvalidation_0-merror:0.10117\tvalidation_1-mlogloss:0.53273\tvalidation_1-merror:0.11091\n",
            "[42]\tvalidation_0-mlogloss:0.49284\tvalidation_0-merror:0.10103\tvalidation_1-mlogloss:0.52553\tvalidation_1-merror:0.11091\n",
            "[43]\tvalidation_0-mlogloss:0.48522\tvalidation_0-merror:0.10093\tvalidation_1-mlogloss:0.51847\tvalidation_1-merror:0.11119\n",
            "[44]\tvalidation_0-mlogloss:0.47778\tvalidation_0-merror:0.10086\tvalidation_1-mlogloss:0.51157\tvalidation_1-merror:0.11091\n",
            "[45]\tvalidation_0-mlogloss:0.47083\tvalidation_0-merror:0.10051\tvalidation_1-mlogloss:0.50514\tvalidation_1-merror:0.11077\n",
            "[46]\tvalidation_0-mlogloss:0.46431\tvalidation_0-merror:0.10034\tvalidation_1-mlogloss:0.49917\tvalidation_1-merror:0.11077\n",
            "[47]\tvalidation_0-mlogloss:0.45751\tvalidation_0-merror:0.10020\tvalidation_1-mlogloss:0.49330\tvalidation_1-merror:0.11049\n",
            "[48]\tvalidation_0-mlogloss:0.45147\tvalidation_0-merror:0.09996\tvalidation_1-mlogloss:0.48798\tvalidation_1-merror:0.11049\n",
            "[49]\tvalidation_0-mlogloss:0.44575\tvalidation_0-merror:0.09982\tvalidation_1-mlogloss:0.48277\tvalidation_1-merror:0.11035\n",
            "[50]\tvalidation_0-mlogloss:0.44030\tvalidation_0-merror:0.09968\tvalidation_1-mlogloss:0.47796\tvalidation_1-merror:0.10994\n",
            "[51]\tvalidation_0-mlogloss:0.43516\tvalidation_0-merror:0.09968\tvalidation_1-mlogloss:0.47341\tvalidation_1-merror:0.10994\n",
            "[52]\tvalidation_0-mlogloss:0.43006\tvalidation_0-merror:0.09933\tvalidation_1-mlogloss:0.46894\tvalidation_1-merror:0.11008\n",
            "[53]\tvalidation_0-mlogloss:0.42495\tvalidation_0-merror:0.09929\tvalidation_1-mlogloss:0.46472\tvalidation_1-merror:0.10980\n",
            "[54]\tvalidation_0-mlogloss:0.42024\tvalidation_0-merror:0.09940\tvalidation_1-mlogloss:0.46063\tvalidation_1-merror:0.11008\n",
            "[55]\tvalidation_0-mlogloss:0.41598\tvalidation_0-merror:0.09919\tvalidation_1-mlogloss:0.45693\tvalidation_1-merror:0.10980\n",
            "[56]\tvalidation_0-mlogloss:0.41175\tvalidation_0-merror:0.09891\tvalidation_1-mlogloss:0.45326\tvalidation_1-merror:0.10980\n",
            "[57]\tvalidation_0-mlogloss:0.40757\tvalidation_0-merror:0.09878\tvalidation_1-mlogloss:0.44957\tvalidation_1-merror:0.10980\n",
            "[58]\tvalidation_0-mlogloss:0.40379\tvalidation_0-merror:0.09881\tvalidation_1-mlogloss:0.44644\tvalidation_1-merror:0.10952\n",
            "[59]\tvalidation_0-mlogloss:0.39992\tvalidation_0-merror:0.09864\tvalidation_1-mlogloss:0.44317\tvalidation_1-merror:0.10924\n",
            "[60]\tvalidation_0-mlogloss:0.39606\tvalidation_0-merror:0.09857\tvalidation_1-mlogloss:0.44024\tvalidation_1-merror:0.10966\n",
            "[61]\tvalidation_0-mlogloss:0.39260\tvalidation_0-merror:0.09864\tvalidation_1-mlogloss:0.43728\tvalidation_1-merror:0.10938\n",
            "[62]\tvalidation_0-mlogloss:0.38909\tvalidation_0-merror:0.09846\tvalidation_1-mlogloss:0.43443\tvalidation_1-merror:0.10938\n",
            "[63]\tvalidation_0-mlogloss:0.38569\tvalidation_0-merror:0.09829\tvalidation_1-mlogloss:0.43168\tvalidation_1-merror:0.10938\n",
            "[64]\tvalidation_0-mlogloss:0.38267\tvalidation_0-merror:0.09818\tvalidation_1-mlogloss:0.42924\tvalidation_1-merror:0.10952\n",
            "[65]\tvalidation_0-mlogloss:0.37960\tvalidation_0-merror:0.09815\tvalidation_1-mlogloss:0.42696\tvalidation_1-merror:0.10966\n",
            "[66]\tvalidation_0-mlogloss:0.37648\tvalidation_0-merror:0.09815\tvalidation_1-mlogloss:0.42459\tvalidation_1-merror:0.10952\n",
            "[67]\tvalidation_0-mlogloss:0.37385\tvalidation_0-merror:0.09794\tvalidation_1-mlogloss:0.42253\tvalidation_1-merror:0.10994\n",
            "[68]\tvalidation_0-mlogloss:0.37130\tvalidation_0-merror:0.09794\tvalidation_1-mlogloss:0.42052\tvalidation_1-merror:0.10980\n",
            "[69]\tvalidation_0-mlogloss:0.36872\tvalidation_0-merror:0.09787\tvalidation_1-mlogloss:0.41845\tvalidation_1-merror:0.10966\n",
            "[70]\tvalidation_0-mlogloss:0.36603\tvalidation_0-merror:0.09794\tvalidation_1-mlogloss:0.41644\tvalidation_1-merror:0.10966\n",
            "[71]\tvalidation_0-mlogloss:0.36357\tvalidation_0-merror:0.09780\tvalidation_1-mlogloss:0.41463\tvalidation_1-merror:0.10966\n",
            "[72]\tvalidation_0-mlogloss:0.36132\tvalidation_0-merror:0.09773\tvalidation_1-mlogloss:0.41294\tvalidation_1-merror:0.10952\n",
            "[73]\tvalidation_0-mlogloss:0.35885\tvalidation_0-merror:0.09742\tvalidation_1-mlogloss:0.41135\tvalidation_1-merror:0.10938\n",
            "[74]\tvalidation_0-mlogloss:0.35668\tvalidation_0-merror:0.09742\tvalidation_1-mlogloss:0.40978\tvalidation_1-merror:0.10938\n",
            "[75]\tvalidation_0-mlogloss:0.35439\tvalidation_0-merror:0.09735\tvalidation_1-mlogloss:0.40818\tvalidation_1-merror:0.10952\n",
            "[76]\tvalidation_0-mlogloss:0.35264\tvalidation_0-merror:0.09732\tvalidation_1-mlogloss:0.40683\tvalidation_1-merror:0.10952\n",
            "[77]\tvalidation_0-mlogloss:0.35040\tvalidation_0-merror:0.09725\tvalidation_1-mlogloss:0.40522\tvalidation_1-merror:0.10938\n",
            "[78]\tvalidation_0-mlogloss:0.34864\tvalidation_0-merror:0.09711\tvalidation_1-mlogloss:0.40392\tvalidation_1-merror:0.10924\n",
            "[79]\tvalidation_0-mlogloss:0.34668\tvalidation_0-merror:0.09697\tvalidation_1-mlogloss:0.40264\tvalidation_1-merror:0.10911\n",
            "[80]\tvalidation_0-mlogloss:0.34485\tvalidation_0-merror:0.09635\tvalidation_1-mlogloss:0.40135\tvalidation_1-merror:0.10869\n",
            "[81]\tvalidation_0-mlogloss:0.34280\tvalidation_0-merror:0.09610\tvalidation_1-mlogloss:0.39995\tvalidation_1-merror:0.10869\n",
            "[82]\tvalidation_0-mlogloss:0.34103\tvalidation_0-merror:0.09614\tvalidation_1-mlogloss:0.39878\tvalidation_1-merror:0.10869\n",
            "[83]\tvalidation_0-mlogloss:0.33957\tvalidation_0-merror:0.09576\tvalidation_1-mlogloss:0.39774\tvalidation_1-merror:0.10869\n",
            "[84]\tvalidation_0-mlogloss:0.33805\tvalidation_0-merror:0.09565\tvalidation_1-mlogloss:0.39674\tvalidation_1-merror:0.10869\n",
            "[85]\tvalidation_0-mlogloss:0.33658\tvalidation_0-merror:0.09565\tvalidation_1-mlogloss:0.39585\tvalidation_1-merror:0.10841\n",
            "[86]\tvalidation_0-mlogloss:0.33521\tvalidation_0-merror:0.09544\tvalidation_1-mlogloss:0.39487\tvalidation_1-merror:0.10841\n",
            "[87]\tvalidation_0-mlogloss:0.33352\tvalidation_0-merror:0.09537\tvalidation_1-mlogloss:0.39398\tvalidation_1-merror:0.10841\n",
            "[88]\tvalidation_0-mlogloss:0.33202\tvalidation_0-merror:0.09541\tvalidation_1-mlogloss:0.39318\tvalidation_1-merror:0.10869\n",
            "[89]\tvalidation_0-mlogloss:0.33063\tvalidation_0-merror:0.09537\tvalidation_1-mlogloss:0.39226\tvalidation_1-merror:0.10869\n",
            "[90]\tvalidation_0-mlogloss:0.32915\tvalidation_0-merror:0.09524\tvalidation_1-mlogloss:0.39153\tvalidation_1-merror:0.10869\n",
            "[91]\tvalidation_0-mlogloss:0.32804\tvalidation_0-merror:0.09527\tvalidation_1-mlogloss:0.39078\tvalidation_1-merror:0.10869\n",
            "[92]\tvalidation_0-mlogloss:0.32699\tvalidation_0-merror:0.09513\tvalidation_1-mlogloss:0.39008\tvalidation_1-merror:0.10911\n",
            "[93]\tvalidation_0-mlogloss:0.32562\tvalidation_0-merror:0.09516\tvalidation_1-mlogloss:0.38932\tvalidation_1-merror:0.10938\n",
            "[94]\tvalidation_0-mlogloss:0.32442\tvalidation_0-merror:0.09506\tvalidation_1-mlogloss:0.38852\tvalidation_1-merror:0.10938\n",
            "[95]\tvalidation_0-mlogloss:0.32305\tvalidation_0-merror:0.09496\tvalidation_1-mlogloss:0.38782\tvalidation_1-merror:0.10924\n",
            "[96]\tvalidation_0-mlogloss:0.32189\tvalidation_0-merror:0.09485\tvalidation_1-mlogloss:0.38729\tvalidation_1-merror:0.10883\n",
            "[97]\tvalidation_0-mlogloss:0.32076\tvalidation_0-merror:0.09475\tvalidation_1-mlogloss:0.38670\tvalidation_1-merror:0.10883\n",
            "[98]\tvalidation_0-mlogloss:0.31974\tvalidation_0-merror:0.09454\tvalidation_1-mlogloss:0.38619\tvalidation_1-merror:0.10911\n",
            "[99]\tvalidation_0-mlogloss:0.31860\tvalidation_0-merror:0.09444\tvalidation_1-mlogloss:0.38568\tvalidation_1-merror:0.10869\n",
            "[100]\tvalidation_0-mlogloss:0.31756\tvalidation_0-merror:0.09433\tvalidation_1-mlogloss:0.38512\tvalidation_1-merror:0.10911\n",
            "[101]\tvalidation_0-mlogloss:0.31652\tvalidation_0-merror:0.09433\tvalidation_1-mlogloss:0.38459\tvalidation_1-merror:0.10897\n",
            "[102]\tvalidation_0-mlogloss:0.31556\tvalidation_0-merror:0.09426\tvalidation_1-mlogloss:0.38424\tvalidation_1-merror:0.10883\n",
            "[103]\tvalidation_0-mlogloss:0.31459\tvalidation_0-merror:0.09392\tvalidation_1-mlogloss:0.38379\tvalidation_1-merror:0.10883\n",
            "[104]\tvalidation_0-mlogloss:0.31366\tvalidation_0-merror:0.09395\tvalidation_1-mlogloss:0.38336\tvalidation_1-merror:0.10883\n",
            "[105]\tvalidation_0-mlogloss:0.31267\tvalidation_0-merror:0.09374\tvalidation_1-mlogloss:0.38305\tvalidation_1-merror:0.10883\n",
            "[106]\tvalidation_0-mlogloss:0.31186\tvalidation_0-merror:0.09350\tvalidation_1-mlogloss:0.38269\tvalidation_1-merror:0.10883\n",
            "[107]\tvalidation_0-mlogloss:0.31077\tvalidation_0-merror:0.09357\tvalidation_1-mlogloss:0.38215\tvalidation_1-merror:0.10869\n",
            "[108]\tvalidation_0-mlogloss:0.31001\tvalidation_0-merror:0.09340\tvalidation_1-mlogloss:0.38176\tvalidation_1-merror:0.10883\n",
            "[109]\tvalidation_0-mlogloss:0.30922\tvalidation_0-merror:0.09315\tvalidation_1-mlogloss:0.38137\tvalidation_1-merror:0.10883\n",
            "[110]\tvalidation_0-mlogloss:0.30819\tvalidation_0-merror:0.09312\tvalidation_1-mlogloss:0.38099\tvalidation_1-merror:0.10869\n",
            "[111]\tvalidation_0-mlogloss:0.30737\tvalidation_0-merror:0.09315\tvalidation_1-mlogloss:0.38065\tvalidation_1-merror:0.10883\n",
            "[112]\tvalidation_0-mlogloss:0.30646\tvalidation_0-merror:0.09291\tvalidation_1-mlogloss:0.38030\tvalidation_1-merror:0.10883\n",
            "[113]\tvalidation_0-mlogloss:0.30563\tvalidation_0-merror:0.09291\tvalidation_1-mlogloss:0.38003\tvalidation_1-merror:0.10883\n",
            "[114]\tvalidation_0-mlogloss:0.30475\tvalidation_0-merror:0.09284\tvalidation_1-mlogloss:0.37962\tvalidation_1-merror:0.10897\n",
            "[115]\tvalidation_0-mlogloss:0.30412\tvalidation_0-merror:0.09284\tvalidation_1-mlogloss:0.37936\tvalidation_1-merror:0.10855\n",
            "[116]\tvalidation_0-mlogloss:0.30333\tvalidation_0-merror:0.09274\tvalidation_1-mlogloss:0.37908\tvalidation_1-merror:0.10855\n",
            "[117]\tvalidation_0-mlogloss:0.30271\tvalidation_0-merror:0.09270\tvalidation_1-mlogloss:0.37888\tvalidation_1-merror:0.10855\n",
            "[118]\tvalidation_0-mlogloss:0.30177\tvalidation_0-merror:0.09256\tvalidation_1-mlogloss:0.37834\tvalidation_1-merror:0.10869\n",
            "[119]\tvalidation_0-mlogloss:0.30104\tvalidation_0-merror:0.09249\tvalidation_1-mlogloss:0.37799\tvalidation_1-merror:0.10855\n",
            "[120]\tvalidation_0-mlogloss:0.30030\tvalidation_0-merror:0.09239\tvalidation_1-mlogloss:0.37770\tvalidation_1-merror:0.10869\n",
            "[121]\tvalidation_0-mlogloss:0.29969\tvalidation_0-merror:0.09232\tvalidation_1-mlogloss:0.37744\tvalidation_1-merror:0.10869\n",
            "[122]\tvalidation_0-mlogloss:0.29905\tvalidation_0-merror:0.09225\tvalidation_1-mlogloss:0.37722\tvalidation_1-merror:0.10883\n",
            "[123]\tvalidation_0-mlogloss:0.29839\tvalidation_0-merror:0.09229\tvalidation_1-mlogloss:0.37687\tvalidation_1-merror:0.10841\n",
            "[124]\tvalidation_0-mlogloss:0.29784\tvalidation_0-merror:0.09201\tvalidation_1-mlogloss:0.37662\tvalidation_1-merror:0.10841\n",
            "[125]\tvalidation_0-mlogloss:0.29727\tvalidation_0-merror:0.09190\tvalidation_1-mlogloss:0.37648\tvalidation_1-merror:0.10855\n",
            "[126]\tvalidation_0-mlogloss:0.29674\tvalidation_0-merror:0.09190\tvalidation_1-mlogloss:0.37633\tvalidation_1-merror:0.10855\n",
            "[127]\tvalidation_0-mlogloss:0.29624\tvalidation_0-merror:0.09190\tvalidation_1-mlogloss:0.37612\tvalidation_1-merror:0.10841\n",
            "[128]\tvalidation_0-mlogloss:0.29550\tvalidation_0-merror:0.09180\tvalidation_1-mlogloss:0.37604\tvalidation_1-merror:0.10855\n",
            "[129]\tvalidation_0-mlogloss:0.29490\tvalidation_0-merror:0.09166\tvalidation_1-mlogloss:0.37592\tvalidation_1-merror:0.10827\n",
            "[130]\tvalidation_0-mlogloss:0.29428\tvalidation_0-merror:0.09162\tvalidation_1-mlogloss:0.37577\tvalidation_1-merror:0.10841\n",
            "[131]\tvalidation_0-mlogloss:0.29360\tvalidation_0-merror:0.09156\tvalidation_1-mlogloss:0.37553\tvalidation_1-merror:0.10827\n",
            "[132]\tvalidation_0-mlogloss:0.29306\tvalidation_0-merror:0.09138\tvalidation_1-mlogloss:0.37533\tvalidation_1-merror:0.10827\n",
            "[133]\tvalidation_0-mlogloss:0.29255\tvalidation_0-merror:0.09124\tvalidation_1-mlogloss:0.37518\tvalidation_1-merror:0.10827\n",
            "[134]\tvalidation_0-mlogloss:0.29195\tvalidation_0-merror:0.09114\tvalidation_1-mlogloss:0.37501\tvalidation_1-merror:0.10827\n",
            "[135]\tvalidation_0-mlogloss:0.29140\tvalidation_0-merror:0.09114\tvalidation_1-mlogloss:0.37483\tvalidation_1-merror:0.10841\n",
            "[136]\tvalidation_0-mlogloss:0.29083\tvalidation_0-merror:0.09107\tvalidation_1-mlogloss:0.37468\tvalidation_1-merror:0.10841\n",
            "[137]\tvalidation_0-mlogloss:0.29036\tvalidation_0-merror:0.09097\tvalidation_1-mlogloss:0.37454\tvalidation_1-merror:0.10883\n",
            "[138]\tvalidation_0-mlogloss:0.28983\tvalidation_0-merror:0.09076\tvalidation_1-mlogloss:0.37445\tvalidation_1-merror:0.10883\n",
            "[139]\tvalidation_0-mlogloss:0.28931\tvalidation_0-merror:0.09072\tvalidation_1-mlogloss:0.37427\tvalidation_1-merror:0.10883\n",
            "[140]\tvalidation_0-mlogloss:0.28883\tvalidation_0-merror:0.09072\tvalidation_1-mlogloss:0.37425\tvalidation_1-merror:0.10897\n",
            "[141]\tvalidation_0-mlogloss:0.28845\tvalidation_0-merror:0.09069\tvalidation_1-mlogloss:0.37417\tvalidation_1-merror:0.10897\n",
            "[142]\tvalidation_0-mlogloss:0.28803\tvalidation_0-merror:0.09076\tvalidation_1-mlogloss:0.37410\tvalidation_1-merror:0.10883\n",
            "[143]\tvalidation_0-mlogloss:0.28741\tvalidation_0-merror:0.09065\tvalidation_1-mlogloss:0.37402\tvalidation_1-merror:0.10911\n",
            "[144]\tvalidation_0-mlogloss:0.28696\tvalidation_0-merror:0.09051\tvalidation_1-mlogloss:0.37384\tvalidation_1-merror:0.10897\n",
            "[145]\tvalidation_0-mlogloss:0.28656\tvalidation_0-merror:0.09041\tvalidation_1-mlogloss:0.37386\tvalidation_1-merror:0.10883\n",
            "[146]\tvalidation_0-mlogloss:0.28614\tvalidation_0-merror:0.09038\tvalidation_1-mlogloss:0.37378\tvalidation_1-merror:0.10911\n",
            "[147]\tvalidation_0-mlogloss:0.28586\tvalidation_0-merror:0.09034\tvalidation_1-mlogloss:0.37364\tvalidation_1-merror:0.10911\n",
            "[148]\tvalidation_0-mlogloss:0.28546\tvalidation_0-merror:0.09027\tvalidation_1-mlogloss:0.37357\tvalidation_1-merror:0.10897\n",
            "[149]\tvalidation_0-mlogloss:0.28504\tvalidation_0-merror:0.09038\tvalidation_1-mlogloss:0.37348\tvalidation_1-merror:0.10869\n"
          ]
        },
        {
          "output_type": "execute_result",
          "data": {
            "text/plain": [
              "XGBClassifier(base_score=0.5, booster='gbtree', colsample_bylevel=0.6,\n",
              "              colsample_bynode=1, colsample_bytree=0.6, eta=0.05, gamma=0,\n",
              "              gpu_id=-1, importance_type='gain', interaction_constraints='',\n",
              "              learning_rate=0.0500000007, max_delta_step=0, max_depth=15,\n",
              "              min_child_weight=1, missing=nan, monotone_constraints='()',\n",
              "              n_estimators=150, n_jobs=0, num_class=8, num_parallel_tree=1,\n",
              "              objective='multi:softprob', random_state=0, reg_alpha=0,\n",
              "              reg_lambda=1, scale_pos_weight=None, subsample=0.6,\n",
              "              tree_method='exact', validate_parameters=1, verbosity=None)"
            ]
          },
          "metadata": {},
          "execution_count": 257
        }
      ],
      "source": [
        "#model = XGBClassifier(max_depth=10, objective='multi:softprob', n_estimators=700, eta=0.01, min_child_weight=6)\n",
        "#'subsample': 0.5, 'num_class': 10, 'n_estimators': 100, 'max_depth': 10, 'learning_rate': 0.1, 'colsample_bytree': 0.8999999999999999, 'colsample_bylevel': 0.6\n",
        "#'subsample': 0.6, 'num_class': 8, 'n_estimators': 150, 'max_depth': 15, 'learning_rate': 0.05, 'colsample_bytree': 0.6, 'colsample_bylevel': 0.6\n",
        "model = XGBClassifier(subsample=0.6, num_class= 8,n_estimators= 150, max_depth=15, eta= 0.05, colsample_bytree= 0.6, colsample_bylevel= 0.6)\n",
        "model.fit(X_train, y_train,eval_metric=[\"mlogloss\",\"merror\"], eval_set=eval_set, verbose=True)"
      ]
    },
    {
      "cell_type": "code",
      "source": [
        "# evaluate predictions\n",
        "model.score(X_train,y_train)"
      ],
      "metadata": {
        "colab": {
          "base_uri": "https://localhost:8080/"
        },
        "id": "nXoGUnutH6Na",
        "outputId": "ebad3e8a-7d3d-42e2-c284-a6fb020c8493"
      },
      "execution_count": null,
      "outputs": [
        {
          "output_type": "execute_result",
          "data": {
            "text/plain": [
              "0.9096241279977788"
            ]
          },
          "metadata": {},
          "execution_count": 258
        }
      ]
    },
    {
      "cell_type": "code",
      "source": [
        "model.save_model(\"model_sklearn.json\")"
      ],
      "metadata": {
        "id": "zoFdhC3DdBE4"
      },
      "execution_count": null,
      "outputs": []
    },
    {
      "cell_type": "code",
      "source": [
        "from sklearn.metrics import accuracy_score\n",
        "# make predictions for test data\n",
        "y_pred = model.predict(X_test)\n",
        "predictions = [round(value) for value in y_pred]\n",
        "# evaluate predictions\n",
        "accuracy = accuracy_score(y_test, predictions)\n",
        "print(\"Accuracy: %.2f%%\" % (accuracy * 100.0))"
      ],
      "metadata": {
        "colab": {
          "base_uri": "https://localhost:8080/"
        },
        "id": "7KKjha4aCsXO",
        "outputId": "ee1fea3a-70b0-443e-a196-29c7503d9d3a"
      },
      "execution_count": null,
      "outputs": [
        {
          "output_type": "stream",
          "name": "stdout",
          "text": [
            "Accuracy: 89.13%\n"
          ]
        }
      ]
    },
    {
      "cell_type": "code",
      "source": [
        "from sklearn.metrics import classification_report\n",
        "print(classification_report(y_test, predictions, labels=[0,1,2,3,4,5,6,7]))"
      ],
      "metadata": {
        "colab": {
          "base_uri": "https://localhost:8080/"
        },
        "id": "MNSAkL9JrZg1",
        "outputId": "10c17657-d4d1-4b4e-d267-d5b27a5f6488"
      },
      "execution_count": null,
      "outputs": [
        {
          "output_type": "stream",
          "name": "stdout",
          "text": [
            "              precision    recall  f1-score   support\n",
            "\n",
            "           0       0.67      0.32      0.43       259\n",
            "           1       0.85      0.39      0.54       196\n",
            "           2       0.66      0.56      0.60       264\n",
            "           3       0.74      0.11      0.20       285\n",
            "           4       0.00      0.00      0.00        21\n",
            "           5       0.00      0.00      0.00         4\n",
            "           6       0.00      0.00      0.00        14\n",
            "           7       0.90      0.99      0.94      6161\n",
            "\n",
            "    accuracy                           0.89      7204\n",
            "   macro avg       0.48      0.30      0.34      7204\n",
            "weighted avg       0.87      0.89      0.87      7204\n",
            "\n"
          ]
        },
        {
          "output_type": "stream",
          "name": "stderr",
          "text": [
            "/usr/local/lib/python3.7/dist-packages/sklearn/metrics/_classification.py:1318: UndefinedMetricWarning: Precision and F-score are ill-defined and being set to 0.0 in labels with no predicted samples. Use `zero_division` parameter to control this behavior.\n",
            "  _warn_prf(average, modifier, msg_start, len(result))\n",
            "/usr/local/lib/python3.7/dist-packages/sklearn/metrics/_classification.py:1318: UndefinedMetricWarning: Precision and F-score are ill-defined and being set to 0.0 in labels with no predicted samples. Use `zero_division` parameter to control this behavior.\n",
            "  _warn_prf(average, modifier, msg_start, len(result))\n",
            "/usr/local/lib/python3.7/dist-packages/sklearn/metrics/_classification.py:1318: UndefinedMetricWarning: Precision and F-score are ill-defined and being set to 0.0 in labels with no predicted samples. Use `zero_division` parameter to control this behavior.\n",
            "  _warn_prf(average, modifier, msg_start, len(result))\n"
          ]
        }
      ]
    },
    {
      "cell_type": "code",
      "source": [
        "# retrieve performance metrics\n",
        "results = model.evals_result()\n"
      ],
      "metadata": {
        "id": "7AFg2ValCzgE"
      },
      "execution_count": null,
      "outputs": []
    },
    {
      "cell_type": "code",
      "source": [
        "epochs = len(results['validation_0']['mlogloss'])\n",
        "x_axis = range(0, epochs)"
      ],
      "metadata": {
        "id": "QWkKTqrfGft5"
      },
      "execution_count": null,
      "outputs": []
    },
    {
      "cell_type": "code",
      "source": [
        "from matplotlib import pyplot\n",
        "# plot log loss\n",
        "fig, ax = pyplot.subplots()\n",
        "ax.plot(x_axis, results['validation_0']['mlogloss'], label='Train')\n",
        "ax.plot(x_axis, results['validation_1']['mlogloss'], label='Test')\n",
        "ax.legend()\n",
        "pyplot.ylabel('M Log Loss')\n",
        "pyplot.title('XGBoost Log Loss')\n",
        "pyplot.show()"
      ],
      "metadata": {
        "colab": {
          "base_uri": "https://localhost:8080/",
          "height": 281
        },
        "id": "4AMk8mVLG9W4",
        "outputId": "65e854f9-6fcb-4c1f-c9e1-bbd57cde7e24"
      },
      "execution_count": null,
      "outputs": [
        {
          "output_type": "display_data",
          "data": {
            "text/plain": [
              "<Figure size 432x288 with 1 Axes>"
            ],
            "image/png": "[encoded data removed]"
          },
          "metadata": {
            "needs_background": "light"
          }
        }
      ]
    },
    {
      "cell_type": "code",
      "source": [
        "# plot classification error\n",
        "fig, ax = pyplot.subplots()\n",
        "ax.plot(x_axis, results['validation_0']['merror'], label='Train')\n",
        "ax.plot(x_axis, results['validation_1']['merror'], label='Test')\n",
        "ax.legend()\n",
        "pyplot.ylabel('Classification Error')\n",
        "pyplot.title('XGBoost Classification Error')\n",
        "pyplot.show()"
      ],
      "metadata": {
        "colab": {
          "base_uri": "https://localhost:8080/",
          "height": 281
        },
        "id": "9cTz36OoJ61F",
        "outputId": "91c39de4-0e33-4377-e135-407d04707ac8"
      },
      "execution_count": null,
      "outputs": [
        {
          "output_type": "display_data",
          "data": {
            "text/plain": [
              "<Figure size 432x288 with 1 Axes>"
            ],
            "image/png": "[encoded data removed]"
          },
          "metadata": {
            "needs_background": "light"
          }
        }
      ]
    },
    {
      "cell_type": "code",
      "source": [
        "model.feature_importances_"
      ],
      "metadata": {
        "colab": {
          "base_uri": "https://localhost:8080/"
        },
        "id": "E2u9_ODbC7h8",
        "outputId": "c47aabc1-6deb-4806-bdd8-7c7a92432865"
      },
      "execution_count": null,
      "outputs": [
        {
          "output_type": "execute_result",
          "data": {
            "text/plain": [
              "array([0.03413871, 0.02090961, 0.27797744, 0.0503704 , 0.0506334 ,\n",
              "       0.03646015, 0.01836525, 0.0185509 , 0.01928058, 0.04501519,\n",
              "       0.03962931, 0.03211474, 0.07786083, 0.05486484, 0.09906492,\n",
              "       0.10616141, 0.01860231], dtype=float32)"
            ]
          },
          "metadata": {},
          "execution_count": 266
        }
      ]
    },
    {
      "cell_type": "code",
      "source": [
        "model2 = XGBClassifier()\n",
        "model2.load_model(\"model_sklearn.json\")"
      ],
      "metadata": {
        "id": "mM6g96LidBJc"
      },
      "execution_count": null,
      "outputs": []
    },
    {
      "cell_type": "code",
      "execution_count": null,
      "metadata": {
        "id": "C_uYHhxa4Vks"
      },
      "outputs": [],
      "source": [
        "# make predictions for test data\n",
        "y_pred = model2.predict(X_test)\n",
        "predictions = [round(value) for value in y_pred]"
      ]
    },
    {
      "cell_type": "code",
      "source": [
        "X_test.head()"
      ],
      "metadata": {
        "colab": {
          "base_uri": "https://localhost:8080/",
          "height": 270
        },
        "id": "tz2k4bpegzIG",
        "outputId": "4ed3665e-1640-4756-e96e-42bb31a606a8"
      },
      "execution_count": null,
      "outputs": [
        {
          "output_type": "execute_result",
          "data": {
            "text/plain": [
              "       SERVICIO  PAQUETES  CONTADOR_VISITAS  DEPARTAMENTO  VIA  \\\n",
              "1454          6         1                 1            11    0   \n",
              "18139         1         1                 1            11    0   \n",
              "20782         2         1                 1             2    0   \n",
              "2567          1         1                 1             1    0   \n",
              "29377        11         1                 1             3    0   \n",
              "\n",
              "       INCIDENCIA_MANIFIESTO  TIENE_AV  TIENE_JR  TIENE_CALLE  TEMPERATURA  \\\n",
              "1454                       3         1         0            0        16.77   \n",
              "18139                      2         0         0            0        17.22   \n",
              "20782                      2         1         0            0        17.93   \n",
              "2567                       1         1         0            0        14.48   \n",
              "29377                      0         1         0            0        23.48   \n",
              "\n",
              "       HUMEDAD  CLIMA  INDICE_DELITOS  CANT_FENO_NAT  CANT_PEA  \\\n",
              "1454      64.0      0       86.473367          483.0     925.2   \n",
              "18139     60.0      0       86.473367          483.0     925.2   \n",
              "20782     69.0      1       96.754288         1122.0     458.5   \n",
              "2567      54.0      1       81.102343          941.0     497.1   \n",
              "29377     70.0      1      105.956304         1046.0    4804.5   \n",
              "\n",
              "       CANT_ACC_TRANSITO  NO_TIENE_REF  \n",
              "1454              4367.0             0  \n",
              "18139             4367.0             1  \n",
              "20782             1199.0             0  \n",
              "2567              1092.0             0  \n",
              "29377            35848.0             0  "
            ],
            "text/html": [
              "\n",
              "  <div id=\"df-90883988-809b-4c91-80ce-77dace5383db\">\n",
              "    <div class=\"colab-df-container\">\n",
              "      <div>\n",
              "<style scoped>\n",
              "    .dataframe tbody tr th:only-of-type {\n",
              "        vertical-align: middle;\n",
              "    }\n",
              "\n",
              "    .dataframe tbody tr th {\n",
              "        vertical-align: top;\n",
              "    }\n",
              "\n",
              "    .dataframe thead th {\n",
              "        text-align: right;\n",
              "    }\n",
              "</style>\n",
              "<table border=\"1\" class=\"dataframe\">\n",
              "  <thead>\n",
              "    <tr style=\"text-align: right;\">\n",
              "      <th></th>\n",
              "      <th>SERVICIO</th>\n",
              "      <th>PAQUETES</th>\n",
              "      <th>CONTADOR_VISITAS</th>\n",
              "      <th>DEPARTAMENTO</th>\n",
              "      <th>VIA</th>\n",
              "      <th>INCIDENCIA_MANIFIESTO</th>\n",
              "      <th>TIENE_AV</th>\n",
              "      <th>TIENE_JR</th>\n",
              "      <th>TIENE_CALLE</th>\n",
              "      <th>TEMPERATURA</th>\n",
              "      <th>HUMEDAD</th>\n",
              "      <th>CLIMA</th>\n",
              "      <th>INDICE_DELITOS</th>\n",
              "      <th>CANT_FENO_NAT</th>\n",
              "      <th>CANT_PEA</th>\n",
              "      <th>CANT_ACC_TRANSITO</th>\n",
              "      <th>NO_TIENE_REF</th>\n",
              "    </tr>\n",
              "  </thead>\n",
              "  <tbody>\n",
              "    <tr>\n",
              "      <th>1454</th>\n",
              "      <td>6</td>\n",
              "      <td>1</td>\n",
              "      <td>1</td>\n",
              "      <td>11</td>\n",
              "      <td>0</td>\n",
              "      <td>3</td>\n",
              "      <td>1</td>\n",
              "      <td>0</td>\n",
              "      <td>0</td>\n",
              "      <td>16.77</td>\n",
              "      <td>64.0</td>\n",
              "      <td>0</td>\n",
              "      <td>86.473367</td>\n",
              "      <td>483.0</td>\n",
              "      <td>925.2</td>\n",
              "      <td>4367.0</td>\n",
              "      <td>0</td>\n",
              "    </tr>\n",
              "    <tr>\n",
              "      <th>18139</th>\n",
              "      <td>1</td>\n",
              "      <td>1</td>\n",
              "      <td>1</td>\n",
              "      <td>11</td>\n",
              "      <td>0</td>\n",
              "      <td>2</td>\n",
              "      <td>0</td>\n",
              "      <td>0</td>\n",
              "      <td>0</td>\n",
              "      <td>17.22</td>\n",
              "      <td>60.0</td>\n",
              "      <td>0</td>\n",
              "      <td>86.473367</td>\n",
              "      <td>483.0</td>\n",
              "      <td>925.2</td>\n",
              "      <td>4367.0</td>\n",
              "      <td>1</td>\n",
              "    </tr>\n",
              "    <tr>\n",
              "      <th>20782</th>\n",
              "      <td>2</td>\n",
              "      <td>1</td>\n",
              "      <td>1</td>\n",
              "      <td>2</td>\n",
              "      <td>0</td>\n",
              "      <td>2</td>\n",
              "      <td>1</td>\n",
              "      <td>0</td>\n",
              "      <td>0</td>\n",
              "      <td>17.93</td>\n",
              "      <td>69.0</td>\n",
              "      <td>1</td>\n",
              "      <td>96.754288</td>\n",
              "      <td>1122.0</td>\n",
              "      <td>458.5</td>\n",
              "      <td>1199.0</td>\n",
              "      <td>0</td>\n",
              "    </tr>\n",
              "    <tr>\n",
              "      <th>2567</th>\n",
              "      <td>1</td>\n",
              "      <td>1</td>\n",
              "      <td>1</td>\n",
              "      <td>1</td>\n",
              "      <td>0</td>\n",
              "      <td>1</td>\n",
              "      <td>1</td>\n",
              "      <td>0</td>\n",
              "      <td>0</td>\n",
              "      <td>14.48</td>\n",
              "      <td>54.0</td>\n",
              "      <td>1</td>\n",
              "      <td>81.102343</td>\n",
              "      <td>941.0</td>\n",
              "      <td>497.1</td>\n",
              "      <td>1092.0</td>\n",
              "      <td>0</td>\n",
              "    </tr>\n",
              "    <tr>\n",
              "      <th>29377</th>\n",
              "      <td>11</td>\n",
              "      <td>1</td>\n",
              "      <td>1</td>\n",
              "      <td>3</td>\n",
              "      <td>0</td>\n",
              "      <td>0</td>\n",
              "      <td>1</td>\n",
              "      <td>0</td>\n",
              "      <td>0</td>\n",
              "      <td>23.48</td>\n",
              "      <td>70.0</td>\n",
              "      <td>1</td>\n",
              "      <td>105.956304</td>\n",
              "      <td>1046.0</td>\n",
              "      <td>4804.5</td>\n",
              "      <td>35848.0</td>\n",
              "      <td>0</td>\n",
              "    </tr>\n",
              "  </tbody>\n",
              "</table>\n",
              "</div>\n",
              "      <button class=\"colab-df-convert\" onclick=\"convertToInteractive('df-90883988-809b-4c91-80ce-77dace5383db')\"\n",
              "              title=\"Convert this dataframe to an interactive table.\"\n",
              "              style=\"display:none;\">\n",
              "        \n",
              "  <svg xmlns=\"http://www.w3.org/2000/svg\" height=\"24px\"viewBox=\"0 0 24 24\"\n",
              "       width=\"24px\">\n",
              "    <path d=\"M0 0h24v24H0V0z\" fill=\"none\"/>\n",
              "    <path d=\"M18.56 5.44l.94 2.06.94-2.06 2.06-.94-2.06-.94-.94-2.06-.94 2.06-2.06.94zm-11 1L8.5 8.5l.94-2.06 2.06-.94-2.06-.94L8.5 2.5l-.94 2.06-2.06.94zm10 10l.94 2.06.94-2.06 2.06-.94-2.06-.94-.94-2.06-.94 2.06-2.06.94z\"/><path d=\"M17.41 7.96l-1.37-1.37c-.4-.4-.92-.59-1.43-.59-.52 0-1.04.2-1.43.59L10.3 9.45l-7.72 7.72c-.78.78-.78 2.05 0 2.83L4 21.41c.39.39.9.59 1.41.59.51 0 1.02-.2 1.41-.59l7.78-7.78 2.81-2.81c.8-.78.8-2.07 0-2.86zM5.41 20L4 18.59l7.72-7.72 1.47 1.35L5.41 20z\"/>\n",
              "  </svg>\n",
              "      </button>\n",
              "      \n",
              "  <style>\n",
              "    .colab-df-container {\n",
              "      display:flex;\n",
              "      flex-wrap:wrap;\n",
              "      gap: 12px;\n",
              "    }\n",
              "\n",
              "    .colab-df-convert {\n",
              "      background-color: #E8F0FE;\n",
              "      border: none;\n",
              "      border-radius: 50%;\n",
              "      cursor: pointer;\n",
              "      display: none;\n",
              "      fill: #1967D2;\n",
              "      height: 32px;\n",
              "      padding: 0 0 0 0;\n",
              "      width: 32px;\n",
              "    }\n",
              "\n",
              "    .colab-df-convert:hover {\n",
              "      background-color: #E2EBFA;\n",
              "      box-shadow: 0px 1px 2px rgba(60, 64, 67, 0.3), 0px 1px 3px 1px rgba(60, 64, 67, 0.15);\n",
              "      fill: #174EA6;\n",
              "    }\n",
              "\n",
              "    [theme=dark] .colab-df-convert {\n",
              "      background-color: #3B4455;\n",
              "      fill: #D2E3FC;\n",
              "    }\n",
              "\n",
              "    [theme=dark] .colab-df-convert:hover {\n",
              "      background-color: #434B5C;\n",
              "      box-shadow: 0px 1px 3px 1px rgba(0, 0, 0, 0.15);\n",
              "      filter: drop-shadow(0px 1px 2px rgba(0, 0, 0, 0.3));\n",
              "      fill: #FFFFFF;\n",
              "    }\n",
              "  </style>\n",
              "\n",
              "      <script>\n",
              "        const buttonEl =\n",
              "          document.querySelector('#df-90883988-809b-4c91-80ce-77dace5383db button.colab-df-convert');\n",
              "        buttonEl.style.display =\n",
              "          google.colab.kernel.accessAllowed ? 'block' : 'none';\n",
              "\n",
              "        async function convertToInteractive(key) {\n",
              "          const element = document.querySelector('#df-90883988-809b-4c91-80ce-77dace5383db');\n",
              "          const dataTable =\n",
              "            await google.colab.kernel.invokeFunction('convertToInteractive',\n",
              "                                                     [key], {});\n",
              "          if (!dataTable) return;\n",
              "\n",
              "          const docLinkHtml = 'Like what you see? Visit the ' +\n",
              "            '<a target=\"_blank\" href=https://colab.research.google.com/notebooks/data_table.ipynb>data table notebook</a>'\n",
              "            + ' to learn more about interactive tables.';\n",
              "          element.innerHTML = '';\n",
              "          dataTable['output_type'] = 'display_data';\n",
              "          await google.colab.output.renderOutput(dataTable, element);\n",
              "          const docLink = document.createElement('div');\n",
              "          docLink.innerHTML = docLinkHtml;\n",
              "          element.appendChild(docLink);\n",
              "        }\n",
              "      </script>\n",
              "    </div>\n",
              "  </div>\n",
              "  "
            ]
          },
          "metadata": {},
          "execution_count": 269
        }
      ]
    },
    {
      "cell_type": "code",
      "source": [
        "claves = list(dictionarySugerencias.keys())\n",
        "valores = list(dictionarySugerencias.values())\n",
        "\n",
        "sugerenciaPred = list()\n",
        "\n",
        "for i in range(len(predictions)):\n",
        "  sugerenciaPred.append(list(dictionarySugerencias.keys())[list(dictionarySugerencias.values()).index(predictions[i])])\n"
      ],
      "metadata": {
        "id": "bnS_8nFKg4Cm"
      },
      "execution_count": null,
      "outputs": []
    },
    {
      "cell_type": "code",
      "source": [
        "y_pred"
      ],
      "metadata": {
        "colab": {
          "base_uri": "https://localhost:8080/"
        },
        "id": "A5OcGUTgPZMd",
        "outputId": "9c6fb3e3-4430-42db-dc9a-e99c08dc2aa0"
      },
      "execution_count": null,
      "outputs": [
        {
          "output_type": "execute_result",
          "data": {
            "text/plain": [
              "array([2, 7, 2, ..., 7, 7, 7])"
            ]
          },
          "metadata": {},
          "execution_count": 271
        }
      ]
    },
    {
      "cell_type": "code",
      "source": [
        "importances = pd.DataFrame({\"columns\":X_train.columns, \"importances\":model.feature_importances_}).sort_values(\"importances\", ascending=False)"
      ],
      "metadata": {
        "id": "WK08O0ZoDBjI"
      },
      "execution_count": null,
      "outputs": []
    },
    {
      "cell_type": "code",
      "source": [
        "importances.style.bar()"
      ],
      "metadata": {
        "colab": {
          "base_uri": "https://localhost:8080/",
          "height": 582
        },
        "id": "cSC5t0REDGMV",
        "outputId": "92e90753-158e-441e-dfba-8f9797d27a2e"
      },
      "execution_count": null,
      "outputs": [
        {
          "output_type": "execute_result",
          "data": {
            "text/plain": [
              "<pandas.io.formats.style.Styler at 0x7f9e8a78fd50>"
            ],
            "text/html": [
              "<style type=\"text/css\">\n",
              "#T_05be7_row0_col1 {\n",
              "  width: 10em;\n",
              "  height: 80%;\n",
              "  background: linear-gradient(90deg,#d65f5f 100.0%, transparent 100.0%);\n",
              "}\n",
              "#T_05be7_row1_col1 {\n",
              "  width: 10em;\n",
              "  height: 80%;\n",
              "  background: linear-gradient(90deg,#d65f5f 33.8%, transparent 33.8%);\n",
              "}\n",
              "#T_05be7_row2_col1 {\n",
              "  width: 10em;\n",
              "  height: 80%;\n",
              "  background: linear-gradient(90deg,#d65f5f 31.1%, transparent 31.1%);\n",
              "}\n",
              "#T_05be7_row3_col1 {\n",
              "  width: 10em;\n",
              "  height: 80%;\n",
              "  background: linear-gradient(90deg,#d65f5f 22.9%, transparent 22.9%);\n",
              "}\n",
              "#T_05be7_row4_col1 {\n",
              "  width: 10em;\n",
              "  height: 80%;\n",
              "  background: linear-gradient(90deg,#d65f5f 14.1%, transparent 14.1%);\n",
              "}\n",
              "#T_05be7_row5_col1 {\n",
              "  width: 10em;\n",
              "  height: 80%;\n",
              "  background: linear-gradient(90deg,#d65f5f 12.4%, transparent 12.4%);\n",
              "}\n",
              "#T_05be7_row6_col1 {\n",
              "  width: 10em;\n",
              "  height: 80%;\n",
              "  background: linear-gradient(90deg,#d65f5f 12.3%, transparent 12.3%);\n",
              "}\n",
              "#T_05be7_row7_col1 {\n",
              "  width: 10em;\n",
              "  height: 80%;\n",
              "  background: linear-gradient(90deg,#d65f5f 10.3%, transparent 10.3%);\n",
              "}\n",
              "#T_05be7_row8_col1 {\n",
              "  width: 10em;\n",
              "  height: 80%;\n",
              "  background: linear-gradient(90deg,#d65f5f 8.2%, transparent 8.2%);\n",
              "}\n",
              "#T_05be7_row9_col1 {\n",
              "  width: 10em;\n",
              "  height: 80%;\n",
              "  background: linear-gradient(90deg,#d65f5f 7.0%, transparent 7.0%);\n",
              "}\n",
              "#T_05be7_row10_col1 {\n",
              "  width: 10em;\n",
              "  height: 80%;\n",
              "  background: linear-gradient(90deg,#d65f5f 6.1%, transparent 6.1%);\n",
              "}\n",
              "#T_05be7_row11_col1 {\n",
              "  width: 10em;\n",
              "  height: 80%;\n",
              "  background: linear-gradient(90deg,#d65f5f 5.3%, transparent 5.3%);\n",
              "}\n",
              "#T_05be7_row12_col1 {\n",
              "  width: 10em;\n",
              "  height: 80%;\n",
              "  background: linear-gradient(90deg,#d65f5f 1.0%, transparent 1.0%);\n",
              "}\n",
              "#T_05be7_row13_col1 {\n",
              "  width: 10em;\n",
              "  height: 80%;\n",
              "  background: linear-gradient(90deg,#d65f5f 0.4%, transparent 0.4%);\n",
              "}\n",
              "#T_05be7_row14_col1, #T_05be7_row15_col1 {\n",
              "  width: 10em;\n",
              "  height: 80%;\n",
              "  background: linear-gradient(90deg,#d65f5f 0.1%, transparent 0.1%);\n",
              "}\n",
              "#T_05be7_row16_col1 {\n",
              "  width: 10em;\n",
              "  height: 80%;\n",
              "}\n",
              "</style>\n",
              "<table id=\"T_05be7_\" class=\"dataframe\">\n",
              "  <thead>\n",
              "    <tr>\n",
              "      <th class=\"blank level0\" >&nbsp;</th>\n",
              "      <th class=\"col_heading level0 col0\" >columns</th>\n",
              "      <th class=\"col_heading level0 col1\" >importances</th>\n",
              "    </tr>\n",
              "  </thead>\n",
              "  <tbody>\n",
              "    <tr>\n",
              "      <th id=\"T_05be7_level0_row0\" class=\"row_heading level0 row0\" >2</th>\n",
              "      <td id=\"T_05be7_row0_col0\" class=\"data row0 col0\" >CONTADOR_VISITAS</td>\n",
              "      <td id=\"T_05be7_row0_col1\" class=\"data row0 col1\" >0.277977</td>\n",
              "    </tr>\n",
              "    <tr>\n",
              "      <th id=\"T_05be7_level0_row1\" class=\"row_heading level0 row1\" >15</th>\n",
              "      <td id=\"T_05be7_row1_col0\" class=\"data row1 col0\" >CANT_ACC_TRANSITO</td>\n",
              "      <td id=\"T_05be7_row1_col1\" class=\"data row1 col1\" >0.106161</td>\n",
              "    </tr>\n",
              "    <tr>\n",
              "      <th id=\"T_05be7_level0_row2\" class=\"row_heading level0 row2\" >14</th>\n",
              "      <td id=\"T_05be7_row2_col0\" class=\"data row2 col0\" >CANT_PEA</td>\n",
              "      <td id=\"T_05be7_row2_col1\" class=\"data row2 col1\" >0.099065</td>\n",
              "    </tr>\n",
              "    <tr>\n",
              "      <th id=\"T_05be7_level0_row3\" class=\"row_heading level0 row3\" >12</th>\n",
              "      <td id=\"T_05be7_row3_col0\" class=\"data row3 col0\" >INDICE_DELITOS</td>\n",
              "      <td id=\"T_05be7_row3_col1\" class=\"data row3 col1\" >0.077861</td>\n",
              "    </tr>\n",
              "    <tr>\n",
              "      <th id=\"T_05be7_level0_row4\" class=\"row_heading level0 row4\" >13</th>\n",
              "      <td id=\"T_05be7_row4_col0\" class=\"data row4 col0\" >CANT_FENO_NAT</td>\n",
              "      <td id=\"T_05be7_row4_col1\" class=\"data row4 col1\" >0.054865</td>\n",
              "    </tr>\n",
              "    <tr>\n",
              "      <th id=\"T_05be7_level0_row5\" class=\"row_heading level0 row5\" >4</th>\n",
              "      <td id=\"T_05be7_row5_col0\" class=\"data row5 col0\" >VIA</td>\n",
              "      <td id=\"T_05be7_row5_col1\" class=\"data row5 col1\" >0.050633</td>\n",
              "    </tr>\n",
              "    <tr>\n",
              "      <th id=\"T_05be7_level0_row6\" class=\"row_heading level0 row6\" >3</th>\n",
              "      <td id=\"T_05be7_row6_col0\" class=\"data row6 col0\" >DEPARTAMENTO</td>\n",
              "      <td id=\"T_05be7_row6_col1\" class=\"data row6 col1\" >0.050370</td>\n",
              "    </tr>\n",
              "    <tr>\n",
              "      <th id=\"T_05be7_level0_row7\" class=\"row_heading level0 row7\" >9</th>\n",
              "      <td id=\"T_05be7_row7_col0\" class=\"data row7 col0\" >TEMPERATURA</td>\n",
              "      <td id=\"T_05be7_row7_col1\" class=\"data row7 col1\" >0.045015</td>\n",
              "    </tr>\n",
              "    <tr>\n",
              "      <th id=\"T_05be7_level0_row8\" class=\"row_heading level0 row8\" >10</th>\n",
              "      <td id=\"T_05be7_row8_col0\" class=\"data row8 col0\" >HUMEDAD</td>\n",
              "      <td id=\"T_05be7_row8_col1\" class=\"data row8 col1\" >0.039629</td>\n",
              "    </tr>\n",
              "    <tr>\n",
              "      <th id=\"T_05be7_level0_row9\" class=\"row_heading level0 row9\" >5</th>\n",
              "      <td id=\"T_05be7_row9_col0\" class=\"data row9 col0\" >INCIDENCIA_MANIFIESTO</td>\n",
              "      <td id=\"T_05be7_row9_col1\" class=\"data row9 col1\" >0.036460</td>\n",
              "    </tr>\n",
              "    <tr>\n",
              "      <th id=\"T_05be7_level0_row10\" class=\"row_heading level0 row10\" >0</th>\n",
              "      <td id=\"T_05be7_row10_col0\" class=\"data row10 col0\" >SERVICIO</td>\n",
              "      <td id=\"T_05be7_row10_col1\" class=\"data row10 col1\" >0.034139</td>\n",
              "    </tr>\n",
              "    <tr>\n",
              "      <th id=\"T_05be7_level0_row11\" class=\"row_heading level0 row11\" >11</th>\n",
              "      <td id=\"T_05be7_row11_col0\" class=\"data row11 col0\" >CLIMA</td>\n",
              "      <td id=\"T_05be7_row11_col1\" class=\"data row11 col1\" >0.032115</td>\n",
              "    </tr>\n",
              "    <tr>\n",
              "      <th id=\"T_05be7_level0_row12\" class=\"row_heading level0 row12\" >1</th>\n",
              "      <td id=\"T_05be7_row12_col0\" class=\"data row12 col0\" >PAQUETES</td>\n",
              "      <td id=\"T_05be7_row12_col1\" class=\"data row12 col1\" >0.020910</td>\n",
              "    </tr>\n",
              "    <tr>\n",
              "      <th id=\"T_05be7_level0_row13\" class=\"row_heading level0 row13\" >8</th>\n",
              "      <td id=\"T_05be7_row13_col0\" class=\"data row13 col0\" >TIENE_CALLE</td>\n",
              "      <td id=\"T_05be7_row13_col1\" class=\"data row13 col1\" >0.019281</td>\n",
              "    </tr>\n",
              "    <tr>\n",
              "      <th id=\"T_05be7_level0_row14\" class=\"row_heading level0 row14\" >16</th>\n",
              "      <td id=\"T_05be7_row14_col0\" class=\"data row14 col0\" >NO_TIENE_REF</td>\n",
              "      <td id=\"T_05be7_row14_col1\" class=\"data row14 col1\" >0.018602</td>\n",
              "    </tr>\n",
              "    <tr>\n",
              "      <th id=\"T_05be7_level0_row15\" class=\"row_heading level0 row15\" >7</th>\n",
              "      <td id=\"T_05be7_row15_col0\" class=\"data row15 col0\" >TIENE_JR</td>\n",
              "      <td id=\"T_05be7_row15_col1\" class=\"data row15 col1\" >0.018551</td>\n",
              "    </tr>\n",
              "    <tr>\n",
              "      <th id=\"T_05be7_level0_row16\" class=\"row_heading level0 row16\" >6</th>\n",
              "      <td id=\"T_05be7_row16_col0\" class=\"data row16 col0\" >TIENE_AV</td>\n",
              "      <td id=\"T_05be7_row16_col1\" class=\"data row16 col1\" >0.018365</td>\n",
              "    </tr>\n",
              "  </tbody>\n",
              "</table>\n"
            ]
          },
          "metadata": {},
          "execution_count": 273
        }
      ]
    },
    {
      "cell_type": "code",
      "source": [
        "df = pd.DataFrame()"
      ],
      "metadata": {
        "id": "hsZSMXUyMBrk"
      },
      "execution_count": null,
      "outputs": []
    },
    {
      "cell_type": "code",
      "source": [
        "df.to_csv( 'dataframe_predict.csv', # Indicar el nombre del archivo\n",
        "                            index = True,              # Indicar si incluir o no la columna indice. En este caso, como es el DNI, ponemos que sí\n",
        "                            sep = ';'                  # Indicamos el caracter a usarse como separador\n",
        "                          )"
      ],
      "metadata": {
        "id": "dgPzaXbNSe0d"
      },
      "execution_count": null,
      "outputs": []
    },
    {
      "cell_type": "markdown",
      "source": [
        "# Matriz de confusión"
      ],
      "metadata": {
        "id": "5ByOY6wGvi8m"
      }
    },
    {
      "cell_type": "code",
      "execution_count": null,
      "metadata": {
        "id": "aVAeEH6t4sjU"
      },
      "outputs": [],
      "source": [
        "from sklearn.model_selection import train_test_split\n",
        "from sklearn.metrics import accuracy_score\n",
        "from sklearn.metrics import f1_score\n",
        "from sklearn.metrics import multilabel_confusion_matrix"
      ]
    },
    {
      "cell_type": "markdown",
      "source": [
        "![imagen.png](data:image/png;base64,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)"
      ],
      "metadata": {
        "id": "YNA4EnWIvnfc"
      }
    },
    {
      "cell_type": "code",
      "source": [
        "multilabel_confusion_matrix(y_test, predictions)"
      ],
      "metadata": {
        "colab": {
          "base_uri": "https://localhost:8080/"
        },
        "id": "SeMsU0-4vGcm",
        "outputId": "d49e21cb-18db-49eb-b7af-9375a9bc9d1f"
      },
      "execution_count": null,
      "outputs": [
        {
          "output_type": "execute_result",
          "data": {
            "text/plain": [
              "array([[[6904,   41],\n",
              "        [ 176,   83]],\n",
              "\n",
              "       [[6994,   14],\n",
              "        [ 119,   77]],\n",
              "\n",
              "       [[6865,   75],\n",
              "        [ 117,  147]],\n",
              "\n",
              "       [[6908,   11],\n",
              "        [ 253,   32]],\n",
              "\n",
              "       [[7183,    0],\n",
              "        [  21,    0]],\n",
              "\n",
              "       [[7200,    0],\n",
              "        [   4,    0]],\n",
              "\n",
              "       [[7190,    0],\n",
              "        [  14,    0]],\n",
              "\n",
              "       [[ 401,  642],\n",
              "        [  79, 6082]]])"
            ]
          },
          "metadata": {},
          "execution_count": 277
        }
      ]
    },
    {
      "cell_type": "markdown",
      "source": [
        "# Métrica"
      ],
      "metadata": {
        "id": "2fmeSozhvtql"
      }
    },
    {
      "cell_type": "code",
      "source": [
        "metricF1_score = f1_score(y_test, predictions, average=None)"
      ],
      "metadata": {
        "id": "M6hYW0uzqiR2"
      },
      "execution_count": null,
      "outputs": []
    },
    {
      "cell_type": "code",
      "source": [
        "metricF1_score"
      ],
      "metadata": {
        "colab": {
          "base_uri": "https://localhost:8080/"
        },
        "id": "Gk1luveLsZAl",
        "outputId": "83d7464a-214e-4a56-d368-420673b47f59"
      },
      "execution_count": null,
      "outputs": [
        {
          "output_type": "execute_result",
          "data": {
            "text/plain": [
              "array([0.43342037, 0.53658537, 0.60493827, 0.19512195, 0.        ,\n",
              "       0.        , 0.        , 0.94404346])"
            ]
          },
          "metadata": {},
          "execution_count": 279
        }
      ]
    },
    {
      "cell_type": "code",
      "source": [
        "f1_score(y_test, predictions, average='macro')"
      ],
      "metadata": {
        "colab": {
          "base_uri": "https://localhost:8080/"
        },
        "id": "JWmRttq_r4jr",
        "outputId": "047028d5-026f-4759-a125-289274f84072"
      },
      "execution_count": null,
      "outputs": [
        {
          "output_type": "execute_result",
          "data": {
            "text/plain": [
              "0.3392636769503211"
            ]
          },
          "metadata": {},
          "execution_count": 280
        }
      ]
    },
    {
      "cell_type": "code",
      "source": [
        "from sklearn.model_selection import RandomizedSearchCV\n",
        "\n",
        "def random_search_tuning():\n",
        "  \n",
        "    dataset = dataSetCom.copy()\n",
        "    X = dataset.drop(columns=['SUGERENCIAS']).copy()\n",
        "    y = dataset['SUGERENCIAS']\n",
        "\n",
        "    x_train, x_val, y_train, y_val = train_test_split(X, y, # Vectores X e y\n",
        "                                                    test_size = 0.2, # Fracción para prueba (en este caso, 20%)\n",
        "                                                    random_state = semilla_random_state) # Semilla aleatoria, solo con fines de reproducibilidad. Hace que siempre que se ejecute el código,                                                                                       # el resultado sea el mismo. Normalmente no se usaria.\n",
        "\n",
        "    # define the train set and test set\n",
        "    print(\"Shapes - X_train: \", x_train.shape,\n",
        "          \", X_val: \", x_val.shape, \", y_train: \",\n",
        "          y_train.shape, \", y_val: \", y_val.shape)\n",
        "\n",
        "    params = {'max_depth': [3, 6, 10, 15,20],\n",
        "              'learning_rate': [0.01, 0.1, 0.2, 0.3, 0.4, 0.05],\n",
        "              'subsample': np.arange(0.5, 1.0, 0.1),\n",
        "              'colsample_bytree': np.arange(0.5, 1.0, 0.1),\n",
        "              'colsample_bylevel': np.arange(0.5, 1.0, 0.1),\n",
        "              'n_estimators': [100, 150, 250, 500, 750,1000],\n",
        "              'num_class': [8]\n",
        "              }\n",
        "\n",
        "    xgbclf = xgb.XGBClassifier(objective=\"multi:softmax\", tree_method='hist')\n",
        "    clf = RandomizedSearchCV(estimator=xgbclf,\n",
        "                             param_distributions=params,\n",
        "                             scoring='accuracy',\n",
        "                             n_iter=25,\n",
        "                             n_jobs=4,\n",
        "                             verbose=1)\n",
        "\n",
        "    clf.fit(x_train, y_train)\n",
        "\n",
        "    best_combination = clf.best_params_\n",
        "\n",
        "    return best_combination\n"
      ],
      "metadata": {
        "id": "r4krMArcoCHg"
      },
      "execution_count": null,
      "outputs": []
    },
    {
      "cell_type": "code",
      "source": [
        "best_params = random_search_tuning()"
      ],
      "metadata": {
        "colab": {
          "base_uri": "https://localhost:8080/"
        },
        "id": "wFOlGZD6pK3o",
        "outputId": "3f330f21-8dc2-499c-9dbd-63ac6dfc6abd"
      },
      "execution_count": null,
      "outputs": [
        {
          "output_type": "stream",
          "name": "stdout",
          "text": [
            "Shapes - X_train:  (28813, 17) , X_val:  (7204, 17) , y_train:  (28813,) , y_val:  (7204,)\n",
            "Fitting 5 folds for each of 25 candidates, totalling 125 fits\n"
          ]
        },
        {
          "output_type": "stream",
          "name": "stderr",
          "text": [
            "/usr/local/lib/python3.7/dist-packages/joblib/externals/loky/process_executor.py:703: UserWarning: A worker stopped while some jobs were given to the executor. This can be caused by a too short worker timeout or by a memory leak.\n",
            "  \"timeout or by a memory leak.\", UserWarning\n"
          ]
        }
      ]
    },
    {
      "cell_type": "code",
      "source": [
        "print(\"Best hyperparameter combination: \", best_params)"
      ],
      "metadata": {
        "colab": {
          "base_uri": "https://localhost:8080/"
        },
        "id": "4ltid8xHpR_m",
        "outputId": "9c90c9e7-e208-497a-eb47-f70d9a4ad808"
      },
      "execution_count": null,
      "outputs": [
        {
          "output_type": "stream",
          "name": "stdout",
          "text": [
            "Best hyperparameter combination:  {'subsample': 0.7, 'num_class': 8, 'n_estimators': 500, 'max_depth': 20, 'learning_rate': 0.01, 'colsample_bytree': 0.5, 'colsample_bylevel': 0.7999999999999999}\n"
          ]
        }
      ]
    }
  ],
  "metadata": {
    "colab": {
      "collapsed_sections": [],
      "provenance": []
    },
    "kernelspec": {
      "display_name": "Python 3",
      "name": "python3"
    },
    "language_info": {
      "name": "python"
    }
  },
  "nbformat": 4,
  "nbformat_minor": 0
}