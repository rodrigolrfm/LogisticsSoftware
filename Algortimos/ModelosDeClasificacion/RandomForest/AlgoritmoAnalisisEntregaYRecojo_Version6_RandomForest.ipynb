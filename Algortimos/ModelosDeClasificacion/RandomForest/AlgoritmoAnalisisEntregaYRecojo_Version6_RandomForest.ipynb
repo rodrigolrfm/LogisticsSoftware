{
  "cells": [
    {
      "cell_type": "code",
      "execution_count": 1,
      "metadata": {
        "id": "I8QDxfqkxQWK"
      },
      "outputs": [],
      "source": [
        "import pandas as pd\n",
        "import numpy as np\n",
        "import matplotlib.pyplot as plt\n",
        "import seaborn as sns\n",
        "import statsmodels.api as sm\n",
        "import pickle\n",
        "\n",
        "#Librería de geolocalizacion\n",
        "from geopy.geocoders import Nominatim\n",
        "\n",
        "import csv\n",
        "import io\n",
        "import json\n",
        "\n",
        "#Librería de clima\n",
        "import requests\n",
        "from pprint import pprint\n",
        "\n",
        "# Librerías para convertir en unix time\n",
        "import datetime\n",
        "from datetime import timezone\n",
        "import dateutil.parser"
      ]
    },
    {
      "cell_type": "code",
      "source": [
        "!pip install geopy\n",
        "!pip install requests"
      ],
      "metadata": {
        "colab": {
          "base_uri": "https://localhost:8080/"
        },
        "id": "OLcuv25I8925",
        "outputId": "fec520d7-2015-43e2-8120-13481b07daeb"
      },
      "execution_count": 2,
      "outputs": [
        {
          "output_type": "stream",
          "name": "stdout",
          "text": [
            "Looking in indexes: https://pypi.org/simple, https://us-python.pkg.dev/colab-wheels/public/simple/\n",
            "Requirement already satisfied: geopy in /usr/local/lib/python3.7/dist-packages (1.17.0)\n",
            "Requirement already satisfied: geographiclib<2,>=1.49 in /usr/local/lib/python3.7/dist-packages (from geopy) (1.52)\n",
            "Looking in indexes: https://pypi.org/simple, https://us-python.pkg.dev/colab-wheels/public/simple/\n",
            "Requirement already satisfied: requests in /usr/local/lib/python3.7/dist-packages (2.23.0)\n",
            "Requirement already satisfied: certifi>=2017.4.17 in /usr/local/lib/python3.7/dist-packages (from requests) (2022.9.24)\n",
            "Requirement already satisfied: urllib3!=1.25.0,!=1.25.1,<1.26,>=1.21.1 in /usr/local/lib/python3.7/dist-packages (from requests) (1.24.3)\n",
            "Requirement already satisfied: chardet<4,>=3.0.2 in /usr/local/lib/python3.7/dist-packages (from requests) (3.0.4)\n",
            "Requirement already satisfied: idna<3,>=2.5 in /usr/local/lib/python3.7/dist-packages (from requests) (2.10)\n"
          ]
        }
      ]
    },
    {
      "cell_type": "code",
      "execution_count": 3,
      "metadata": {
        "id": "4rjEv1-37geb",
        "colab": {
          "base_uri": "https://localhost:8080/"
        },
        "outputId": "bd9bc284-e8f8-4183-fdfb-39b0501ff72b"
      },
      "outputs": [
        {
          "output_type": "stream",
          "name": "stdout",
          "text": [
            "Mounted at /content/drive\n"
          ]
        }
      ],
      "source": [
        "from google.colab import drive\n",
        "drive.mount('/content/drive')"
      ]
    },
    {
      "cell_type": "markdown",
      "source": [
        "# Combinar Dataset con los parámetros de entrada"
      ],
      "metadata": {
        "id": "GkQiKsymlxvS"
      }
    },
    {
      "cell_type": "code",
      "source": [
        "dataset = pd.read_csv('/content/drive/MyDrive/ML2022/TESIS/Version2/dataframe_process_antes_eliminar_columns.csv',sep=';')"
      ],
      "metadata": {
        "id": "0IQe9Z0w-bbU",
        "colab": {
          "base_uri": "https://localhost:8080/"
        },
        "outputId": "c0c6508a-0285-488a-e9bc-4ff2b4a827b7"
      },
      "execution_count": 4,
      "outputs": [
        {
          "output_type": "stream",
          "name": "stderr",
          "text": [
            "/usr/local/lib/python3.7/dist-packages/IPython/core/interactiveshell.py:3326: DtypeWarning: Columns (40) have mixed types.Specify dtype option on import or set low_memory=False.\n",
            "  exec(code_obj, self.user_global_ns, self.user_ns)\n"
          ]
        }
      ]
    },
    {
      "cell_type": "code",
      "source": [
        "dataset.columns"
      ],
      "metadata": {
        "colab": {
          "base_uri": "https://localhost:8080/"
        },
        "id": "JIYO-BevLbm8",
        "outputId": "0db3a428-8bd5-40e1-d3b3-25cffd0934a0"
      },
      "execution_count": 5,
      "outputs": [
        {
          "output_type": "execute_result",
          "data": {
            "text/plain": [
              "Index(['Unnamed: 0', 'CLIENTE', 'GUIA', 'FECHA_GUIA', 'ESTADO_GUIA',\n",
              "       'FECHA_ENTREGA', 'SERVICIO', 'ORIGEN', 'DESTINO', 'ORIGEN_BASE',\n",
              "       'DESTINO_BASE', 'REMITENTE', 'CONSIGNATARIO', 'PAQUETES',\n",
              "       'GESTORA_SERVICIO', 'REPRESENTANTE', 'CONTADOR_VISITAS',\n",
              "       'FORMA_CONF_ENTREGA', 'DEPARTAMENTO', 'PROVINCIA', 'DISTRITO',\n",
              "       'DIRECCION1', 'DIRECCION2', 'FECHA_EMBARQUE', 'FECHA_SALIDA_PROYECT',\n",
              "       'FECHA_LLEGADA_PROYECT', 'FECHA_LLEGADA_REAL',\n",
              "       'PROVEEDOR DE TRANSPORTE', 'VIA', 'N_MANIFIESTO', 'FECHA_MANIFIESTO',\n",
              "       'ESTADO_MANIFIESTO', 'INCIDENCIA_MANIFIESTO',\n",
              "       'FECHA MANIFIESTO_INFORMADO', 'FECHA MANIFIESTO_RECOGIDO',\n",
              "       'FECHA MANIFIESTO_VERIFICADO', 'RESP_REPARTO', 'FECHA REPARTO',\n",
              "       'NUMERO REPARTO', 'TIPO_INCIDENCIA_REPARTO', 'FECHA_INCIDENCIA_REPARTO',\n",
              "       'FECHA_COMPROMISO', 'SUGERENCIAS', 'TIENE_AV', 'TIENE_JR',\n",
              "       'TIENE_CALLE', 'count', 'Latitud', 'Longitud', 'TEMPERATURA', 'HUMEDAD',\n",
              "       'CLIMA', 'AÑO', 'INDICE_DELITOS', 'CANT_FENO_NAT', 'CANT_PEA',\n",
              "       'CANT_ACC_TRANSITO'],\n",
              "      dtype='object')"
            ]
          },
          "metadata": {},
          "execution_count": 5
        }
      ]
    },
    {
      "cell_type": "markdown",
      "source": [
        "**Ahora eliminaremos las columnas que no guardan relación**"
      ],
      "metadata": {
        "id": "Dy5R2E4AwDKr"
      }
    },
    {
      "cell_type": "code",
      "execution_count": 6,
      "metadata": {
        "id": "YruECouo8qfh"
      },
      "outputs": [],
      "source": [
        "# Ahora eliminaremos las columnas que no guardan relación\n",
        "dataset = dataset.drop(['GUIA'], axis=1)\n",
        "dataset = dataset.drop(['AÑO'], axis=1)\n",
        "dataset = dataset.drop(['DIRECCION1'], axis=1)\n",
        "dataset = dataset.drop(['N_MANIFIESTO'], axis=1)\n",
        "dataset = dataset.drop(['PROVINCIA'], axis=1)\n",
        "dataset = dataset.drop(['DISTRITO'], axis=1)\n",
        "dataset = dataset.drop(['NUMERO REPARTO'], axis=1)\n",
        "dataset = dataset.drop(['FECHA MANIFIESTO_VERIFICADO'], axis=1)\n",
        "dataset = dataset.drop(['ORIGEN_BASE'], axis=1)\n",
        "dataset = dataset.drop(['REMITENTE'], axis=1)\n",
        "dataset = dataset.drop(['FECHA_EMBARQUE'], axis=1)\n",
        "dataset = dataset.drop(['FORMA_CONF_ENTREGA'], axis=1)\n",
        "dataset = dataset.drop(['CONSIGNATARIO'], axis=1)\n",
        "dataset = dataset.drop(['DESTINO_BASE'], axis=1)\n",
        "dataset = dataset.drop(['REPRESENTANTE'], axis=1)\n",
        "dataset = dataset.drop(['DIRECCION2'], axis=1)\n",
        "dataset = dataset.drop(['FECHA_LLEGADA_PROYECT'], axis=1)\n",
        "dataset = dataset.drop(['FECHA_LLEGADA_REAL'], axis=1)\n",
        "dataset = dataset.drop(['FECHA MANIFIESTO_RECOGIDO'], axis=1)\n",
        "dataset = dataset.drop(['FECHA MANIFIESTO_INFORMADO'], axis=1)\n",
        "dataset = dataset.drop(['FECHA REPARTO'], axis=1)\n",
        "dataset = dataset.drop(['DESTINO'], axis=1)\n",
        "dataset = dataset.drop(['FECHA_COMPROMISO'], axis=1)\n",
        "dataset = dataset.drop(['FECHA_MANIFIESTO'], axis=1)\n",
        "dataset = dataset.drop(['RESP_REPARTO'], axis=1)\n",
        "dataset = dataset.drop(['FECHA_INCIDENCIA_REPARTO'], axis=1)\n",
        "dataset = dataset.drop(['FECHA_SALIDA_PROYECT'], axis=1)\n",
        "dataset = dataset.drop(['FECHA_GUIA'], axis=1)\n",
        "dataset = dataset.drop(['FECHA_ENTREGA'], axis=1)\n",
        "dataset = dataset.drop(['ORIGEN'], axis=1)\n",
        "dataset = dataset.drop(['GESTORA_SERVICIO'], axis=1)\n",
        "dataset = dataset.drop(['PROVEEDOR DE TRANSPORTE'], axis=1)\n",
        "dataset = dataset.drop(['CLIENTE'], axis=1)\n",
        "dataset = dataset.drop(['count'], axis=1)\n",
        "dataset = dataset.drop(['ESTADO_MANIFIESTO'], axis=1)\n",
        "dataset = dataset.drop(['ESTADO_GUIA'], axis=1)\n",
        "\n",
        "dataset = dataset.drop(['TIPO_INCIDENCIA_REPARTO'], axis=1)"
      ]
    },
    {
      "cell_type": "code",
      "source": [
        "dataset.columns"
      ],
      "metadata": {
        "colab": {
          "base_uri": "https://localhost:8080/"
        },
        "id": "eVrrXeKzLqIW",
        "outputId": "b62aa07e-7059-4993-b813-f0f40860cbde"
      },
      "execution_count": 7,
      "outputs": [
        {
          "output_type": "execute_result",
          "data": {
            "text/plain": [
              "Index(['Unnamed: 0', 'SERVICIO', 'PAQUETES', 'CONTADOR_VISITAS',\n",
              "       'DEPARTAMENTO', 'VIA', 'INCIDENCIA_MANIFIESTO', 'SUGERENCIAS',\n",
              "       'TIENE_AV', 'TIENE_JR', 'TIENE_CALLE', 'Latitud', 'Longitud',\n",
              "       'TEMPERATURA', 'HUMEDAD', 'CLIMA', 'INDICE_DELITOS', 'CANT_FENO_NAT',\n",
              "       'CANT_PEA', 'CANT_ACC_TRANSITO'],\n",
              "      dtype='object')"
            ]
          },
          "metadata": {},
          "execution_count": 7
        }
      ]
    },
    {
      "cell_type": "code",
      "execution_count": 8,
      "metadata": {
        "id": "1RCqM83utewg"
      },
      "outputs": [],
      "source": [
        "#Completamos los campos vaciós de las vias terrestres\n",
        "moda = dataset['VIA'].mode()[0]\n",
        "dataset['VIA'] = dataset['VIA'].fillna(moda)"
      ]
    },
    {
      "cell_type": "code",
      "execution_count": 9,
      "metadata": {
        "id": "_qjtYy0gzQ4t"
      },
      "outputs": [],
      "source": [
        "moda = dataset['SERVICIO'].mode()[0]\n",
        "dataset['SERVICIO'] = dataset['SERVICIO'].fillna(moda)"
      ]
    },
    {
      "cell_type": "code",
      "source": [
        "moda = dataset['DEPARTAMENTO'].mode()[0]\n",
        "dataset['DEPARTAMENTO'] = dataset['DEPARTAMENTO'].fillna(moda)"
      ],
      "metadata": {
        "id": "9W6UZUOc5cEX"
      },
      "execution_count": 10,
      "outputs": []
    },
    {
      "cell_type": "code",
      "source": [
        "dataset['TIENE_AV'] = np.where(dataset['TIENE_AV']==True, 1, dataset['TIENE_AV'])\n",
        "dataset['TIENE_AV'] = np.where(dataset['TIENE_AV']==False, 0, dataset['TIENE_AV'])\n",
        "dataset['TIENE_AV'] = np.where(dataset['TIENE_AV'].isna()==True, 0, dataset['TIENE_AV'])\n",
        "dataset['TIENE_JR'] = np.where(dataset['TIENE_JR']==True, 1, dataset['TIENE_JR'])\n",
        "dataset['TIENE_JR'] = np.where(dataset['TIENE_JR']==False, 0, dataset['TIENE_JR'])\n",
        "dataset['TIENE_JR'] = np.where(dataset['TIENE_JR'].isna()==True, 0, dataset['TIENE_JR'])\n",
        "dataset['TIENE_CALLE'] = np.where(dataset['TIENE_CALLE']==True, 1, dataset['TIENE_CALLE'])\n",
        "dataset['TIENE_CALLE'] = np.where(dataset['TIENE_CALLE']==False, 0, dataset['TIENE_CALLE'])\n",
        "dataset['TIENE_CALLE'] = np.where(dataset['TIENE_CALLE'].isna()==True, 0, dataset['TIENE_CALLE'])\n",
        "dataset['INCIDENCIA_MANIFIESTO'] = np.where(dataset['INCIDENCIA_MANIFIESTO'].isnull()==True, 'OK', dataset['INCIDENCIA_MANIFIESTO'])"
      ],
      "metadata": {
        "id": "AKOGGcHg3E_z"
      },
      "execution_count": 11,
      "outputs": []
    },
    {
      "cell_type": "code",
      "source": [
        "dataset['NO_TIENE_REF'] = 0\n",
        "dataset['NO_TIENE_REF'] = np.where((dataset['TIENE_AV']==0) & (dataset['TIENE_JR']==0) & (dataset['TIENE_CALLE']==0), 1, dataset['NO_TIENE_REF'])"
      ],
      "metadata": {
        "id": "BXjFbWJrajDH"
      },
      "execution_count": 12,
      "outputs": []
    },
    {
      "cell_type": "code",
      "source": [
        "dataset = dataset.drop(dataset[dataset.DEPARTAMENTO == \"ANDAHUAYLAS\"].index)"
      ],
      "metadata": {
        "id": "TFQ8etQ9NOQK"
      },
      "execution_count": 13,
      "outputs": []
    },
    {
      "cell_type": "code",
      "source": [
        "dataset.count()"
      ],
      "metadata": {
        "colab": {
          "base_uri": "https://localhost:8080/"
        },
        "id": "w__t7DHASG5_",
        "outputId": "5d49d3be-333a-4f0a-8170-5eb7a0dc6c57"
      },
      "execution_count": 14,
      "outputs": [
        {
          "output_type": "execute_result",
          "data": {
            "text/plain": [
              "Unnamed: 0               36017\n",
              "SERVICIO                 36017\n",
              "PAQUETES                 36017\n",
              "CONTADOR_VISITAS         36017\n",
              "DEPARTAMENTO             36017\n",
              "VIA                      36017\n",
              "INCIDENCIA_MANIFIESTO    36017\n",
              "SUGERENCIAS              36017\n",
              "TIENE_AV                 36017\n",
              "TIENE_JR                 36017\n",
              "TIENE_CALLE              36017\n",
              "Latitud                  36017\n",
              "Longitud                 36017\n",
              "TEMPERATURA              36017\n",
              "HUMEDAD                  36017\n",
              "CLIMA                    36017\n",
              "INDICE_DELITOS           36017\n",
              "CANT_FENO_NAT            36017\n",
              "CANT_PEA                 36017\n",
              "CANT_ACC_TRANSITO        36017\n",
              "NO_TIENE_REF             36017\n",
              "dtype: int64"
            ]
          },
          "metadata": {},
          "execution_count": 14
        }
      ]
    },
    {
      "cell_type": "markdown",
      "source": [
        "# Convertir datos categóricos a numéricos"
      ],
      "metadata": {
        "id": "BG1qaIDTl-SN"
      }
    },
    {
      "cell_type": "code",
      "source": [
        "dataset[\"TIENE_AV\"] = dataset[\"TIENE_AV\"].astype('int')\n",
        "dataset[\"TIENE_JR\"] =dataset[\"TIENE_JR\"].astype('int')\n",
        "dataset[\"TIENE_CALLE\"] =dataset[\"TIENE_CALLE\"].astype('int')\n",
        "dataset[\"NO_TIENE_REF\"] = dataset[\"NO_TIENE_REF\"].astype('int')"
      ],
      "metadata": {
        "id": "tTW9wDSsOCS6"
      },
      "execution_count": 15,
      "outputs": []
    },
    {
      "cell_type": "code",
      "execution_count": 16,
      "metadata": {
        "id": "Y2RFaP-d9pZC"
      },
      "outputs": [],
      "source": [
        "prueba_dataset = dataset.copy()\n",
        "\n",
        "#Dictionario Servicios\n",
        "listaServicios = dataset[\"SERVICIO\"].unique().tolist()\n",
        "dictionaryServicios = {servicio:listaServicios.index(servicio) for servicio in listaServicios}\n",
        "\n",
        "#Dictionario Departamentos\n",
        "listaDepartamentos = dataset[\"DEPARTAMENTO\"].unique().tolist()\n",
        "dictionaryDepartamentos = {departamento:listaDepartamentos.index(departamento) for departamento in listaDepartamentos}\n",
        "\n",
        "#Dictionario Climas\n",
        "listaClimas = dataset[\"CLIMA\"].unique().tolist()\n",
        "dictionaryClimas = {clima:listaClimas.index(clima) for clima in listaClimas}\n",
        "\n",
        "#Dictionario Tipo incidencia\n",
        "#listaTipoIncidencia = dataset[\"TIPO_INCIDENCIA_REPARTO\"].unique().tolist()\n",
        "#dictionaryTipoIncidencia = {tipoIncidenciaRep:listaTipoIncidencia.index(tipoIncidenciaRep) for tipoIncidenciaRep in listaTipoIncidencia}\n",
        "\n",
        "#Dictionario Incidencia Manifiesto\n",
        "listaIncidenciaMan = dataset[\"INCIDENCIA_MANIFIESTO\"].unique().tolist()\n",
        "dictionaryIncidenciaMan = {incidenciaMan:listaIncidenciaMan.index(incidenciaMan) for incidenciaMan in listaIncidenciaMan}\n",
        "\n",
        "#Dictionario sugerencia\n",
        "listaSugerencias = dataset[\"SUGERENCIAS\"].unique().tolist()\n",
        "dictionarySugerencias = {sugerencia:listaSugerencias.index(sugerencia) for sugerencia in listaSugerencias}\n",
        "\n",
        "#Dictionario via\n",
        "listaVias = dataset[\"VIA\"].unique().tolist()\n",
        "dictionaryVias = {via:listaVias.index(via) for via in listaVias}\n"
      ]
    },
    {
      "cell_type": "code",
      "execution_count": 17,
      "metadata": {
        "id": "VNl2fbGb-H2q"
      },
      "outputs": [],
      "source": [
        "preprocessed_dataset = dataset.copy()\n",
        "columnas_numericas = list()\n",
        "columnas_categoricas = list()\n",
        "\n",
        "for column in preprocessed_dataset:\n",
        "  #Determinamos si la variable es numérica o no\n",
        "  if pd.api.types.is_numeric_dtype(preprocessed_dataset[column]):\n",
        "    columnas_numericas.append(column)\n",
        "  else:\n",
        "    columnas_categoricas.append(column)\n"
      ]
    },
    {
      "cell_type": "code",
      "source": [
        "columnas_categoricas"
      ],
      "metadata": {
        "colab": {
          "base_uri": "https://localhost:8080/"
        },
        "id": "3kuWOShBcdDW",
        "outputId": "4dcc4ca8-a2a0-4b35-808d-1cecfd0879e8"
      },
      "execution_count": 18,
      "outputs": [
        {
          "output_type": "execute_result",
          "data": {
            "text/plain": [
              "['SERVICIO',\n",
              " 'DEPARTAMENTO',\n",
              " 'VIA',\n",
              " 'INCIDENCIA_MANIFIESTO',\n",
              " 'SUGERENCIAS',\n",
              " 'CLIMA']"
            ]
          },
          "metadata": {},
          "execution_count": 18
        }
      ]
    },
    {
      "cell_type": "code",
      "source": [
        "for i in dataset.index:\n",
        "  departamento = str(dataset.loc[i,\"DEPARTAMENTO\"])\n",
        "  servicio = str(dataset.loc[i,\"SERVICIO\"])\n",
        "  via = str(dataset.loc[i,\"VIA\"])\n",
        "  incidenciaMan = str(dataset.loc[i,\"INCIDENCIA_MANIFIESTO\"])\n",
        "  #tipoIncidencia = str(dataset.loc[i,\"TIPO_INCIDENCIA_REPARTO\"])\n",
        "  sugerencia = str(dataset.loc[i,\"SUGERENCIAS\"])\n",
        "  clima = str(dataset.loc[i,\"CLIMA\"])\n",
        "\n",
        "  val_departamento = dictionaryDepartamentos[departamento]\n",
        "  val_servicio = dictionaryServicios[servicio]\n",
        "  val_via = dictionaryVias[via]\n",
        "  val_incidenciaMan = dictionaryIncidenciaMan[incidenciaMan]\n",
        "  #val_tipoIncidencia = dictionaryTipoIncidencia[tipoIncidencia]\n",
        "  val_sugerencia = dictionarySugerencias[sugerencia]\n",
        "  val_clima = dictionaryClimas[clima]\n",
        "\n",
        "  dataset.loc[i,\"SERVICIO\"] = val_servicio\n",
        "  dataset.loc[i,\"DEPARTAMENTO\"] = val_departamento\n",
        "  dataset.loc[i,\"VIA\"] = val_via\n",
        "  dataset.loc[i,\"INCIDENCIA_MANIFIESTO\"] = val_incidenciaMan\n",
        "  #dataset.loc[i,\"TIPO_INCIDENCIA_REPARTO\"] = val_tipoIncidencia\n",
        "  dataset.loc[i,\"SUGERENCIAS\"] = val_sugerencia\n",
        "  dataset.loc[i,\"CLIMA\"] = val_clima"
      ],
      "metadata": {
        "id": "iSn1-B8_cdGc"
      },
      "execution_count": 19,
      "outputs": []
    },
    {
      "cell_type": "code",
      "source": [
        "dataset[\"SERVICIO\"] = dataset[\"SERVICIO\"].astype('int')\n",
        "dataset[\"DEPARTAMENTO\"] =dataset[\"DEPARTAMENTO\"].astype('int')\n",
        "dataset[\"VIA\"] =dataset[\"VIA\"].astype('int')\n",
        "dataset[\"INCIDENCIA_MANIFIESTO\"] = dataset[\"INCIDENCIA_MANIFIESTO\"].astype('int')\n",
        "#dataset[\"TIPO_INCIDENCIA_REPARTO\"] =dataset[\"TIPO_INCIDENCIA_REPARTO\"].astype('int')\n",
        "dataset[\"SUGERENCIAS\"] =dataset[\"SUGERENCIAS\"].astype('int')\n",
        "dataset[\"CLIMA\"] = dataset[\"CLIMA\"].astype('int')"
      ],
      "metadata": {
        "id": "ogIrRfXUin3E"
      },
      "execution_count": 20,
      "outputs": []
    },
    {
      "cell_type": "code",
      "source": [
        "dataset = dataset.drop(['Unnamed: 0'], axis=1)"
      ],
      "metadata": {
        "id": "fygItKo0A-71"
      },
      "execution_count": 21,
      "outputs": []
    },
    {
      "cell_type": "markdown",
      "source": [
        "# Entrenar y predecir modelos"
      ],
      "metadata": {
        "id": "yPVjT-EUYwG-"
      }
    },
    {
      "cell_type": "code",
      "execution_count": 22,
      "metadata": {
        "id": "NpopkrA2lms2"
      },
      "outputs": [],
      "source": [
        "from sklearn.model_selection import train_test_split\n",
        "semilla_random_state = 20\n",
        "\n",
        "X = dataset.drop(columns=['SUGERENCIAS']).copy()\n",
        "y = dataset['SUGERENCIAS']\n",
        "\n",
        "X_train, X_test, y_train, y_test = train_test_split(X, y, # Vectores X e y\n",
        "                                                    test_size = 0.2, # Fracción para prueba (en este caso, 20%)\n",
        "                                                    random_state = semilla_random_state) # Semilla aleatoria, solo con fines de reproducibilidad. Hace que siempre que se ejecute el código,\n",
        "                                                                                           # el resultado sea el mismo. Normalmente no se usaria."
      ]
    },
    {
      "cell_type": "code",
      "execution_count": 23,
      "metadata": {
        "id": "NIr4cIrB3YQd"
      },
      "outputs": [],
      "source": [
        "from sklearn.ensemble import RandomForestClassifier\n",
        "from sklearn.model_selection import RandomizedSearchCV\n",
        "from sklearn.metrics import confusion_matrix\n",
        "from sklearn import metrics"
      ]
    },
    {
      "cell_type": "code",
      "source": [
        "eval_set = [(X_train, y_train), (X_test, y_test)]"
      ],
      "metadata": {
        "id": "LN0--tPECMhG"
      },
      "execution_count": null,
      "outputs": []
    },
    {
      "cell_type": "code",
      "source": [
        "# Number of trees in random forest\n",
        "n_estimators = [int(x) for x in range(50,500,100)]\n",
        "print(n_estimators)\n",
        "# Number of features to consider at every split\n",
        "max_features = ['auto', 'sqrt']\n",
        "# Maximum number of levels in tree\n",
        "max_depth = [int(x) for x in np.linspace(10, 100, num = 10)]\n",
        "print(max_depth)\n",
        "max_depth.append(None)\n",
        "# Minimum number of samples required to split a node\n",
        "min_samples_split = [2, 5, 10]\n",
        "# Minimum number of samples required at each leaf node\n",
        "min_samples_leaf = [1, 2, 4]\n",
        "# Method of selecting samples for training each tree\n",
        "bootstrap = [True, False]\n",
        "# best \n",
        "list_criterion = ['gini','entropy']\n",
        "\n",
        "# Create the random grid\n",
        "random_grid = {'n_estimators': n_estimators,\n",
        "               'max_features': max_features,\n",
        "               'max_depth': max_depth,\n",
        "               'criterion': list_criterion,\n",
        "               'min_samples_split': min_samples_split,\n",
        "               'min_samples_leaf': min_samples_leaf,\n",
        "               'bootstrap': bootstrap}\n",
        "print(random_grid)"
      ],
      "metadata": {
        "colab": {
          "base_uri": "https://localhost:8080/"
        },
        "id": "wldYVo248_oM",
        "outputId": "2bad77b9-b2c4-41fa-f423-f6b99899b90c"
      },
      "execution_count": null,
      "outputs": [
        {
          "output_type": "stream",
          "name": "stdout",
          "text": [
            "[50, 150, 250, 350, 450]\n",
            "[10, 20, 30, 40, 50, 60, 70, 80, 90, 100]\n",
            "{'n_estimators': [50, 150, 250, 350, 450], 'max_features': ['auto', 'sqrt'], 'max_depth': [10, 20, 30, 40, 50, 60, 70, 80, 90, 100, None], 'criterion': ['gini', 'entropy'], 'min_samples_split': [2, 5, 10], 'min_samples_leaf': [1, 2, 4], 'bootstrap': [True, False]}\n"
          ]
        }
      ]
    },
    {
      "cell_type": "code",
      "source": [
        "# Use the random grid to search for best hyperparameters\n",
        "# First create the base model to tune\n",
        "rf = RandomForestClassifier()\n",
        "# Random search of parameters, using 3 fold cross validation, \n",
        "# search across 100 different combinations, and use all available cores\n",
        "rf_random = RandomizedSearchCV(estimator = rf, param_distributions = random_grid, n_iter = 100, cv = 3, verbose=2, random_state=42, n_jobs = -1)\n",
        "# Fit the random search model\n",
        "rf_random.fit(X_train, y_train)"
      ],
      "metadata": {
        "colab": {
          "base_uri": "https://localhost:8080/"
        },
        "id": "XSzT3AMOD17n",
        "outputId": "d114a46a-d69a-4d24-8284-be4f0417f1e8"
      },
      "execution_count": null,
      "outputs": [
        {
          "output_type": "stream",
          "name": "stdout",
          "text": [
            "Fitting 3 folds for each of 100 candidates, totalling 300 fits\n"
          ]
        },
        {
          "output_type": "execute_result",
          "data": {
            "text/plain": [
              "RandomizedSearchCV(cv=3, estimator=RandomForestClassifier(), n_iter=100,\n",
              "                   n_jobs=-1,\n",
              "                   param_distributions={'bootstrap': [True, False],\n",
              "                                        'criterion': ['gini', 'entropy'],\n",
              "                                        'max_depth': [10, 20, 30, 40, 50, 60,\n",
              "                                                      70, 80, 90, 100, None],\n",
              "                                        'max_features': ['auto', 'sqrt'],\n",
              "                                        'min_samples_leaf': [1, 2, 4],\n",
              "                                        'min_samples_split': [2, 5, 10],\n",
              "                                        'n_estimators': [50, 150, 250, 350,\n",
              "                                                         450]},\n",
              "                   random_state=42, verbose=2)"
            ]
          },
          "metadata": {},
          "execution_count": 40
        }
      ]
    },
    {
      "cell_type": "code",
      "source": [
        "def evaluate(model, test_features, test_labels):\n",
        "  y_pred = model.predict(test_features)\n",
        "  accuracy = metrics.accuracy_score(y_test, y_pred)\n",
        "  print(accuracy)\n",
        "  print(confusion_matrix(y_test,y_pred))\n",
        "    \n",
        "best_random = rf_random.best_estimator_\n",
        "evaluate(best_random,X_test,y_test)"
      ],
      "metadata": {
        "colab": {
          "base_uri": "https://localhost:8080/"
        },
        "id": "-sFk7RJ7EZOW",
        "outputId": "cb7bde35-df45-499b-b686-a9b7f1ccd82f"
      },
      "execution_count": null,
      "outputs": [
        {
          "output_type": "stream",
          "name": "stdout",
          "text": [
            "0.892282065519156\n",
            "[[  76    4    9   13    0    0    0  157]\n",
            " [   3   75    8    0    0    0    0  110]\n",
            " [   1    2  151    0    0    0    0  110]\n",
            " [  16    0    3   34    0    0    0  232]\n",
            " [   2    1    0    2    0    0    0   16]\n",
            " [   0    0    0    0    0    0    0    4]\n",
            " [   0    0    0    0    0    0    0   14]\n",
            " [  13    6   48    2    0    0    0 6092]]\n"
          ]
        }
      ]
    },
    {
      "cell_type": "markdown",
      "source": [
        "**Mejor combinación de hiperparámetros**"
      ],
      "metadata": {
        "id": "NntRTsYwL_6q"
      }
    },
    {
      "cell_type": "code",
      "source": [
        "rf_random.best_params_"
      ],
      "metadata": {
        "colab": {
          "base_uri": "https://localhost:8080/"
        },
        "id": "CODRXty5L1bj",
        "outputId": "b3e45c42-4835-4c75-dad4-ec2ffce28c6f"
      },
      "execution_count": null,
      "outputs": [
        {
          "output_type": "execute_result",
          "data": {
            "text/plain": [
              "{'n_estimators': 250,\n",
              " 'min_samples_split': 10,\n",
              " 'min_samples_leaf': 2,\n",
              " 'max_features': 'auto',\n",
              " 'max_depth': 100,\n",
              " 'criterion': 'entropy',\n",
              " 'bootstrap': False}"
            ]
          },
          "metadata": {},
          "execution_count": 42
        }
      ]
    },
    {
      "cell_type": "code",
      "source": [
        "model3 = RandomForestClassifier(n_estimators= 250, min_samples_split= 10, min_samples_leaf= 2,max_features='auto',max_depth=100,criterion= 'entropy',bootstrap= False)\n",
        "model3.fit(X_train, y_train)"
      ],
      "metadata": {
        "colab": {
          "base_uri": "https://localhost:8080/"
        },
        "id": "tijoDTnRU1Cw",
        "outputId": "9e566fb8-7462-4158-9b44-2a7d440085e9"
      },
      "execution_count": 24,
      "outputs": [
        {
          "output_type": "execute_result",
          "data": {
            "text/plain": [
              "RandomForestClassifier(bootstrap=False, criterion='entropy', max_depth=100,\n",
              "                       min_samples_leaf=2, min_samples_split=10,\n",
              "                       n_estimators=250)"
            ]
          },
          "metadata": {},
          "execution_count": 24
        }
      ]
    },
    {
      "cell_type": "code",
      "source": [
        "model3.score(X_train,y_train)"
      ],
      "metadata": {
        "colab": {
          "base_uri": "https://localhost:8080/"
        },
        "id": "CeFlPgFKXuye",
        "outputId": "626512f5-11c3-4337-c367-25fe63cd8fdf"
      },
      "execution_count": 27,
      "outputs": [
        {
          "output_type": "execute_result",
          "data": {
            "text/plain": [
              "0.9089994099885469"
            ]
          },
          "metadata": {},
          "execution_count": 27
        }
      ]
    },
    {
      "cell_type": "code",
      "source": [
        "from sklearn.metrics import accuracy_score\n",
        "# make predictions for test data\n",
        "y_pred = model3.predict(X_test)\n",
        "predictions = [round(value) for value in y_pred]\n",
        "# evaluate predictions\n",
        "accuracy = accuracy_score(y_test, predictions)\n",
        "print(\"Accuracy: %.2f%%\" % (accuracy * 100.0))"
      ],
      "metadata": {
        "colab": {
          "base_uri": "https://localhost:8080/"
        },
        "id": "pMCeDwmPVHVY",
        "outputId": "d96aa89f-24af-4849-8834-4724271895ba"
      },
      "execution_count": 25,
      "outputs": [
        {
          "output_type": "stream",
          "name": "stdout",
          "text": [
            "Accuracy: 89.16%\n"
          ]
        }
      ]
    },
    {
      "cell_type": "code",
      "source": [
        "from sklearn.metrics import classification_report\n",
        "#target_names = [0,1,2,3,4,5,6,7]\n",
        "print(classification_report(y_test, predictions, labels=[0,1,2,3,4,5,6,7]))"
      ],
      "metadata": {
        "colab": {
          "base_uri": "https://localhost:8080/"
        },
        "id": "4uS-A-eJVNFf",
        "outputId": "0b1c043a-7f2a-409f-915e-f4cb10880d44"
      },
      "execution_count": 26,
      "outputs": [
        {
          "output_type": "stream",
          "name": "stdout",
          "text": [
            "              precision    recall  f1-score   support\n",
            "\n",
            "           0       0.67      0.29      0.40       259\n",
            "           1       0.85      0.38      0.52       196\n",
            "           2       0.68      0.57      0.62       264\n",
            "           3       0.65      0.12      0.20       285\n",
            "           4       0.00      0.00      0.00        21\n",
            "           5       0.00      0.00      0.00         4\n",
            "           6       0.00      0.00      0.00        14\n",
            "           7       0.90      0.99      0.94      6161\n",
            "\n",
            "    accuracy                           0.89      7204\n",
            "   macro avg       0.47      0.29      0.34      7204\n",
            "weighted avg       0.87      0.89      0.87      7204\n",
            "\n"
          ]
        },
        {
          "output_type": "stream",
          "name": "stderr",
          "text": [
            "/usr/local/lib/python3.7/dist-packages/sklearn/metrics/_classification.py:1318: UndefinedMetricWarning: Precision and F-score are ill-defined and being set to 0.0 in labels with no predicted samples. Use `zero_division` parameter to control this behavior.\n",
            "  _warn_prf(average, modifier, msg_start, len(result))\n",
            "/usr/local/lib/python3.7/dist-packages/sklearn/metrics/_classification.py:1318: UndefinedMetricWarning: Precision and F-score are ill-defined and being set to 0.0 in labels with no predicted samples. Use `zero_division` parameter to control this behavior.\n",
            "  _warn_prf(average, modifier, msg_start, len(result))\n",
            "/usr/local/lib/python3.7/dist-packages/sklearn/metrics/_classification.py:1318: UndefinedMetricWarning: Precision and F-score are ill-defined and being set to 0.0 in labels with no predicted samples. Use `zero_division` parameter to control this behavior.\n",
            "  _warn_prf(average, modifier, msg_start, len(result))\n"
          ]
        }
      ]
    },
    {
      "cell_type": "code",
      "execution_count": null,
      "metadata": {
        "colab": {
          "base_uri": "https://localhost:8080/"
        },
        "id": "9w636pHK4Hyl",
        "outputId": "741c9288-29b3-4ccb-97b9-4c32f283e93c"
      },
      "outputs": [
        {
          "output_type": "stream",
          "name": "stderr",
          "text": [
            "[Parallel(n_jobs=1)]: Using backend SequentialBackend with 1 concurrent workers.\n",
            "[Parallel(n_jobs=1)]: Done  50 out of  50 | elapsed:    0.4s finished\n"
          ]
        },
        {
          "output_type": "execute_result",
          "data": {
            "text/plain": [
              "RandomForestClassifier(max_depth=4, n_estimators=50, verbose=1)"
            ]
          },
          "metadata": {},
          "execution_count": 63
        }
      ],
      "source": [
        "model = RandomForestClassifier(max_depth=4,n_estimators=50, verbose=1,criterion=\"gini\")\n",
        "model.fit(X_train, y_train)"
      ]
    },
    {
      "cell_type": "code",
      "source": [
        "model2 = RandomForestClassifier(max_depth=4,n_estimators=50, verbose=1,criterion=\"entropy\")\n",
        "model2.fit(X_train, y_train)"
      ],
      "metadata": {
        "colab": {
          "base_uri": "https://localhost:8080/"
        },
        "id": "UQOhQ7j95k2b",
        "outputId": "13cffb2d-9719-4269-bd0b-cf2a3ea1c4c5"
      },
      "execution_count": null,
      "outputs": [
        {
          "output_type": "stream",
          "name": "stderr",
          "text": [
            "[Parallel(n_jobs=1)]: Using backend SequentialBackend with 1 concurrent workers.\n",
            "[Parallel(n_jobs=1)]: Done  50 out of  50 | elapsed:    0.4s finished\n"
          ]
        },
        {
          "output_type": "execute_result",
          "data": {
            "text/plain": [
              "RandomForestClassifier(criterion='entropy', max_depth=4, n_estimators=50,\n",
              "                       verbose=1)"
            ]
          },
          "metadata": {},
          "execution_count": 64
        }
      ]
    },
    {
      "cell_type": "code",
      "source": [
        "# evaluate predictions\n",
        "model.score(X_train,y_train)"
      ],
      "metadata": {
        "colab": {
          "base_uri": "https://localhost:8080/"
        },
        "id": "nXoGUnutH6Na",
        "outputId": "ace2d9ae-bda8-4351-c552-729f3c1bf107"
      },
      "execution_count": null,
      "outputs": [
        {
          "output_type": "stream",
          "name": "stderr",
          "text": [
            "[Parallel(n_jobs=1)]: Using backend SequentialBackend with 1 concurrent workers.\n",
            "[Parallel(n_jobs=1)]: Done  50 out of  50 | elapsed:    0.1s finished\n"
          ]
        },
        {
          "output_type": "execute_result",
          "data": {
            "text/plain": [
              "0.8681150869399229"
            ]
          },
          "metadata": {},
          "execution_count": 65
        }
      ]
    },
    {
      "cell_type": "code",
      "source": [
        "# evaluate predictions\n",
        "model2.score(X_train,y_train)"
      ],
      "metadata": {
        "colab": {
          "base_uri": "https://localhost:8080/"
        },
        "id": "mjDuhlVg5qHO",
        "outputId": "d2cd6a66-c0d0-4a3f-902e-06a63782711f"
      },
      "execution_count": null,
      "outputs": [
        {
          "output_type": "stream",
          "name": "stderr",
          "text": [
            "[Parallel(n_jobs=1)]: Using backend SequentialBackend with 1 concurrent workers.\n",
            "[Parallel(n_jobs=1)]: Done  50 out of  50 | elapsed:    0.1s finished\n"
          ]
        },
        {
          "output_type": "execute_result",
          "data": {
            "text/plain": [
              "0.8647485510012841"
            ]
          },
          "metadata": {},
          "execution_count": 66
        }
      ]
    },
    {
      "cell_type": "code",
      "source": [
        "importances = pd.DataFrame({\"columns\":X_train.columns, \"importances\":model.feature_importances_}).sort_values(\"importances\", ascending=False)"
      ],
      "metadata": {
        "id": "iOkWiMthzfy_"
      },
      "execution_count": null,
      "outputs": []
    },
    {
      "cell_type": "code",
      "source": [
        "importances2 = pd.DataFrame({\"columns\":X_train.columns, \"importances\":model2.feature_importances_}).sort_values(\"importances\", ascending=False)"
      ],
      "metadata": {
        "id": "9oGgnyLC5uCt"
      },
      "execution_count": null,
      "outputs": []
    },
    {
      "cell_type": "code",
      "source": [
        "importances.style.bar()"
      ],
      "metadata": {
        "colab": {
          "base_uri": "https://localhost:8080/",
          "height": 645
        },
        "id": "szhWzxSlzjEf",
        "outputId": "82028be5-3dd4-4305-f4dc-f6e90a28c256"
      },
      "execution_count": null,
      "outputs": [
        {
          "output_type": "execute_result",
          "data": {
            "text/plain": [
              "<pandas.io.formats.style.Styler at 0x7f6d47c5f810>"
            ],
            "text/html": [
              "<style type=\"text/css\">\n",
              "#T_a29ca_row0_col1 {\n",
              "  width: 10em;\n",
              "  height: 80%;\n",
              "  background: linear-gradient(90deg,#d65f5f 100.0%, transparent 100.0%);\n",
              "}\n",
              "#T_a29ca_row1_col1 {\n",
              "  width: 10em;\n",
              "  height: 80%;\n",
              "  background: linear-gradient(90deg,#d65f5f 55.8%, transparent 55.8%);\n",
              "}\n",
              "#T_a29ca_row2_col1 {\n",
              "  width: 10em;\n",
              "  height: 80%;\n",
              "  background: linear-gradient(90deg,#d65f5f 40.3%, transparent 40.3%);\n",
              "}\n",
              "#T_a29ca_row3_col1 {\n",
              "  width: 10em;\n",
              "  height: 80%;\n",
              "  background: linear-gradient(90deg,#d65f5f 30.8%, transparent 30.8%);\n",
              "}\n",
              "#T_a29ca_row4_col1 {\n",
              "  width: 10em;\n",
              "  height: 80%;\n",
              "  background: linear-gradient(90deg,#d65f5f 26.0%, transparent 26.0%);\n",
              "}\n",
              "#T_a29ca_row5_col1 {\n",
              "  width: 10em;\n",
              "  height: 80%;\n",
              "  background: linear-gradient(90deg,#d65f5f 22.6%, transparent 22.6%);\n",
              "}\n",
              "#T_a29ca_row6_col1 {\n",
              "  width: 10em;\n",
              "  height: 80%;\n",
              "  background: linear-gradient(90deg,#d65f5f 18.5%, transparent 18.5%);\n",
              "}\n",
              "#T_a29ca_row7_col1 {\n",
              "  width: 10em;\n",
              "  height: 80%;\n",
              "  background: linear-gradient(90deg,#d65f5f 15.9%, transparent 15.9%);\n",
              "}\n",
              "#T_a29ca_row8_col1 {\n",
              "  width: 10em;\n",
              "  height: 80%;\n",
              "  background: linear-gradient(90deg,#d65f5f 10.5%, transparent 10.5%);\n",
              "}\n",
              "#T_a29ca_row9_col1 {\n",
              "  width: 10em;\n",
              "  height: 80%;\n",
              "  background: linear-gradient(90deg,#d65f5f 10.1%, transparent 10.1%);\n",
              "}\n",
              "#T_a29ca_row10_col1 {\n",
              "  width: 10em;\n",
              "  height: 80%;\n",
              "  background: linear-gradient(90deg,#d65f5f 9.4%, transparent 9.4%);\n",
              "}\n",
              "#T_a29ca_row11_col1 {\n",
              "  width: 10em;\n",
              "  height: 80%;\n",
              "  background: linear-gradient(90deg,#d65f5f 4.5%, transparent 4.5%);\n",
              "}\n",
              "#T_a29ca_row12_col1 {\n",
              "  width: 10em;\n",
              "  height: 80%;\n",
              "  background: linear-gradient(90deg,#d65f5f 4.1%, transparent 4.1%);\n",
              "}\n",
              "#T_a29ca_row13_col1 {\n",
              "  width: 10em;\n",
              "  height: 80%;\n",
              "  background: linear-gradient(90deg,#d65f5f 3.6%, transparent 3.6%);\n",
              "}\n",
              "#T_a29ca_row14_col1 {\n",
              "  width: 10em;\n",
              "  height: 80%;\n",
              "  background: linear-gradient(90deg,#d65f5f 0.8%, transparent 0.8%);\n",
              "}\n",
              "#T_a29ca_row15_col1 {\n",
              "  width: 10em;\n",
              "  height: 80%;\n",
              "  background: linear-gradient(90deg,#d65f5f 0.3%, transparent 0.3%);\n",
              "}\n",
              "#T_a29ca_row16_col1 {\n",
              "  width: 10em;\n",
              "  height: 80%;\n",
              "  background: linear-gradient(90deg,#d65f5f 0.2%, transparent 0.2%);\n",
              "}\n",
              "#T_a29ca_row17_col1 {\n",
              "  width: 10em;\n",
              "  height: 80%;\n",
              "  background: linear-gradient(90deg,#d65f5f 0.1%, transparent 0.1%);\n",
              "}\n",
              "#T_a29ca_row18_col1 {\n",
              "  width: 10em;\n",
              "  height: 80%;\n",
              "}\n",
              "</style>\n",
              "<table id=\"T_a29ca_\" class=\"dataframe\">\n",
              "  <thead>\n",
              "    <tr>\n",
              "      <th class=\"blank level0\" >&nbsp;</th>\n",
              "      <th class=\"col_heading level0 col0\" >columns</th>\n",
              "      <th class=\"col_heading level0 col1\" >importances</th>\n",
              "    </tr>\n",
              "  </thead>\n",
              "  <tbody>\n",
              "    <tr>\n",
              "      <th id=\"T_a29ca_level0_row0\" class=\"row_heading level0 row0\" >2</th>\n",
              "      <td id=\"T_a29ca_row0_col0\" class=\"data row0 col0\" >CONTADOR_VISITAS</td>\n",
              "      <td id=\"T_a29ca_row0_col1\" class=\"data row0 col1\" >0.282574</td>\n",
              "    </tr>\n",
              "    <tr>\n",
              "      <th id=\"T_a29ca_level0_row1\" class=\"row_heading level0 row1\" >17</th>\n",
              "      <td id=\"T_a29ca_row1_col0\" class=\"data row1 col0\" >CANT_ACC_TRANSITO</td>\n",
              "      <td id=\"T_a29ca_row1_col1\" class=\"data row1 col1\" >0.157714</td>\n",
              "    </tr>\n",
              "    <tr>\n",
              "      <th id=\"T_a29ca_level0_row2\" class=\"row_heading level0 row2\" >16</th>\n",
              "      <td id=\"T_a29ca_row2_col0\" class=\"data row2 col0\" >CANT_ADULTOMAYOR</td>\n",
              "      <td id=\"T_a29ca_row2_col1\" class=\"data row2 col1\" >0.113864</td>\n",
              "    </tr>\n",
              "    <tr>\n",
              "      <th id=\"T_a29ca_level0_row3\" class=\"row_heading level0 row3\" >3</th>\n",
              "      <td id=\"T_a29ca_row3_col0\" class=\"data row3 col0\" >DEPARTAMENTO</td>\n",
              "      <td id=\"T_a29ca_row3_col1\" class=\"data row3 col1\" >0.087073</td>\n",
              "    </tr>\n",
              "    <tr>\n",
              "      <th id=\"T_a29ca_level0_row4\" class=\"row_heading level0 row4\" >9</th>\n",
              "      <td id=\"T_a29ca_row4_col0\" class=\"data row4 col0\" >Latitud</td>\n",
              "      <td id=\"T_a29ca_row4_col1\" class=\"data row4 col1\" >0.073427</td>\n",
              "    </tr>\n",
              "    <tr>\n",
              "      <th id=\"T_a29ca_level0_row5\" class=\"row_heading level0 row5\" >10</th>\n",
              "      <td id=\"T_a29ca_row5_col0\" class=\"data row5 col0\" >Longitud</td>\n",
              "      <td id=\"T_a29ca_row5_col1\" class=\"data row5 col1\" >0.063959</td>\n",
              "    </tr>\n",
              "    <tr>\n",
              "      <th id=\"T_a29ca_level0_row6\" class=\"row_heading level0 row6\" >11</th>\n",
              "      <td id=\"T_a29ca_row6_col0\" class=\"data row6 col0\" >TEMPERATURA</td>\n",
              "      <td id=\"T_a29ca_row6_col1\" class=\"data row6 col1\" >0.052368</td>\n",
              "    </tr>\n",
              "    <tr>\n",
              "      <th id=\"T_a29ca_level0_row7\" class=\"row_heading level0 row7\" >14</th>\n",
              "      <td id=\"T_a29ca_row7_col0\" class=\"data row7 col0\" >INDICE_DELITOS</td>\n",
              "      <td id=\"T_a29ca_row7_col1\" class=\"data row7 col1\" >0.045066</td>\n",
              "    </tr>\n",
              "    <tr>\n",
              "      <th id=\"T_a29ca_level0_row8\" class=\"row_heading level0 row8\" >12</th>\n",
              "      <td id=\"T_a29ca_row8_col0\" class=\"data row8 col0\" >HUMEDAD</td>\n",
              "      <td id=\"T_a29ca_row8_col1\" class=\"data row8 col1\" >0.029747</td>\n",
              "    </tr>\n",
              "    <tr>\n",
              "      <th id=\"T_a29ca_level0_row9\" class=\"row_heading level0 row9\" >15</th>\n",
              "      <td id=\"T_a29ca_row9_col0\" class=\"data row9 col0\" >CANT_FENO_NAT</td>\n",
              "      <td id=\"T_a29ca_row9_col1\" class=\"data row9 col1\" >0.028553</td>\n",
              "    </tr>\n",
              "    <tr>\n",
              "      <th id=\"T_a29ca_level0_row10\" class=\"row_heading level0 row10\" >4</th>\n",
              "      <td id=\"T_a29ca_row10_col0\" class=\"data row10 col0\" >VIA</td>\n",
              "      <td id=\"T_a29ca_row10_col1\" class=\"data row10 col1\" >0.026496</td>\n",
              "    </tr>\n",
              "    <tr>\n",
              "      <th id=\"T_a29ca_level0_row11\" class=\"row_heading level0 row11\" >0</th>\n",
              "      <td id=\"T_a29ca_row11_col0\" class=\"data row11 col0\" >SERVICIO</td>\n",
              "      <td id=\"T_a29ca_row11_col1\" class=\"data row11 col1\" >0.012841</td>\n",
              "    </tr>\n",
              "    <tr>\n",
              "      <th id=\"T_a29ca_level0_row12\" class=\"row_heading level0 row12\" >13</th>\n",
              "      <td id=\"T_a29ca_row12_col0\" class=\"data row12 col0\" >CLIMA</td>\n",
              "      <td id=\"T_a29ca_row12_col1\" class=\"data row12 col1\" >0.011560</td>\n",
              "    </tr>\n",
              "    <tr>\n",
              "      <th id=\"T_a29ca_level0_row13\" class=\"row_heading level0 row13\" >5</th>\n",
              "      <td id=\"T_a29ca_row13_col0\" class=\"data row13 col0\" >INCIDENCIA_MANIFIESTO</td>\n",
              "      <td id=\"T_a29ca_row13_col1\" class=\"data row13 col1\" >0.010221</td>\n",
              "    </tr>\n",
              "    <tr>\n",
              "      <th id=\"T_a29ca_level0_row14\" class=\"row_heading level0 row14\" >7</th>\n",
              "      <td id=\"T_a29ca_row14_col0\" class=\"data row14 col0\" >TIENE_JR</td>\n",
              "      <td id=\"T_a29ca_row14_col1\" class=\"data row14 col1\" >0.002333</td>\n",
              "    </tr>\n",
              "    <tr>\n",
              "      <th id=\"T_a29ca_level0_row15\" class=\"row_heading level0 row15\" >6</th>\n",
              "      <td id=\"T_a29ca_row15_col0\" class=\"data row15 col0\" >TIENE_AV</td>\n",
              "      <td id=\"T_a29ca_row15_col1\" class=\"data row15 col1\" >0.001017</td>\n",
              "    </tr>\n",
              "    <tr>\n",
              "      <th id=\"T_a29ca_level0_row16\" class=\"row_heading level0 row16\" >18</th>\n",
              "      <td id=\"T_a29ca_row16_col0\" class=\"data row16 col0\" >NO_TIENE_REF</td>\n",
              "      <td id=\"T_a29ca_row16_col1\" class=\"data row16 col1\" >0.000723</td>\n",
              "    </tr>\n",
              "    <tr>\n",
              "      <th id=\"T_a29ca_level0_row17\" class=\"row_heading level0 row17\" >8</th>\n",
              "      <td id=\"T_a29ca_row17_col0\" class=\"data row17 col0\" >TIENE_CALLE</td>\n",
              "      <td id=\"T_a29ca_row17_col1\" class=\"data row17 col1\" >0.000403</td>\n",
              "    </tr>\n",
              "    <tr>\n",
              "      <th id=\"T_a29ca_level0_row18\" class=\"row_heading level0 row18\" >1</th>\n",
              "      <td id=\"T_a29ca_row18_col0\" class=\"data row18 col0\" >PAQUETES</td>\n",
              "      <td id=\"T_a29ca_row18_col1\" class=\"data row18 col1\" >0.000059</td>\n",
              "    </tr>\n",
              "  </tbody>\n",
              "</table>\n"
            ]
          },
          "metadata": {},
          "execution_count": 69
        }
      ]
    },
    {
      "cell_type": "code",
      "source": [
        "importances2.style.bar()"
      ],
      "metadata": {
        "colab": {
          "base_uri": "https://localhost:8080/",
          "height": 645
        },
        "id": "iNH_K-z15x_o",
        "outputId": "971a3156-a4a1-48dd-d955-ae1a3c5965c3"
      },
      "execution_count": null,
      "outputs": [
        {
          "output_type": "execute_result",
          "data": {
            "text/plain": [
              "<pandas.io.formats.style.Styler at 0x7f6d47c46910>"
            ],
            "text/html": [
              "<style type=\"text/css\">\n",
              "#T_eaee8_row0_col1 {\n",
              "  width: 10em;\n",
              "  height: 80%;\n",
              "  background: linear-gradient(90deg,#d65f5f 100.0%, transparent 100.0%);\n",
              "}\n",
              "#T_eaee8_row1_col1 {\n",
              "  width: 10em;\n",
              "  height: 80%;\n",
              "  background: linear-gradient(90deg,#d65f5f 77.1%, transparent 77.1%);\n",
              "}\n",
              "#T_eaee8_row2_col1 {\n",
              "  width: 10em;\n",
              "  height: 80%;\n",
              "  background: linear-gradient(90deg,#d65f5f 64.7%, transparent 64.7%);\n",
              "}\n",
              "#T_eaee8_row3_col1 {\n",
              "  width: 10em;\n",
              "  height: 80%;\n",
              "  background: linear-gradient(90deg,#d65f5f 63.2%, transparent 63.2%);\n",
              "}\n",
              "#T_eaee8_row4_col1 {\n",
              "  width: 10em;\n",
              "  height: 80%;\n",
              "  background: linear-gradient(90deg,#d65f5f 54.6%, transparent 54.6%);\n",
              "}\n",
              "#T_eaee8_row5_col1 {\n",
              "  width: 10em;\n",
              "  height: 80%;\n",
              "  background: linear-gradient(90deg,#d65f5f 44.5%, transparent 44.5%);\n",
              "}\n",
              "#T_eaee8_row6_col1 {\n",
              "  width: 10em;\n",
              "  height: 80%;\n",
              "  background: linear-gradient(90deg,#d65f5f 31.0%, transparent 31.0%);\n",
              "}\n",
              "#T_eaee8_row7_col1 {\n",
              "  width: 10em;\n",
              "  height: 80%;\n",
              "  background: linear-gradient(90deg,#d65f5f 25.7%, transparent 25.7%);\n",
              "}\n",
              "#T_eaee8_row8_col1 {\n",
              "  width: 10em;\n",
              "  height: 80%;\n",
              "  background: linear-gradient(90deg,#d65f5f 20.4%, transparent 20.4%);\n",
              "}\n",
              "#T_eaee8_row9_col1 {\n",
              "  width: 10em;\n",
              "  height: 80%;\n",
              "  background: linear-gradient(90deg,#d65f5f 15.9%, transparent 15.9%);\n",
              "}\n",
              "#T_eaee8_row10_col1 {\n",
              "  width: 10em;\n",
              "  height: 80%;\n",
              "  background: linear-gradient(90deg,#d65f5f 12.3%, transparent 12.3%);\n",
              "}\n",
              "#T_eaee8_row11_col1 {\n",
              "  width: 10em;\n",
              "  height: 80%;\n",
              "  background: linear-gradient(90deg,#d65f5f 3.9%, transparent 3.9%);\n",
              "}\n",
              "#T_eaee8_row12_col1 {\n",
              "  width: 10em;\n",
              "  height: 80%;\n",
              "  background: linear-gradient(90deg,#d65f5f 3.7%, transparent 3.7%);\n",
              "}\n",
              "#T_eaee8_row13_col1 {\n",
              "  width: 10em;\n",
              "  height: 80%;\n",
              "  background: linear-gradient(90deg,#d65f5f 2.0%, transparent 2.0%);\n",
              "}\n",
              "#T_eaee8_row14_col1 {\n",
              "  width: 10em;\n",
              "  height: 80%;\n",
              "  background: linear-gradient(90deg,#d65f5f 1.0%, transparent 1.0%);\n",
              "}\n",
              "#T_eaee8_row15_col1 {\n",
              "  width: 10em;\n",
              "  height: 80%;\n",
              "  background: linear-gradient(90deg,#d65f5f 0.2%, transparent 0.2%);\n",
              "}\n",
              "#T_eaee8_row16_col1, #T_eaee8_row17_col1 {\n",
              "  width: 10em;\n",
              "  height: 80%;\n",
              "  background: linear-gradient(90deg,#d65f5f 0.1%, transparent 0.1%);\n",
              "}\n",
              "#T_eaee8_row18_col1 {\n",
              "  width: 10em;\n",
              "  height: 80%;\n",
              "}\n",
              "</style>\n",
              "<table id=\"T_eaee8_\" class=\"dataframe\">\n",
              "  <thead>\n",
              "    <tr>\n",
              "      <th class=\"blank level0\" >&nbsp;</th>\n",
              "      <th class=\"col_heading level0 col0\" >columns</th>\n",
              "      <th class=\"col_heading level0 col1\" >importances</th>\n",
              "    </tr>\n",
              "  </thead>\n",
              "  <tbody>\n",
              "    <tr>\n",
              "      <th id=\"T_eaee8_level0_row0\" class=\"row_heading level0 row0\" >17</th>\n",
              "      <td id=\"T_eaee8_row0_col0\" class=\"data row0 col0\" >CANT_ACC_TRANSITO</td>\n",
              "      <td id=\"T_eaee8_row0_col1\" class=\"data row0 col1\" >0.191738</td>\n",
              "    </tr>\n",
              "    <tr>\n",
              "      <th id=\"T_eaee8_level0_row1\" class=\"row_heading level0 row1\" >2</th>\n",
              "      <td id=\"T_eaee8_row1_col0\" class=\"data row1 col0\" >CONTADOR_VISITAS</td>\n",
              "      <td id=\"T_eaee8_row1_col1\" class=\"data row1 col1\" >0.147841</td>\n",
              "    </tr>\n",
              "    <tr>\n",
              "      <th id=\"T_eaee8_level0_row2\" class=\"row_heading level0 row2\" >16</th>\n",
              "      <td id=\"T_eaee8_row2_col0\" class=\"data row2 col0\" >CANT_ADULTOMAYOR</td>\n",
              "      <td id=\"T_eaee8_row2_col1\" class=\"data row2 col1\" >0.124184</td>\n",
              "    </tr>\n",
              "    <tr>\n",
              "      <th id=\"T_eaee8_level0_row3\" class=\"row_heading level0 row3\" >9</th>\n",
              "      <td id=\"T_eaee8_row3_col0\" class=\"data row3 col0\" >Latitud</td>\n",
              "      <td id=\"T_eaee8_row3_col1\" class=\"data row3 col1\" >0.121161</td>\n",
              "    </tr>\n",
              "    <tr>\n",
              "      <th id=\"T_eaee8_level0_row4\" class=\"row_heading level0 row4\" >10</th>\n",
              "      <td id=\"T_eaee8_row4_col0\" class=\"data row4 col0\" >Longitud</td>\n",
              "      <td id=\"T_eaee8_row4_col1\" class=\"data row4 col1\" >0.104682</td>\n",
              "    </tr>\n",
              "    <tr>\n",
              "      <th id=\"T_eaee8_level0_row5\" class=\"row_heading level0 row5\" >3</th>\n",
              "      <td id=\"T_eaee8_row5_col0\" class=\"data row5 col0\" >DEPARTAMENTO</td>\n",
              "      <td id=\"T_eaee8_row5_col1\" class=\"data row5 col1\" >0.085408</td>\n",
              "    </tr>\n",
              "    <tr>\n",
              "      <th id=\"T_eaee8_level0_row6\" class=\"row_heading level0 row6\" >11</th>\n",
              "      <td id=\"T_eaee8_row6_col0\" class=\"data row6 col0\" >TEMPERATURA</td>\n",
              "      <td id=\"T_eaee8_row6_col1\" class=\"data row6 col1\" >0.059581</td>\n",
              "    </tr>\n",
              "    <tr>\n",
              "      <th id=\"T_eaee8_level0_row7\" class=\"row_heading level0 row7\" >14</th>\n",
              "      <td id=\"T_eaee8_row7_col0\" class=\"data row7 col0\" >INDICE_DELITOS</td>\n",
              "      <td id=\"T_eaee8_row7_col1\" class=\"data row7 col1\" >0.049366</td>\n",
              "    </tr>\n",
              "    <tr>\n",
              "      <th id=\"T_eaee8_level0_row8\" class=\"row_heading level0 row8\" >15</th>\n",
              "      <td id=\"T_eaee8_row8_col0\" class=\"data row8 col0\" >CANT_FENO_NAT</td>\n",
              "      <td id=\"T_eaee8_row8_col1\" class=\"data row8 col1\" >0.039303</td>\n",
              "    </tr>\n",
              "    <tr>\n",
              "      <th id=\"T_eaee8_level0_row9\" class=\"row_heading level0 row9\" >12</th>\n",
              "      <td id=\"T_eaee8_row9_col0\" class=\"data row9 col0\" >HUMEDAD</td>\n",
              "      <td id=\"T_eaee8_row9_col1\" class=\"data row9 col1\" >0.030621</td>\n",
              "    </tr>\n",
              "    <tr>\n",
              "      <th id=\"T_eaee8_level0_row10\" class=\"row_heading level0 row10\" >4</th>\n",
              "      <td id=\"T_eaee8_row10_col0\" class=\"data row10 col0\" >VIA</td>\n",
              "      <td id=\"T_eaee8_row10_col1\" class=\"data row10 col1\" >0.023779</td>\n",
              "    </tr>\n",
              "    <tr>\n",
              "      <th id=\"T_eaee8_level0_row11\" class=\"row_heading level0 row11\" >5</th>\n",
              "      <td id=\"T_eaee8_row11_col0\" class=\"data row11 col0\" >INCIDENCIA_MANIFIESTO</td>\n",
              "      <td id=\"T_eaee8_row11_col1\" class=\"data row11 col1\" >0.007710</td>\n",
              "    </tr>\n",
              "    <tr>\n",
              "      <th id=\"T_eaee8_level0_row12\" class=\"row_heading level0 row12\" >0</th>\n",
              "      <td id=\"T_eaee8_row12_col0\" class=\"data row12 col0\" >SERVICIO</td>\n",
              "      <td id=\"T_eaee8_row12_col1\" class=\"data row12 col1\" >0.007181</td>\n",
              "    </tr>\n",
              "    <tr>\n",
              "      <th id=\"T_eaee8_level0_row13\" class=\"row_heading level0 row13\" >13</th>\n",
              "      <td id=\"T_eaee8_row13_col0\" class=\"data row13 col0\" >CLIMA</td>\n",
              "      <td id=\"T_eaee8_row13_col1\" class=\"data row13 col1\" >0.003963</td>\n",
              "    </tr>\n",
              "    <tr>\n",
              "      <th id=\"T_eaee8_level0_row14\" class=\"row_heading level0 row14\" >7</th>\n",
              "      <td id=\"T_eaee8_row14_col0\" class=\"data row14 col0\" >TIENE_JR</td>\n",
              "      <td id=\"T_eaee8_row14_col1\" class=\"data row14 col1\" >0.002124</td>\n",
              "    </tr>\n",
              "    <tr>\n",
              "      <th id=\"T_eaee8_level0_row15\" class=\"row_heading level0 row15\" >6</th>\n",
              "      <td id=\"T_eaee8_row15_col0\" class=\"data row15 col0\" >TIENE_AV</td>\n",
              "      <td id=\"T_eaee8_row15_col1\" class=\"data row15 col1\" >0.000499</td>\n",
              "    </tr>\n",
              "    <tr>\n",
              "      <th id=\"T_eaee8_level0_row16\" class=\"row_heading level0 row16\" >8</th>\n",
              "      <td id=\"T_eaee8_row16_col0\" class=\"data row16 col0\" >TIENE_CALLE</td>\n",
              "      <td id=\"T_eaee8_row16_col1\" class=\"data row16 col1\" >0.000396</td>\n",
              "    </tr>\n",
              "    <tr>\n",
              "      <th id=\"T_eaee8_level0_row17\" class=\"row_heading level0 row17\" >18</th>\n",
              "      <td id=\"T_eaee8_row17_col0\" class=\"data row17 col0\" >NO_TIENE_REF</td>\n",
              "      <td id=\"T_eaee8_row17_col1\" class=\"data row17 col1\" >0.000281</td>\n",
              "    </tr>\n",
              "    <tr>\n",
              "      <th id=\"T_eaee8_level0_row18\" class=\"row_heading level0 row18\" >1</th>\n",
              "      <td id=\"T_eaee8_row18_col0\" class=\"data row18 col0\" >PAQUETES</td>\n",
              "      <td id=\"T_eaee8_row18_col1\" class=\"data row18 col1\" >0.000183</td>\n",
              "    </tr>\n",
              "  </tbody>\n",
              "</table>\n"
            ]
          },
          "metadata": {},
          "execution_count": 70
        }
      ]
    },
    {
      "cell_type": "code",
      "source": [
        "from sklearn.metrics import accuracy_score\n",
        "# make predictions for test data\n",
        "y_pred = model.predict(X_test)\n",
        "predictions = [round(value) for value in y_pred]\n",
        "# evaluate predictions\n",
        "accuracy = accuracy_score(y_test, predictions)\n",
        "print(\"Accuracy: %.2f%%\" % (accuracy * 100.0))"
      ],
      "metadata": {
        "colab": {
          "base_uri": "https://localhost:8080/"
        },
        "id": "7KKjha4aCsXO",
        "outputId": "e28c096c-985f-4d22-e2ef-d652e2c261aa"
      },
      "execution_count": null,
      "outputs": [
        {
          "output_type": "stream",
          "name": "stdout",
          "text": [
            "Accuracy: 85.98%\n"
          ]
        },
        {
          "output_type": "stream",
          "name": "stderr",
          "text": [
            "[Parallel(n_jobs=1)]: Using backend SequentialBackend with 1 concurrent workers.\n",
            "[Parallel(n_jobs=1)]: Done  50 out of  50 | elapsed:    0.0s finished\n"
          ]
        }
      ]
    },
    {
      "cell_type": "code",
      "source": [
        "from sklearn.metrics import classification_report\n",
        "#target_names = [0,1,2,3,4,5,6,7]\n",
        "print(classification_report(y_test, predictions, labels=[0,1,2,3,4,5,6,7]))"
      ],
      "metadata": {
        "colab": {
          "base_uri": "https://localhost:8080/"
        },
        "id": "MNSAkL9JrZg1",
        "outputId": "4f76907c-ba50-4236-98bd-470e01e5c421"
      },
      "execution_count": null,
      "outputs": [
        {
          "output_type": "stream",
          "name": "stdout",
          "text": [
            "              precision    recall  f1-score   support\n",
            "\n",
            "           0       0.40      0.04      0.07       259\n",
            "           1       0.00      0.00      0.00       196\n",
            "           2       0.00      0.00      0.00       264\n",
            "           3       0.59      0.08      0.15       285\n",
            "           4       0.00      0.00      0.00        21\n",
            "           5       0.00      0.00      0.00         4\n",
            "           6       0.00      0.00      0.00        14\n",
            "           7       0.86      1.00      0.93      6161\n",
            "\n",
            "    accuracy                           0.86      7204\n",
            "   macro avg       0.23      0.14      0.14      7204\n",
            "weighted avg       0.78      0.86      0.80      7204\n",
            "\n"
          ]
        },
        {
          "output_type": "stream",
          "name": "stderr",
          "text": [
            "/usr/local/lib/python3.7/dist-packages/sklearn/metrics/_classification.py:1318: UndefinedMetricWarning: Precision and F-score are ill-defined and being set to 0.0 in labels with no predicted samples. Use `zero_division` parameter to control this behavior.\n",
            "  _warn_prf(average, modifier, msg_start, len(result))\n",
            "/usr/local/lib/python3.7/dist-packages/sklearn/metrics/_classification.py:1318: UndefinedMetricWarning: Precision and F-score are ill-defined and being set to 0.0 in labels with no predicted samples. Use `zero_division` parameter to control this behavior.\n",
            "  _warn_prf(average, modifier, msg_start, len(result))\n",
            "/usr/local/lib/python3.7/dist-packages/sklearn/metrics/_classification.py:1318: UndefinedMetricWarning: Precision and F-score are ill-defined and being set to 0.0 in labels with no predicted samples. Use `zero_division` parameter to control this behavior.\n",
            "  _warn_prf(average, modifier, msg_start, len(result))\n"
          ]
        }
      ]
    },
    {
      "cell_type": "code",
      "source": [
        "# make predictions for test data\n",
        "y_pred = model2.predict(X_test)\n",
        "predictions = [round(value) for value in y_pred]\n",
        "# evaluate predictions\n",
        "accuracy = accuracy_score(y_test, predictions)\n",
        "print(\"Accuracy: %.2f%%\" % (accuracy * 100.0))"
      ],
      "metadata": {
        "colab": {
          "base_uri": "https://localhost:8080/"
        },
        "id": "4nhaK12B6hle",
        "outputId": "b78c4021-b09d-43fa-b3d3-8c99ff393846"
      },
      "execution_count": null,
      "outputs": [
        {
          "output_type": "stream",
          "name": "stdout",
          "text": [
            "Accuracy: 85.73%\n"
          ]
        },
        {
          "output_type": "stream",
          "name": "stderr",
          "text": [
            "[Parallel(n_jobs=1)]: Using backend SequentialBackend with 1 concurrent workers.\n",
            "[Parallel(n_jobs=1)]: Done  50 out of  50 | elapsed:    0.1s finished\n"
          ]
        }
      ]
    },
    {
      "cell_type": "code",
      "source": [
        "print(classification_report(y_test, predictions, labels=[0,1,2,3,4,5,6,7]))"
      ],
      "metadata": {
        "colab": {
          "base_uri": "https://localhost:8080/"
        },
        "id": "eX9zDo8h6qa-",
        "outputId": "b8b704ec-c727-40e4-d4d6-64dd27c8940f"
      },
      "execution_count": null,
      "outputs": [
        {
          "output_type": "stream",
          "name": "stderr",
          "text": [
            "/usr/local/lib/python3.7/dist-packages/sklearn/metrics/_classification.py:1318: UndefinedMetricWarning: Precision and F-score are ill-defined and being set to 0.0 in labels with no predicted samples. Use `zero_division` parameter to control this behavior.\n",
            "  _warn_prf(average, modifier, msg_start, len(result))\n",
            "/usr/local/lib/python3.7/dist-packages/sklearn/metrics/_classification.py:1318: UndefinedMetricWarning: Precision and F-score are ill-defined and being set to 0.0 in labels with no predicted samples. Use `zero_division` parameter to control this behavior.\n",
            "  _warn_prf(average, modifier, msg_start, len(result))\n"
          ]
        },
        {
          "output_type": "stream",
          "name": "stdout",
          "text": [
            "              precision    recall  f1-score   support\n",
            "\n",
            "           0       0.50      0.01      0.02       259\n",
            "           1       0.00      0.00      0.00       196\n",
            "           2       0.00      0.00      0.00       264\n",
            "           3       0.72      0.05      0.09       285\n",
            "           4       0.00      0.00      0.00        21\n",
            "           5       0.00      0.00      0.00         4\n",
            "           6       0.00      0.00      0.00        14\n",
            "           7       0.86      1.00      0.92      6161\n",
            "\n",
            "    accuracy                           0.86      7204\n",
            "   macro avg       0.26      0.13      0.13      7204\n",
            "weighted avg       0.78      0.86      0.79      7204\n",
            "\n"
          ]
        },
        {
          "output_type": "stream",
          "name": "stderr",
          "text": [
            "/usr/local/lib/python3.7/dist-packages/sklearn/metrics/_classification.py:1318: UndefinedMetricWarning: Precision and F-score are ill-defined and being set to 0.0 in labels with no predicted samples. Use `zero_division` parameter to control this behavior.\n",
            "  _warn_prf(average, modifier, msg_start, len(result))\n"
          ]
        }
      ]
    },
    {
      "cell_type": "markdown",
      "source": [
        "# Matriz de confusión"
      ],
      "metadata": {
        "id": "5ByOY6wGvi8m"
      }
    },
    {
      "cell_type": "code",
      "execution_count": null,
      "metadata": {
        "id": "aVAeEH6t4sjU"
      },
      "outputs": [],
      "source": [
        "from sklearn.model_selection import train_test_split\n",
        "from sklearn.metrics import accuracy_score\n",
        "from sklearn.metrics import f1_score\n",
        "from sklearn.metrics import multilabel_confusion_matrix"
      ]
    },
    {
      "cell_type": "markdown",
      "source": [
        "![imagen.png](data:image/png;base64,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)"
      ],
      "metadata": {
        "id": "YNA4EnWIvnfc"
      }
    },
    {
      "cell_type": "code",
      "source": [
        "multilabel_confusion_matrix(y_test, predictions)"
      ],
      "metadata": {
        "colab": {
          "base_uri": "https://localhost:8080/"
        },
        "id": "SeMsU0-4vGcm",
        "outputId": "52d82a55-9fbc-409c-ecf6-61b0ad0fee3a"
      },
      "execution_count": null,
      "outputs": [
        {
          "output_type": "execute_result",
          "data": {
            "text/plain": [
              "array([[[6943,    2],\n",
              "        [ 257,    2]],\n",
              "\n",
              "       [[7008,    0],\n",
              "        [ 196,    0]],\n",
              "\n",
              "       [[6940,    0],\n",
              "        [ 264,    0]],\n",
              "\n",
              "       [[6914,    5],\n",
              "        [ 272,   13]],\n",
              "\n",
              "       [[7183,    0],\n",
              "        [  21,    0]],\n",
              "\n",
              "       [[7200,    0],\n",
              "        [   4,    0]],\n",
              "\n",
              "       [[7190,    0],\n",
              "        [  14,    0]],\n",
              "\n",
              "       [[  22, 1021],\n",
              "        [   0, 6161]]])"
            ]
          },
          "metadata": {},
          "execution_count": 76
        }
      ]
    },
    {
      "cell_type": "markdown",
      "source": [
        "# Métrica"
      ],
      "metadata": {
        "id": "2fmeSozhvtql"
      }
    },
    {
      "cell_type": "code",
      "source": [
        "metricF1_score = f1_score(y_test, predictions, average=None)"
      ],
      "metadata": {
        "id": "M6hYW0uzqiR2"
      },
      "execution_count": null,
      "outputs": []
    },
    {
      "cell_type": "code",
      "source": [
        "metricF1_score"
      ],
      "metadata": {
        "colab": {
          "base_uri": "https://localhost:8080/"
        },
        "id": "Gk1luveLsZAl",
        "outputId": "5ca2bc44-1fdb-4653-cc9a-e68d7cf5b9b9"
      },
      "execution_count": null,
      "outputs": [
        {
          "output_type": "execute_result",
          "data": {
            "text/plain": [
              "array([0.01520913, 0.        , 0.        , 0.08580858, 0.        ,\n",
              "       0.        , 0.        , 0.92348048])"
            ]
          },
          "metadata": {},
          "execution_count": 78
        }
      ]
    },
    {
      "cell_type": "code",
      "source": [
        "f1_score(y_test, predictions, average='macro')"
      ],
      "metadata": {
        "colab": {
          "base_uri": "https://localhost:8080/"
        },
        "id": "JWmRttq_r4jr",
        "outputId": "d85302f2-cfc1-4c60-d3ad-c6ca0fe35201"
      },
      "execution_count": null,
      "outputs": [
        {
          "output_type": "execute_result",
          "data": {
            "text/plain": [
              "0.12806227287347455"
            ]
          },
          "metadata": {},
          "execution_count": 79
        }
      ]
    }
  ],
  "metadata": {
    "colab": {
      "collapsed_sections": [],
      "provenance": []
    },
    "kernelspec": {
      "display_name": "Python 3",
      "name": "python3"
    },
    "language_info": {
      "name": "python"
    }
  },
  "nbformat": 4,
  "nbformat_minor": 0
}